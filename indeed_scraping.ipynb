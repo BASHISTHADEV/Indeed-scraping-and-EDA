{
 "cells": [
  {
   "cell_type": "markdown",
   "metadata": {},
   "source": [
    "Indeed posts listings for job seekers in every industry, every level from entry to executive, and every lifestyle (freelance, part-time, internship, full-time). Candidates can search by job title and location, salary range, date posted, and experience level."
   ]
  },
  {
   "cell_type": "markdown",
   "metadata": {},
   "source": [
    " Scraping \"Data Science\" related jobs in all over india on Indeed."
   ]
  },
  {
   "cell_type": "markdown",
   "metadata": {},
   "source": [
    "### Note: This is only for practice,This will not use any kind of business purposes."
   ]
  },
  {
   "cell_type": "code",
   "execution_count": null,
   "metadata": {},
   "outputs": [],
   "source": [
    "from bs4 import BeautifulSoup\n",
    "import requests\n",
    "import pandas as pd\n",
    "import csv\n",
    "import numpy as np"
   ]
  },
  {
   "cell_type": "code",
   "execution_count": null,
   "metadata": {},
   "outputs": [],
   "source": [
    "csv_file=open('indeed_datasciencejob.csv','w',encoding='utf-8')\n",
    "csv_writer = csv.writer(csv_file)\n",
    "csv_writer.writerow(['JobTitle','Salary','CompanyName','CompanyRating','JobLocation','Summary','Date'])\n",
    "pages=range(0,670,10)\n",
    "\n",
    "\n",
    "for page in pages:\n",
    "   \n",
    "    source=requests.get('https://www.indeed.co.in/jobs?q=data+science&start={}'.format(page),'lxml').text\n",
    "    soup=BeautifulSoup(source)\n",
    "    containers=soup.findAll('div',{'data-tn-component':\"organicJob\"})\n",
    "    \n",
    "    \n",
    "    for container in containers: \n",
    "        \n",
    "        JobTitle=container.find('a',class_='jobtitle turnstileLink')['title']\n",
    "        JobLocation=container.find('div',class_='recJobLoc')['data-rc-loc']\n",
    "        Date=container.find('span',class_='date').text\n",
    "\n",
    "       \n",
    "        try:\n",
    "            CompanyName=container.find('span',class_='company').text.strip('\\n')\n",
    "        except Exception as e:\n",
    "             CompanyName=np.NaN\n",
    "        try:        \n",
    "            CompanyRating=container.find('span',class_='ratingsContent').text.strip('\\n')\n",
    "        except Exception as e:\n",
    "            CompanyRating=np.NaN\n",
    "        try:\n",
    "            Salary=container.find('span',class_='salaryText').text.strip('\\n').replace('₹','').replace(',','')\n",
    "        except Exception as e:\n",
    "             Salary=np.NaN\n",
    "        try:\n",
    "            Summary=container.find('li').text\n",
    "        except Exception as e:\n",
    "             Summary=np.NaN\n",
    "        \n",
    "                \n",
    "               \n",
    "        \n",
    "       # print(JobTitle+ ','+Salary+','+CompanyName+','+CompanyRating + ',' + JobLocation + ','+Summary+','+Date+'\\n')\n",
    "        csv_writer.writerow([JobTitle,Salary,CompanyName,CompanyRating,JobLocation,Summary,Date])\n",
    "csv_file.close()\n"
   ]
  }
 ],
 "metadata": {
  "kernelspec": {
   "display_name": "Python 3",
   "language": "python",
   "name": "python3"
  },
  "language_info": {
   "codemirror_mode": {
    "name": "ipython",
    "version": 3
   },
   "file_extension": ".py",
   "mimetype": "text/x-python",
   "name": "python",
   "nbconvert_exporter": "python",
   "pygments_lexer": "ipython3",
   "version": "3.7.6"
  }
 },
 "nbformat": 4,
 "nbformat_minor": 4
}

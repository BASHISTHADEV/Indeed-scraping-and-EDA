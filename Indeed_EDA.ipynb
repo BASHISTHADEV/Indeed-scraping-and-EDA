{
 "cells": [
  {
   "cell_type": "markdown",
   "metadata": {},
   "source": [
    "Amongst the leading job portals in India, Indeed is used to search for jobs from across the country. Indeed is also playing its role in provided jobs during this pandemic through its Coronavirus Job Resources.The 15-year-old US-based site, considered as one of the best job portals in India, has expanded its reach to more than 60 countries worldwide.  "
   ]
  },
  {
   "cell_type": "markdown",
   "metadata": {},
   "source": [
    "#### Indeed have :\n",
    "Facebook followers – 1,919,726  <br> Twitter followers – 222K"
   ]
  },
  {
   "cell_type": "markdown",
   "metadata": {},
   "source": [
    "###### Let's explore the data :"
   ]
  },
  {
   "cell_type": "code",
   "execution_count": 108,
   "metadata": {},
   "outputs": [],
   "source": [
    "import numpy as np\n",
    "import pandas as pd \n",
    "import matplotlib.pyplot as plt\n",
    "import re\n",
    "from wordcloud import WordCloud\n",
    "from nltk.tokenize import RegexpTokenizer\n",
    "import plotly\n",
    "import plotly.express as px\n",
    "import plotly.graph_objects as go"
   ]
  },
  {
   "cell_type": "code",
   "execution_count": 109,
   "metadata": {},
   "outputs": [],
   "source": [
    "df=pd.read_csv('indeed_datasciencejob.csv')"
   ]
  },
  {
   "cell_type": "code",
   "execution_count": 110,
   "metadata": {},
   "outputs": [
    {
     "data": {
      "text/html": [
       "<div>\n",
       "<style scoped>\n",
       "    .dataframe tbody tr th:only-of-type {\n",
       "        vertical-align: middle;\n",
       "    }\n",
       "\n",
       "    .dataframe tbody tr th {\n",
       "        vertical-align: top;\n",
       "    }\n",
       "\n",
       "    .dataframe thead th {\n",
       "        text-align: right;\n",
       "    }\n",
       "</style>\n",
       "<table border=\"1\" class=\"dataframe\">\n",
       "  <thead>\n",
       "    <tr style=\"text-align: right;\">\n",
       "      <th></th>\n",
       "      <th>JobTitle</th>\n",
       "      <th>Salary</th>\n",
       "      <th>CompanyName</th>\n",
       "      <th>CompanyRating</th>\n",
       "      <th>JobLocation</th>\n",
       "      <th>Summary</th>\n",
       "      <th>Date</th>\n",
       "    </tr>\n",
       "  </thead>\n",
       "  <tbody>\n",
       "    <tr>\n",
       "      <th>0</th>\n",
       "      <td>Data Science-DL-</td>\n",
       "      <td>NaN</td>\n",
       "      <td>Aditya Birla Group</td>\n",
       "      <td>4.1</td>\n",
       "      <td>Maharashtra</td>\n",
       "      <td>As such, the role of a data scientist is respo...</td>\n",
       "      <td>Today</td>\n",
       "    </tr>\n",
       "    <tr>\n",
       "      <th>1</th>\n",
       "      <td>Data Science Intern</td>\n",
       "      <td>12000 a month</td>\n",
       "      <td>Virtual Sense Global Technologies</td>\n",
       "      <td>NaN</td>\n",
       "      <td>Pune, Maharashtra</td>\n",
       "      <td>Virtual Sense is a digital health company work...</td>\n",
       "      <td>13 days ago</td>\n",
       "    </tr>\n",
       "    <tr>\n",
       "      <th>2</th>\n",
       "      <td>Data Science Internship</td>\n",
       "      <td>8000 - 15000 a month</td>\n",
       "      <td>Quadratyx</td>\n",
       "      <td>2.0</td>\n",
       "      <td>Hyderabad, Telangana</td>\n",
       "      <td>Demonstrate skills working with teams to deliv...</td>\n",
       "      <td>Today</td>\n",
       "    </tr>\n",
       "    <tr>\n",
       "      <th>3</th>\n",
       "      <td>Data Analyst</td>\n",
       "      <td>600000 - 1000000 a year</td>\n",
       "      <td>Bombinate Technologies (Koo App)</td>\n",
       "      <td>NaN</td>\n",
       "      <td>Jayanagar, Bengaluru, Karnataka</td>\n",
       "      <td>Work closely with the data science team to hel...</td>\n",
       "      <td>Today</td>\n",
       "    </tr>\n",
       "    <tr>\n",
       "      <th>4</th>\n",
       "      <td>Data Scientist</td>\n",
       "      <td>40000 - 60000 a month</td>\n",
       "      <td>INEXTURE SOLUTIONS</td>\n",
       "      <td>4.5</td>\n",
       "      <td>Ahmedabad, Gujarat</td>\n",
       "      <td>Understanding of data structures, data modelin...</td>\n",
       "      <td>Just posted</td>\n",
       "    </tr>\n",
       "  </tbody>\n",
       "</table>\n",
       "</div>"
      ],
      "text/plain": [
       "                  JobTitle                   Salary  \\\n",
       "0         Data Science-DL-                      NaN   \n",
       "1      Data Science Intern            12000 a month   \n",
       "2  Data Science Internship     8000 - 15000 a month   \n",
       "3             Data Analyst  600000 - 1000000 a year   \n",
       "4           Data Scientist    40000 - 60000 a month   \n",
       "\n",
       "                         CompanyName  CompanyRating  \\\n",
       "0                 Aditya Birla Group            4.1   \n",
       "1  Virtual Sense Global Technologies            NaN   \n",
       "2                          Quadratyx            2.0   \n",
       "3   Bombinate Technologies (Koo App)            NaN   \n",
       "4                 INEXTURE SOLUTIONS            4.5   \n",
       "\n",
       "                       JobLocation  \\\n",
       "0                      Maharashtra   \n",
       "1                Pune, Maharashtra   \n",
       "2             Hyderabad, Telangana   \n",
       "3  Jayanagar, Bengaluru, Karnataka   \n",
       "4               Ahmedabad, Gujarat   \n",
       "\n",
       "                                             Summary         Date  \n",
       "0  As such, the role of a data scientist is respo...        Today  \n",
       "1  Virtual Sense is a digital health company work...  13 days ago  \n",
       "2  Demonstrate skills working with teams to deliv...        Today  \n",
       "3  Work closely with the data science team to hel...        Today  \n",
       "4  Understanding of data structures, data modelin...  Just posted  "
      ]
     },
     "execution_count": 110,
     "metadata": {},
     "output_type": "execute_result"
    }
   ],
   "source": [
    "df.head()"
   ]
  },
  {
   "cell_type": "code",
   "execution_count": 111,
   "metadata": {},
   "outputs": [
    {
     "data": {
      "text/html": [
       "<div>\n",
       "<style scoped>\n",
       "    .dataframe tbody tr th:only-of-type {\n",
       "        vertical-align: middle;\n",
       "    }\n",
       "\n",
       "    .dataframe tbody tr th {\n",
       "        vertical-align: top;\n",
       "    }\n",
       "\n",
       "    .dataframe thead th {\n",
       "        text-align: right;\n",
       "    }\n",
       "</style>\n",
       "<table border=\"1\" class=\"dataframe\">\n",
       "  <thead>\n",
       "    <tr style=\"text-align: right;\">\n",
       "      <th></th>\n",
       "      <th>JobTitle</th>\n",
       "      <th>Salary</th>\n",
       "      <th>CompanyName</th>\n",
       "      <th>CompanyRating</th>\n",
       "      <th>JobLocation</th>\n",
       "      <th>Summary</th>\n",
       "      <th>Date</th>\n",
       "    </tr>\n",
       "  </thead>\n",
       "  <tbody>\n",
       "    <tr>\n",
       "      <th>900</th>\n",
       "      <td>Senior Associate - Geospatial Lab (Image Proce...</td>\n",
       "      <td>NaN</td>\n",
       "      <td>Indian Institute for Human Settlements</td>\n",
       "      <td>4.3</td>\n",
       "      <td>Bengaluru, Karnataka</td>\n",
       "      <td>Prior work experience with urban data and urba...</td>\n",
       "      <td>1 day ago</td>\n",
       "    </tr>\n",
       "    <tr>\n",
       "      <th>901</th>\n",
       "      <td>BI/Tableau Developer - VP</td>\n",
       "      <td>NaN</td>\n",
       "      <td>AQR</td>\n",
       "      <td>NaN</td>\n",
       "      <td>Bengaluru, Karnataka</td>\n",
       "      <td>Overall experience of 8+ Years on data visuali...</td>\n",
       "      <td>9 days ago</td>\n",
       "    </tr>\n",
       "    <tr>\n",
       "      <th>902</th>\n",
       "      <td>Customer Service Admin</td>\n",
       "      <td>NaN</td>\n",
       "      <td>Agilent Technologies, Inc.</td>\n",
       "      <td>4.1</td>\n",
       "      <td>Gurgaon, Haryana</td>\n",
       "      <td>Uses accounting and financial systems and tool...</td>\n",
       "      <td>2 days ago</td>\n",
       "    </tr>\n",
       "    <tr>\n",
       "      <th>903</th>\n",
       "      <td>Paid College Ambassadors/Representative Intern...</td>\n",
       "      <td>3000 a month</td>\n",
       "      <td>Ivy Professional School</td>\n",
       "      <td>NaN</td>\n",
       "      <td>Remote</td>\n",
       "      <td>Do you like to mingle with people?</td>\n",
       "      <td>16 days ago</td>\n",
       "    </tr>\n",
       "    <tr>\n",
       "      <th>904</th>\n",
       "      <td>Lead Data Engineer</td>\n",
       "      <td>NaN</td>\n",
       "      <td>Baker Hughes</td>\n",
       "      <td>4.0</td>\n",
       "      <td>Mumbai, Maharashtra</td>\n",
       "      <td>Perform variety of in-depth data analysis, dat...</td>\n",
       "      <td>30+ days ago</td>\n",
       "    </tr>\n",
       "  </tbody>\n",
       "</table>\n",
       "</div>"
      ],
      "text/plain": [
       "                                              JobTitle        Salary  \\\n",
       "900  Senior Associate - Geospatial Lab (Image Proce...           NaN   \n",
       "901                          BI/Tableau Developer - VP           NaN   \n",
       "902                             Customer Service Admin           NaN   \n",
       "903  Paid College Ambassadors/Representative Intern...  3000 a month   \n",
       "904                                 Lead Data Engineer           NaN   \n",
       "\n",
       "                                CompanyName  CompanyRating  \\\n",
       "900  Indian Institute for Human Settlements            4.3   \n",
       "901                                     AQR            NaN   \n",
       "902              Agilent Technologies, Inc.            4.1   \n",
       "903                 Ivy Professional School            NaN   \n",
       "904                            Baker Hughes            4.0   \n",
       "\n",
       "              JobLocation                                            Summary  \\\n",
       "900  Bengaluru, Karnataka  Prior work experience with urban data and urba...   \n",
       "901  Bengaluru, Karnataka  Overall experience of 8+ Years on data visuali...   \n",
       "902      Gurgaon, Haryana  Uses accounting and financial systems and tool...   \n",
       "903                Remote                 Do you like to mingle with people?   \n",
       "904   Mumbai, Maharashtra  Perform variety of in-depth data analysis, dat...   \n",
       "\n",
       "             Date  \n",
       "900     1 day ago  \n",
       "901    9 days ago  \n",
       "902    2 days ago  \n",
       "903   16 days ago  \n",
       "904  30+ days ago  "
      ]
     },
     "execution_count": 111,
     "metadata": {},
     "output_type": "execute_result"
    }
   ],
   "source": [
    "df.tail()"
   ]
  },
  {
   "cell_type": "code",
   "execution_count": 112,
   "metadata": {},
   "outputs": [
    {
     "data": {
      "text/plain": [
       "JobTitle          object\n",
       "Salary            object\n",
       "CompanyName       object\n",
       "CompanyRating    float64\n",
       "JobLocation       object\n",
       "Summary           object\n",
       "Date              object\n",
       "dtype: object"
      ]
     },
     "execution_count": 112,
     "metadata": {},
     "output_type": "execute_result"
    }
   ],
   "source": [
    "df.dtypes"
   ]
  },
  {
   "cell_type": "code",
   "execution_count": 113,
   "metadata": {},
   "outputs": [
    {
     "data": {
      "text/html": [
       "<div>\n",
       "<style scoped>\n",
       "    .dataframe tbody tr th:only-of-type {\n",
       "        vertical-align: middle;\n",
       "    }\n",
       "\n",
       "    .dataframe tbody tr th {\n",
       "        vertical-align: top;\n",
       "    }\n",
       "\n",
       "    .dataframe thead th {\n",
       "        text-align: right;\n",
       "    }\n",
       "</style>\n",
       "<table border=\"1\" class=\"dataframe\">\n",
       "  <thead>\n",
       "    <tr style=\"text-align: right;\">\n",
       "      <th></th>\n",
       "      <th>JobTitle</th>\n",
       "      <th>Salary</th>\n",
       "      <th>CompanyName</th>\n",
       "      <th>JobLocation</th>\n",
       "      <th>Summary</th>\n",
       "      <th>Date</th>\n",
       "    </tr>\n",
       "  </thead>\n",
       "  <tbody>\n",
       "    <tr>\n",
       "      <th>count</th>\n",
       "      <td>905</td>\n",
       "      <td>172</td>\n",
       "      <td>905</td>\n",
       "      <td>905</td>\n",
       "      <td>905</td>\n",
       "      <td>905</td>\n",
       "    </tr>\n",
       "    <tr>\n",
       "      <th>unique</th>\n",
       "      <td>569</td>\n",
       "      <td>114</td>\n",
       "      <td>575</td>\n",
       "      <td>77</td>\n",
       "      <td>731</td>\n",
       "      <td>32</td>\n",
       "    </tr>\n",
       "    <tr>\n",
       "      <th>top</th>\n",
       "      <td>Data Scientist</td>\n",
       "      <td>5000 a month</td>\n",
       "      <td>Cognizant</td>\n",
       "      <td>Bengaluru, Karnataka</td>\n",
       "      <td>Develop custom data models and algorithms to a...</td>\n",
       "      <td>30+ days ago</td>\n",
       "    </tr>\n",
       "    <tr>\n",
       "      <th>freq</th>\n",
       "      <td>87</td>\n",
       "      <td>6</td>\n",
       "      <td>19</td>\n",
       "      <td>283</td>\n",
       "      <td>7</td>\n",
       "      <td>351</td>\n",
       "    </tr>\n",
       "  </tbody>\n",
       "</table>\n",
       "</div>"
      ],
      "text/plain": [
       "              JobTitle        Salary CompanyName           JobLocation  \\\n",
       "count              905           172         905                   905   \n",
       "unique             569           114         575                    77   \n",
       "top     Data Scientist  5000 a month   Cognizant  Bengaluru, Karnataka   \n",
       "freq                87             6          19                   283   \n",
       "\n",
       "                                                  Summary          Date  \n",
       "count                                                 905           905  \n",
       "unique                                                731            32  \n",
       "top     Develop custom data models and algorithms to a...  30+ days ago  \n",
       "freq                                                    7           351  "
      ]
     },
     "execution_count": 113,
     "metadata": {},
     "output_type": "execute_result"
    }
   ],
   "source": [
    "df.describe(include=object)"
   ]
  },
  {
   "cell_type": "code",
   "execution_count": 114,
   "metadata": {},
   "outputs": [
    {
     "data": {
      "text/html": [
       "<div>\n",
       "<style scoped>\n",
       "    .dataframe tbody tr th:only-of-type {\n",
       "        vertical-align: middle;\n",
       "    }\n",
       "\n",
       "    .dataframe tbody tr th {\n",
       "        vertical-align: top;\n",
       "    }\n",
       "\n",
       "    .dataframe thead th {\n",
       "        text-align: right;\n",
       "    }\n",
       "</style>\n",
       "<table border=\"1\" class=\"dataframe\">\n",
       "  <thead>\n",
       "    <tr style=\"text-align: right;\">\n",
       "      <th></th>\n",
       "      <th>Total</th>\n",
       "      <th>Percent</th>\n",
       "      <th>Data_Type</th>\n",
       "    </tr>\n",
       "  </thead>\n",
       "  <tbody>\n",
       "    <tr>\n",
       "      <th>Salary</th>\n",
       "      <td>733</td>\n",
       "      <td>80.99</td>\n",
       "      <td>object</td>\n",
       "    </tr>\n",
       "    <tr>\n",
       "      <th>CompanyRating</th>\n",
       "      <td>431</td>\n",
       "      <td>47.62</td>\n",
       "      <td>float64</td>\n",
       "    </tr>\n",
       "  </tbody>\n",
       "</table>\n",
       "</div>"
      ],
      "text/plain": [
       "               Total  Percent Data_Type\n",
       "Salary           733    80.99    object\n",
       "CompanyRating    431    47.62   float64"
      ]
     },
     "execution_count": 114,
     "metadata": {},
     "output_type": "execute_result"
    }
   ],
   "source": [
    "def missing_data(data):\n",
    "    total=df.isna().sum().sort_values(ascending=False)\n",
    "    total=total[total !=0]\n",
    "    percent=round(total/len(df)*100,2)\n",
    "    data_type=df[data.isna().sum().sort_values(ascending=False)[data.isna().sum()!=0].index].dtypes\n",
    "    return(pd.concat([total,percent,data_type],1,keys=['Total','Percent','Data_Type']))\n",
    "missing_data(df)"
   ]
  },
  {
   "cell_type": "markdown",
   "metadata": {},
   "source": [
    " * Here 80.99% salary of job roles were not disclosed by the companies, we should delete the variable and pretend it never existed.\n",
    " * 47.62% companies were not rated by the indeed users, but here we can get top rated companies on indeed.So we should keep the variable and to ignore NaN value we will replace it to 0.1 rating.\n",
    " \n"
   ]
  },
  {
   "cell_type": "code",
   "execution_count": 115,
   "metadata": {},
   "outputs": [],
   "source": [
    "df.drop(columns='Salary',inplace=True)"
   ]
  },
  {
   "cell_type": "code",
   "execution_count": 116,
   "metadata": {},
   "outputs": [],
   "source": [
    "df['CompanyRating'] = df['CompanyRating'].fillna(0.1)"
   ]
  },
  {
   "cell_type": "code",
   "execution_count": 117,
   "metadata": {},
   "outputs": [
    {
     "data": {
      "text/html": [
       "<div>\n",
       "<style scoped>\n",
       "    .dataframe tbody tr th:only-of-type {\n",
       "        vertical-align: middle;\n",
       "    }\n",
       "\n",
       "    .dataframe tbody tr th {\n",
       "        vertical-align: top;\n",
       "    }\n",
       "\n",
       "    .dataframe thead th {\n",
       "        text-align: right;\n",
       "    }\n",
       "</style>\n",
       "<table border=\"1\" class=\"dataframe\">\n",
       "  <thead>\n",
       "    <tr style=\"text-align: right;\">\n",
       "      <th></th>\n",
       "      <th>Total</th>\n",
       "      <th>Percent</th>\n",
       "      <th>Data_Type</th>\n",
       "    </tr>\n",
       "  </thead>\n",
       "  <tbody>\n",
       "  </tbody>\n",
       "</table>\n",
       "</div>"
      ],
      "text/plain": [
       "Empty DataFrame\n",
       "Columns: [Total, Percent, Data_Type]\n",
       "Index: []"
      ]
     },
     "execution_count": 117,
     "metadata": {},
     "output_type": "execute_result"
    }
   ],
   "source": [
    "missing_data(df)"
   ]
  },
  {
   "cell_type": "markdown",
   "metadata": {},
   "source": [
    "### let's dive deeper"
   ]
  },
  {
   "cell_type": "code",
   "execution_count": 118,
   "metadata": {},
   "outputs": [],
   "source": [
    "df_temp=df.copy()"
   ]
  },
  {
   "cell_type": "code",
   "execution_count": 119,
   "metadata": {},
   "outputs": [
    {
     "data": {
      "text/plain": [
       "count                905\n",
       "unique               569\n",
       "top       Data Scientist\n",
       "freq                  87\n",
       "Name: JobTitle, dtype: object"
      ]
     },
     "execution_count": 119,
     "metadata": {},
     "output_type": "execute_result"
    }
   ],
   "source": [
    "df_temp['JobTitle'].describe()"
   ]
  },
  {
   "cell_type": "markdown",
   "metadata": {},
   "source": [
    " companies gave their job title as unique as possible,it's way of attracting jobseekers. <br> Lets generalise the Job titles as high as possible without lossing important data !"
   ]
  },
  {
   "cell_type": "code",
   "execution_count": 120,
   "metadata": {},
   "outputs": [
    {
     "data": {
      "text/plain": [
       "Data Scientist                                           87\n",
       "Data Analyst                                             37\n",
       "Data Engineer                                            35\n",
       "Data Science Engineer                                    10\n",
       "Senior Data Scientist                                    10\n",
       "Data Science Internship                                   8\n",
       "Data Science Intern                                       7\n",
       "Junior Data Analyst                                       6\n",
       "Lead Data Scientist                                       6\n",
       "Big Data Engineer                                         5\n",
       "Data Science Developer                                    5\n",
       "Medical Editor                                            4\n",
       "Data Analytics Internship                                 4\n",
       "DATA SCIENTIST                                            4\n",
       "Research Associate                                        4\n",
       "Data Science Trainer                                      4\n",
       "Sr. Data Scientist                                        4\n",
       "Data Engineer III                                         4\n",
       "Senior Data Engineer                                      4\n",
       "Data Science Manager                                      4\n",
       "Manager - Data Science                                    3\n",
       "Manager                                                   3\n",
       "Director, Data Science                                    3\n",
       "Data Science                                              3\n",
       "Business Analyst - Data Science                           3\n",
       "Business Analyst                                          3\n",
       "Data Scientist DA4AD                                      3\n",
       "Sr. Data Science & AI Engineer (Java,Python)              3\n",
       "Machine Learning Internship                               3\n",
       "Data Scientist - C++ Programming                          2\n",
       "Senior Talent Sourcer                                     2\n",
       "Senior Machine Learning Engineer                          2\n",
       "Data Scientist –Technology                                2\n",
       "Data science trainer                                      2\n",
       "Director, Data Science, Secondary Research Service        2\n",
       "Big Data part time job/internship at Delhi                2\n",
       "Data Scientist - Predictive Analytics                     2\n",
       "Data Analyst - Retail Banking Data Management             2\n",
       "Sr. Data Analyst                                          2\n",
       "Data Scientist - Associate                                2\n",
       "Data Engineer - QuantumBlack                              2\n",
       "Analyst, Analytics & Benchmarking                         2\n",
       "Data Administrator - Remote Position                      2\n",
       "Senior Associate Scientist I - Agricultural Economics     2\n",
       "Data Integration Engineer                                 2\n",
       "Data Science Lead                                         2\n",
       "Manager - Analytics                                       2\n",
       "Machine Learning and Computer Vision Engineers            2\n",
       "Building Sciences / Civil Engineers or Technologists      2\n",
       "Programmer Analyst                                        2\n",
       "Name: JobTitle, dtype: int64"
      ]
     },
     "execution_count": 120,
     "metadata": {},
     "output_type": "execute_result"
    }
   ],
   "source": [
    "df_temp['JobTitle'].value_counts()[:50]"
   ]
  },
  {
   "cell_type": "markdown",
   "metadata": {},
   "source": [
    "#### Observation for what makes same meaning job titles different \n",
    "* Using of lowercase anad uppercase\n",
    "* Using differnt symbols\n",
    "* Using Various synonyms,i.e. senior,sr.sr,lead,head all are almost similar meaning"
   ]
  },
  {
   "cell_type": "code",
   "execution_count": 121,
   "metadata": {},
   "outputs": [],
   "source": [
    "df_temp['JobTitle']= df['JobTitle'].str.lower() #Lowercasing all letters"
   ]
  },
  {
   "cell_type": "code",
   "execution_count": 122,
   "metadata": {},
   "outputs": [],
   "source": [
    "#Replace symbols with space\n",
    "df_temp['JobTitle']=df_temp['JobTitle'].str.replace('_|-',' ')\n",
    "df_temp['JobTitle']=df_temp['JobTitle'].str.replace('/',' ')\n",
    "df_temp['JobTitle']=df_temp['JobTitle'].str.replace('  ',' ')"
   ]
  },
  {
   "cell_type": "code",
   "execution_count": 123,
   "metadata": {},
   "outputs": [],
   "source": [
    "#Remove unnessecery numbers\n",
    "df_temp['JobTitle']=df_temp['JobTitle'].str.replace('[^a-z\\s]','')\n",
    "#df_temp['JobTitle']=df_temp['JobTitle'].str.replace('\\d','')"
   ]
  },
  {
   "cell_type": "code",
   "execution_count": 124,
   "metadata": {},
   "outputs": [],
   "source": [
    "#Replace same types of words with one similer meaning word\n",
    "df_temp['JobTitle']=df_temp['JobTitle'].str.replace('sr.|sr|lead|head|expert|specialist|manager','senior')\n",
    "df_temp['JobTitle']=df_temp['JobTitle'].str.replace('jr.|jr|fresher','junior')\n",
    "df_temp['JobTitle']=df_temp['JobTitle'].str.replace('science','scientist')\n",
    "df_temp['JobTitle']=df_temp['JobTitle'].str.replace('analytics|analysts|analysis','analyst')\n",
    "df_temp['JobTitle']=df_temp['JobTitle'].str.replace('development','developer')\n",
    "df_temp['JobTitle']=df_temp['JobTitle'].str.replace('ml','machine learning')\n",
    "df_temp['JobTitle']=df_temp['JobTitle'].str.replace('intern','internship')\n",
    "df_temp['JobTitle']=df_temp['JobTitle'].str.replace('seniordata','senior data')\n"
   ]
  },
  {
   "cell_type": "code",
   "execution_count": 125,
   "metadata": {},
   "outputs": [
    {
     "data": {
      "image/png": "[encoded data removed]",
      "text/plain": [
       "<Figure size 576x576 with 1 Axes>"
      ]
     },
     "metadata": {
      "needs_background": "light"
     },
     "output_type": "display_data"
    }
   ],
   "source": [
    "#Checking top used words in 'JobTitle'\n",
    "functional_words = df_temp['JobTitle'].dropna().to_list()\n",
    "tokenizer = RegexpTokenizer(r'\\w+')\n",
    "tokenized_list = [tokenizer.tokenize(i) for i in functional_words]\n",
    "tokenized_list = [w for l in tokenized_list for w in l]\n",
    "string = \" \".join(w for w in tokenized_list)\n",
    "wordcloud = WordCloud(width = 800, height = 800, \n",
    "                background_color ='black', \n",
    "                min_font_size = 10).generate(string) \n",
    "plt.figure(figsize = (8, 8), facecolor = None) \n",
    "plt.imshow(wordcloud) \n",
    "plt.axis(\"off\") \n",
    "plt.tight_layout(pad = 0) \n",
    "  \n",
    "plt.show() "
   ]
  },
  {
   "cell_type": "markdown",
   "metadata": {},
   "source": [
    "#### Top most used words in 'JobTitles' :  \n",
    "data scientist,data analyst,senior,machine learning,data engineer,business analyst,\n",
    "senior,associate,developer,derector,manager,trainer,associate,consultant,part time,big data,python\n",
    "   "
   ]
  },
  {
   "cell_type": "code",
   "execution_count": 126,
   "metadata": {},
   "outputs": [],
   "source": [
    "sel_index=df_temp[df_temp['JobTitle'].str.contains(r'\\bdata\\b|\\bscientist\\b|\\bengineer\\b|\\bsenior\\b|\\banalyst\\b|\\bmanager\\b|\\binternship\\b|\\bmachine\\slearning\\b|\\bbusiness\\b|\\bjunior\\b|\\btrainer\\b|\\bdeveloper\\b|\\bassociate\\b|\\bresearch\\b|\\bconsultant\\b|\\bcoordinator\\b|\\bjunior\\b|\\bbig\\b|\\bpython\\b|\\bpart\\b|\\btime\\b')].index #searching for rows where one of top most used words present\n",
    "df_temp.loc[sel_index,'JobTitle']=df_temp.loc[sel_index,'JobTitle'].str.replace(r'\\b(?!data\\b)(?!scientist\\b)(?!engineer\\b)(?!senior\\b)(?!analyst\\b)(?!manager\\b)(?!internship\\b)(?!business\\b)(?!junior\\b)(?!trainer\\b)(?!developer\\b)(?!associate\\b)(?!research\\b)(?!consultant\\b)(?!coordinator\\b)(?!junior\\b)(?!big\\b)(?!machine\\b)(?!learning\\b)(?!python\\b)(?!part\\b)(?!time\\b)\\w+','')\n",
    "#remove other words except those words from selected row"
   ]
  },
  {
   "cell_type": "code",
   "execution_count": 127,
   "metadata": {},
   "outputs": [],
   "source": [
    "unique_job=df_temp['JobTitle'].describe().unique()[1]\n",
    "e=0\n",
    "while unique_job!=e:\n",
    "    unique_job=e\n",
    "    df_temp['JobTitle']=df_temp['JobTitle'].str.replace(r'\\s\\s',' ') #remove double space\n",
    "    df_temp['JobTitle']=df_temp['JobTitle'].str.replace(r\"^\\s+|\\s+$\",'') #remove space of start and end\n",
    "    df_temp['JobTitle']=df_temp['JobTitle'].str.replace(r'\\b(\\w+)( \\1\\b)+',r'\\1') #remove double words\n",
    "    e=df_temp['JobTitle'].describe().unique()[1]\n",
    "    "
   ]
  },
  {
   "cell_type": "code",
   "execution_count": 128,
   "metadata": {},
   "outputs": [
    {
     "data": {
      "text/plain": [
       "data scientist                              161\n",
       "data analyst                                 72\n",
       "data engineer                                64\n",
       "senior data scientist                        41\n",
       "senior                                       32\n",
       "data                                         27\n",
       "analyst                                      18\n",
       "machine learning                             15\n",
       "data scientist senior                        15\n",
       "developer                                    12\n",
       "data senior                                  12\n",
       "data scientist engineer                      11\n",
       "engineer                                     11\n",
       "data scientist internship                    10\n",
       "associate data scientist                      9\n",
       "data scientist analyst                        9\n",
       "senior data engineer                          9\n",
       "big data                                      9\n",
       "senior data analyst                           8\n",
       "big data engineer                             8\n",
       "junior data analyst                           7\n",
       "data scientist trainer                        7\n",
       "data scientist developer                      7\n",
       "internship                                    7\n",
       "business analyst data scientist               6\n",
       "data developer                                6\n",
       "python developer                              6\n",
       "research                                      5\n",
       "data scientist machine learning               5\n",
       "scientist                                     5\n",
       "research associate                            5\n",
       "senior data scientist engineer                5\n",
       "associate                                     5\n",
       "analyst data scientist                        5\n",
       "machine learning engineer                     4\n",
       "consultant                                    4\n",
       "business analyst                              4\n",
       "data analyst senior                           4\n",
       "medical editor                                4\n",
       "coordinator                                   3\n",
       "senior data                                   3\n",
       "senior analyst                                3\n",
       "junior data scientist                         3\n",
       "engineer data                                 3\n",
       "senior data scientist machine learning        3\n",
       "associate data                                3\n",
       "consultant data scientist                     3\n",
       "machine learning engineer data scientist      3\n",
       "senior research                               3\n",
       "data engineer data                            3\n",
       "Name: JobTitle, dtype: int64"
      ]
     },
     "execution_count": 128,
     "metadata": {},
     "output_type": "execute_result"
    }
   ],
   "source": [
    "df_temp['JobTitle'].value_counts()[:50]"
   ]
  },
  {
   "cell_type": "markdown",
   "metadata": {},
   "source": [
    "Here some titles, data,senior,analyst,engineer should named as data scientist,senior data scientist,data analyst,data engineer respectively."
   ]
  },
  {
   "cell_type": "code",
   "execution_count": 139,
   "metadata": {},
   "outputs": [],
   "source": [
    "df_temp.loc[df_temp['JobTitle']=='data','JobTitle']='data scientist'\n",
    "df_temp.loc[df_temp['JobTitle']=='analyst','JobTitle']='data analyst'\n",
    "df_temp.loc[df_temp['JobTitle']=='scientist','JobTitle']='data scientist'\n",
    "df_temp.loc[df_temp['JobTitle']=='engineer','JobTitle']='data engineer'\n",
    "df_temp.loc[df_temp['JobTitle']=='data scientist engineer','JobTitle']='data engineer'\n",
    "df_temp.loc[df_temp['JobTitle']=='senior','JobTitle']='senior data scientist'\n",
    "df_temp.loc[df_temp['JobTitle']=='data scientist senior','JobTitle']='senior data scientist'\n",
    "df_temp.loc[df_temp['JobTitle']=='data senior','JobTitle']='senior data scientist'\n",
    "df_temp.loc[df_temp['JobTitle']=='internship','JobTitle']='data scientist internship'\n",
    "df_temp.loc[df_temp['JobTitle']=='data internship','JobTitle']='data analyst internship'\n",
    "df_temp.loc[df_temp['JobTitle']=='manager','JobTitle']='senior data scientist'\n",
    "df_temp.loc[df_temp['JobTitle']=='data scientist analyst','JobTitle']='data analyst'\n",
    "df_temp.loc[df_temp['JobTitle']=='data scientist analyst','JobTitle']='data analyst'\n",
    "df_temp['JobTitle']=df_temp['JobTitle'].str.replace('analyst data scientist','data analyst')\n",
    "df_temp['JobTitle']=df_temp['JobTitle'].str.replace('data scientist analyst','data analyst')\n",
    "df_temp['JobTitle']=df_temp['JobTitle'].str.replace('data scientist data analyst','data analyst')"
   ]
  },
  {
   "cell_type": "code",
   "execution_count": 130,
   "metadata": {
    "scrolled": true
   },
   "outputs": [
    {
     "data": {
      "text/plain": [
       "count                905\n",
       "unique               212\n",
       "top       data scientist\n",
       "freq                 193\n",
       "Name: JobTitle, dtype: object"
      ]
     },
     "execution_count": 130,
     "metadata": {},
     "output_type": "execute_result"
    }
   ],
   "source": [
    "df_temp['JobTitle'].describe()"
   ]
  },
  {
   "cell_type": "markdown",
   "metadata": {},
   "source": [
    "Unique job count is not really satisfying but we have to stop here because of having possibility to loss really unque job titles."
   ]
  },
  {
   "cell_type": "code",
   "execution_count": 140,
   "metadata": {
    "scrolled": false
   },
   "outputs": [
    {
     "data": {
      "application/vnd.plotly.v1+json": {
       "config": {
        "plotlyServerURL": "https://plot.ly"
       },
       "data": [
        {
         "customdata": [
          [
           193
          ],
          [
           105
          ],
          [
           103
          ],
          [
           86
          ],
          [
           17
          ],
          [
           15
          ],
          [
           12
          ],
          [
           12
          ],
          [
           9
          ],
          [
           9
          ]
         ],
         "domain": {
          "x": [
           0,
           1
          ],
          "y": [
           0,
           1
          ]
         },
         "hovertemplate": "index=%{label}<br>value=%{value}<br>color=%{customdata[0]}<extra></extra>",
         "labels": [
          "data scientist",
          "data analyst",
          "senior data scientist",
          "data engineer",
          "data scientist internship",
          "machine learning",
          "senior data analyst",
          "developer",
          "big data",
          "associate data scientist"
         ],
         "legendgroup": "",
         "marker": {
          "colors": [
           "rgb(95, 70, 144)",
           "rgb(29, 105, 150)",
           "rgb(56, 166, 165)",
           "rgb(15, 133, 84)",
           "rgb(115, 175, 72)",
           "rgb(237, 173, 8)",
           "rgb(225, 124, 5)",
           "rgb(225, 124, 5)",
           "rgb(204, 80, 62)",
           "rgb(204, 80, 62)"
          ],
          "line": {
           "color": "rgb(8,48,107)",
           "width": 1.5
          }
         },
         "name": "",
         "opacity": 0.7,
         "showlegend": true,
         "type": "pie",
         "values": [
          193,
          105,
          103,
          86,
          17,
          15,
          12,
          12,
          9,
          9
         ]
        }
       ],
       "layout": {
        "legend": {
         "tracegroupgap": 0
        },
        "piecolorway": [
         "rgb(95, 70, 144)",
         "rgb(29, 105, 150)",
         "rgb(56, 166, 165)",
         "rgb(15, 133, 84)",
         "rgb(115, 175, 72)",
         "rgb(237, 173, 8)",
         "rgb(225, 124, 5)",
         "rgb(204, 80, 62)",
         "rgb(148, 52, 110)",
         "rgb(111, 64, 112)",
         "rgb(102, 102, 102)"
        ],
        "template": {
         "data": {
          "bar": [
           {
            "error_x": {
             "color": "#2a3f5f"
            },
            "error_y": {
             "color": "#2a3f5f"
            },
            "marker": {
             "line": {
              "color": "#E5ECF6",
              "width": 0.5
             }
            },
            "type": "bar"
           }
          ],
          "barpolar": [
           {
            "marker": {
             "line": {
              "color": "#E5ECF6",
              "width": 0.5
             }
            },
            "type": "barpolar"
           }
          ],
          "carpet": [
           {
            "aaxis": {
             "endlinecolor": "#2a3f5f",
             "gridcolor": "white",
             "linecolor": "white",
             "minorgridcolor": "white",
             "startlinecolor": "#2a3f5f"
            },
            "baxis": {
             "endlinecolor": "#2a3f5f",
             "gridcolor": "white",
             "linecolor": "white",
             "minorgridcolor": "white",
             "startlinecolor": "#2a3f5f"
            },
            "type": "carpet"
           }
          ],
          "choropleth": [
           {
            "colorbar": {
             "outlinewidth": 0,
             "ticks": ""
            },
            "type": "choropleth"
           }
          ],
          "contour": [
           {
            "colorbar": {
             "outlinewidth": 0,
             "ticks": ""
            },
            "colorscale": [
             [
              0,
              "#0d0887"
             ],
             [
              0.1111111111111111,
              "#46039f"
             ],
             [
              0.2222222222222222,
              "#7201a8"
             ],
             [
              0.3333333333333333,
              "#9c179e"
             ],
             [
              0.4444444444444444,
              "#bd3786"
             ],
             [
              0.5555555555555556,
              "#d8576b"
             ],
             [
              0.6666666666666666,
              "#ed7953"
             ],
             [
              0.7777777777777778,
              "#fb9f3a"
             ],
             [
              0.8888888888888888,
              "#fdca26"
             ],
             [
              1,
              "#f0f921"
             ]
            ],
            "type": "contour"
           }
          ],
          "contourcarpet": [
           {
            "colorbar": {
             "outlinewidth": 0,
             "ticks": ""
            },
            "type": "contourcarpet"
           }
          ],
          "heatmap": [
           {
            "colorbar": {
             "outlinewidth": 0,
             "ticks": ""
            },
            "colorscale": [
             [
              0,
              "#0d0887"
             ],
             [
              0.1111111111111111,
              "#46039f"
             ],
             [
              0.2222222222222222,
              "#7201a8"
             ],
             [
              0.3333333333333333,
              "#9c179e"
             ],
             [
              0.4444444444444444,
              "#bd3786"
             ],
             [
              0.5555555555555556,
              "#d8576b"
             ],
             [
              0.6666666666666666,
              "#ed7953"
             ],
             [
              0.7777777777777778,
              "#fb9f3a"
             ],
             [
              0.8888888888888888,
              "#fdca26"
             ],
             [
              1,
              "#f0f921"
             ]
            ],
            "type": "heatmap"
           }
          ],
          "heatmapgl": [
           {
            "colorbar": {
             "outlinewidth": 0,
             "ticks": ""
            },
            "colorscale": [
             [
              0,
              "#0d0887"
             ],
             [
              0.1111111111111111,
              "#46039f"
             ],
             [
              0.2222222222222222,
              "#7201a8"
             ],
             [
              0.3333333333333333,
              "#9c179e"
             ],
             [
              0.4444444444444444,
              "#bd3786"
             ],
             [
              0.5555555555555556,
              "#d8576b"
             ],
             [
              0.6666666666666666,
              "#ed7953"
             ],
             [
              0.7777777777777778,
              "#fb9f3a"
             ],
             [
              0.8888888888888888,
              "#fdca26"
             ],
             [
              1,
              "#f0f921"
             ]
            ],
            "type": "heatmapgl"
           }
          ],
          "histogram": [
           {
            "marker": {
             "colorbar": {
              "outlinewidth": 0,
              "ticks": ""
             }
            },
            "type": "histogram"
           }
          ],
          "histogram2d": [
           {
            "colorbar": {
             "outlinewidth": 0,
             "ticks": ""
            },
            "colorscale": [
             [
              0,
              "#0d0887"
             ],
             [
              0.1111111111111111,
              "#46039f"
             ],
             [
              0.2222222222222222,
              "#7201a8"
             ],
             [
              0.3333333333333333,
              "#9c179e"
             ],
             [
              0.4444444444444444,
              "#bd3786"
             ],
             [
              0.5555555555555556,
              "#d8576b"
             ],
             [
              0.6666666666666666,
              "#ed7953"
             ],
             [
              0.7777777777777778,
              "#fb9f3a"
             ],
             [
              0.8888888888888888,
              "#fdca26"
             ],
             [
              1,
              "#f0f921"
             ]
            ],
            "type": "histogram2d"
           }
          ],
          "histogram2dcontour": [
           {
            "colorbar": {
             "outlinewidth": 0,
             "ticks": ""
            },
            "colorscale": [
             [
              0,
              "#0d0887"
             ],
             [
              0.1111111111111111,
              "#46039f"
             ],
             [
              0.2222222222222222,
              "#7201a8"
             ],
             [
              0.3333333333333333,
              "#9c179e"
             ],
             [
              0.4444444444444444,
              "#bd3786"
             ],
             [
              0.5555555555555556,
              "#d8576b"
             ],
             [
              0.6666666666666666,
              "#ed7953"
             ],
             [
              0.7777777777777778,
              "#fb9f3a"
             ],
             [
              0.8888888888888888,
              "#fdca26"
             ],
             [
              1,
              "#f0f921"
             ]
            ],
            "type": "histogram2dcontour"
           }
          ],
          "mesh3d": [
           {
            "colorbar": {
             "outlinewidth": 0,
             "ticks": ""
            },
            "type": "mesh3d"
           }
          ],
          "parcoords": [
           {
            "line": {
             "colorbar": {
              "outlinewidth": 0,
              "ticks": ""
             }
            },
            "type": "parcoords"
           }
          ],
          "pie": [
           {
            "automargin": true,
            "type": "pie"
           }
          ],
          "scatter": [
           {
            "marker": {
             "colorbar": {
              "outlinewidth": 0,
              "ticks": ""
             }
            },
            "type": "scatter"
           }
          ],
          "scatter3d": [
           {
            "line": {
             "colorbar": {
              "outlinewidth": 0,
              "ticks": ""
             }
            },
            "marker": {
             "colorbar": {
              "outlinewidth": 0,
              "ticks": ""
             }
            },
            "type": "scatter3d"
           }
          ],
          "scattercarpet": [
           {
            "marker": {
             "colorbar": {
              "outlinewidth": 0,
              "ticks": ""
             }
            },
            "type": "scattercarpet"
           }
          ],
          "scattergeo": [
           {
            "marker": {
             "colorbar": {
              "outlinewidth": 0,
              "ticks": ""
             }
            },
            "type": "scattergeo"
           }
          ],
          "scattergl": [
           {
            "marker": {
             "colorbar": {
              "outlinewidth": 0,
              "ticks": ""
             }
            },
            "type": "scattergl"
           }
          ],
          "scattermapbox": [
           {
            "marker": {
             "colorbar": {
              "outlinewidth": 0,
              "ticks": ""
             }
            },
            "type": "scattermapbox"
           }
          ],
          "scatterpolar": [
           {
            "marker": {
             "colorbar": {
              "outlinewidth": 0,
              "ticks": ""
             }
            },
            "type": "scatterpolar"
           }
          ],
          "scatterpolargl": [
           {
            "marker": {
             "colorbar": {
              "outlinewidth": 0,
              "ticks": ""
             }
            },
            "type": "scatterpolargl"
           }
          ],
          "scatterternary": [
           {
            "marker": {
             "colorbar": {
              "outlinewidth": 0,
              "ticks": ""
             }
            },
            "type": "scatterternary"
           }
          ],
          "surface": [
           {
            "colorbar": {
             "outlinewidth": 0,
             "ticks": ""
            },
            "colorscale": [
             [
              0,
              "#0d0887"
             ],
             [
              0.1111111111111111,
              "#46039f"
             ],
             [
              0.2222222222222222,
              "#7201a8"
             ],
             [
              0.3333333333333333,
              "#9c179e"
             ],
             [
              0.4444444444444444,
              "#bd3786"
             ],
             [
              0.5555555555555556,
              "#d8576b"
             ],
             [
              0.6666666666666666,
              "#ed7953"
             ],
             [
              0.7777777777777778,
              "#fb9f3a"
             ],
             [
              0.8888888888888888,
              "#fdca26"
             ],
             [
              1,
              "#f0f921"
             ]
            ],
            "type": "surface"
           }
          ],
          "table": [
           {
            "cells": {
             "fill": {
              "color": "#EBF0F8"
             },
             "line": {
              "color": "white"
             }
            },
            "header": {
             "fill": {
              "color": "#C8D4E3"
             },
             "line": {
              "color": "white"
             }
            },
            "type": "table"
           }
          ]
         },
         "layout": {
          "annotationdefaults": {
           "arrowcolor": "#2a3f5f",
           "arrowhead": 0,
           "arrowwidth": 1
          },
          "autotypenumbers": "strict",
          "coloraxis": {
           "colorbar": {
            "outlinewidth": 0,
            "ticks": ""
           }
          },
          "colorscale": {
           "diverging": [
            [
             0,
             "#8e0152"
            ],
            [
             0.1,
             "#c51b7d"
            ],
            [
             0.2,
             "#de77ae"
            ],
            [
             0.3,
             "#f1b6da"
            ],
            [
             0.4,
             "#fde0ef"
            ],
            [
             0.5,
             "#f7f7f7"
            ],
            [
             0.6,
             "#e6f5d0"
            ],
            [
             0.7,
             "#b8e186"
            ],
            [
             0.8,
             "#7fbc41"
            ],
            [
             0.9,
             "#4d9221"
            ],
            [
             1,
             "#276419"
            ]
           ],
           "sequential": [
            [
             0,
             "#0d0887"
            ],
            [
             0.1111111111111111,
             "#46039f"
            ],
            [
             0.2222222222222222,
             "#7201a8"
            ],
            [
             0.3333333333333333,
             "#9c179e"
            ],
            [
             0.4444444444444444,
             "#bd3786"
            ],
            [
             0.5555555555555556,
             "#d8576b"
            ],
            [
             0.6666666666666666,
             "#ed7953"
            ],
            [
             0.7777777777777778,
             "#fb9f3a"
            ],
            [
             0.8888888888888888,
             "#fdca26"
            ],
            [
             1,
             "#f0f921"
            ]
           ],
           "sequentialminus": [
            [
             0,
             "#0d0887"
            ],
            [
             0.1111111111111111,
             "#46039f"
            ],
            [
             0.2222222222222222,
             "#7201a8"
            ],
            [
             0.3333333333333333,
             "#9c179e"
            ],
            [
             0.4444444444444444,
             "#bd3786"
            ],
            [
             0.5555555555555556,
             "#d8576b"
            ],
            [
             0.6666666666666666,
             "#ed7953"
            ],
            [
             0.7777777777777778,
             "#fb9f3a"
            ],
            [
             0.8888888888888888,
             "#fdca26"
            ],
            [
             1,
             "#f0f921"
            ]
           ]
          },
          "colorway": [
           "#636efa",
           "#EF553B",
           "#00cc96",
           "#ab63fa",
           "#FFA15A",
           "#19d3f3",
           "#FF6692",
           "#B6E880",
           "#FF97FF",
           "#FECB52"
          ],
          "font": {
           "color": "#2a3f5f"
          },
          "geo": {
           "bgcolor": "white",
           "lakecolor": "white",
           "landcolor": "#E5ECF6",
           "showlakes": true,
           "showland": true,
           "subunitcolor": "white"
          },
          "hoverlabel": {
           "align": "left"
          },
          "hovermode": "closest",
          "mapbox": {
           "style": "light"
          },
          "paper_bgcolor": "white",
          "plot_bgcolor": "#E5ECF6",
          "polar": {
           "angularaxis": {
            "gridcolor": "white",
            "linecolor": "white",
            "ticks": ""
           },
           "bgcolor": "#E5ECF6",
           "radialaxis": {
            "gridcolor": "white",
            "linecolor": "white",
            "ticks": ""
           }
          },
          "scene": {
           "xaxis": {
            "backgroundcolor": "#E5ECF6",
            "gridcolor": "white",
            "gridwidth": 2,
            "linecolor": "white",
            "showbackground": true,
            "ticks": "",
            "zerolinecolor": "white"
           },
           "yaxis": {
            "backgroundcolor": "#E5ECF6",
            "gridcolor": "white",
            "gridwidth": 2,
            "linecolor": "white",
            "showbackground": true,
            "ticks": "",
            "zerolinecolor": "white"
           },
           "zaxis": {
            "backgroundcolor": "#E5ECF6",
            "gridcolor": "white",
            "gridwidth": 2,
            "linecolor": "white",
            "showbackground": true,
            "ticks": "",
            "zerolinecolor": "white"
           }
          },
          "shapedefaults": {
           "line": {
            "color": "#2a3f5f"
           }
          },
          "ternary": {
           "aaxis": {
            "gridcolor": "white",
            "linecolor": "white",
            "ticks": ""
           },
           "baxis": {
            "gridcolor": "white",
            "linecolor": "white",
            "ticks": ""
           },
           "bgcolor": "#E5ECF6",
           "caxis": {
            "gridcolor": "white",
            "linecolor": "white",
            "ticks": ""
           }
          },
          "title": {
           "x": 0.05
          },
          "xaxis": {
           "automargin": true,
           "gridcolor": "white",
           "linecolor": "white",
           "ticks": "",
           "title": {
            "standoff": 15
           },
           "zerolinecolor": "white",
           "zerolinewidth": 2
          },
          "yaxis": {
           "automargin": true,
           "gridcolor": "white",
           "linecolor": "white",
           "ticks": "",
           "title": {
            "standoff": 15
           },
           "zerolinecolor": "white",
           "zerolinewidth": 2
          }
         }
        },
        "title": {
         "text": "Top 10 Role Categories",
         "x": 0.5
        }
       }
      },
      "text/html": [
       "<div>                            <div id=\"b72ad421-17ca-40a5-9592-8e2cd8c87fb0\" class=\"plotly-graph-div\" style=\"height:525px; width:100%;\"></div>            <script type=\"text/javascript\">                require([\"plotly\"], function(Plotly) {                    window.PLOTLYENV=window.PLOTLYENV || {};                                    if (document.getElementById(\"b72ad421-17ca-40a5-9592-8e2cd8c87fb0\")) {                    Plotly.newPlot(                        \"b72ad421-17ca-40a5-9592-8e2cd8c87fb0\",                        [{\"customdata\": [[193], [105], [103], [86], [17], [15], [12], [12], [9], [9]], \"domain\": {\"x\": [0.0, 1.0], \"y\": [0.0, 1.0]}, \"hovertemplate\": \"index=%{label}<br>value=%{value}<br>color=%{customdata[0]}<extra></extra>\", \"labels\": [\"data scientist\", \"data analyst\", \"senior data scientist\", \"data engineer\", \"data scientist internship\", \"machine learning\", \"senior data analyst\", \"developer\", \"big data\", \"associate data scientist\"], \"legendgroup\": \"\", \"marker\": {\"colors\": [\"rgb(95, 70, 144)\", \"rgb(29, 105, 150)\", \"rgb(56, 166, 165)\", \"rgb(15, 133, 84)\", \"rgb(115, 175, 72)\", \"rgb(237, 173, 8)\", \"rgb(225, 124, 5)\", \"rgb(225, 124, 5)\", \"rgb(204, 80, 62)\", \"rgb(204, 80, 62)\"], \"line\": {\"color\": \"rgb(8,48,107)\", \"width\": 1.5}}, \"name\": \"\", \"opacity\": 0.7, \"showlegend\": true, \"type\": \"pie\", \"values\": [193, 105, 103, 86, 17, 15, 12, 12, 9, 9]}],                        {\"legend\": {\"tracegroupgap\": 0}, \"piecolorway\": [\"rgb(95, 70, 144)\", \"rgb(29, 105, 150)\", \"rgb(56, 166, 165)\", \"rgb(15, 133, 84)\", \"rgb(115, 175, 72)\", \"rgb(237, 173, 8)\", \"rgb(225, 124, 5)\", \"rgb(204, 80, 62)\", \"rgb(148, 52, 110)\", \"rgb(111, 64, 112)\", \"rgb(102, 102, 102)\"], \"template\": {\"data\": {\"bar\": [{\"error_x\": {\"color\": \"#2a3f5f\"}, \"error_y\": {\"color\": \"#2a3f5f\"}, \"marker\": {\"line\": {\"color\": \"#E5ECF6\", \"width\": 0.5}}, \"type\": \"bar\"}], \"barpolar\": [{\"marker\": {\"line\": {\"color\": \"#E5ECF6\", \"width\": 0.5}}, \"type\": \"barpolar\"}], \"carpet\": [{\"aaxis\": {\"endlinecolor\": \"#2a3f5f\", \"gridcolor\": \"white\", \"linecolor\": \"white\", \"minorgridcolor\": \"white\", \"startlinecolor\": \"#2a3f5f\"}, \"baxis\": {\"endlinecolor\": \"#2a3f5f\", \"gridcolor\": \"white\", \"linecolor\": \"white\", \"minorgridcolor\": \"white\", \"startlinecolor\": \"#2a3f5f\"}, \"type\": \"carpet\"}], \"choropleth\": [{\"colorbar\": {\"outlinewidth\": 0, \"ticks\": \"\"}, \"type\": \"choropleth\"}], \"contour\": [{\"colorbar\": {\"outlinewidth\": 0, \"ticks\": \"\"}, \"colorscale\": [[0.0, \"#0d0887\"], [0.1111111111111111, \"#46039f\"], [0.2222222222222222, \"#7201a8\"], [0.3333333333333333, \"#9c179e\"], [0.4444444444444444, \"#bd3786\"], [0.5555555555555556, \"#d8576b\"], [0.6666666666666666, \"#ed7953\"], [0.7777777777777778, \"#fb9f3a\"], [0.8888888888888888, \"#fdca26\"], [1.0, \"#f0f921\"]], \"type\": \"contour\"}], \"contourcarpet\": [{\"colorbar\": {\"outlinewidth\": 0, \"ticks\": \"\"}, \"type\": \"contourcarpet\"}], \"heatmap\": [{\"colorbar\": {\"outlinewidth\": 0, \"ticks\": \"\"}, \"colorscale\": [[0.0, \"#0d0887\"], [0.1111111111111111, \"#46039f\"], [0.2222222222222222, \"#7201a8\"], [0.3333333333333333, \"#9c179e\"], [0.4444444444444444, \"#bd3786\"], [0.5555555555555556, \"#d8576b\"], [0.6666666666666666, \"#ed7953\"], [0.7777777777777778, \"#fb9f3a\"], [0.8888888888888888, \"#fdca26\"], [1.0, \"#f0f921\"]], \"type\": \"heatmap\"}], \"heatmapgl\": [{\"colorbar\": {\"outlinewidth\": 0, \"ticks\": \"\"}, \"colorscale\": [[0.0, \"#0d0887\"], [0.1111111111111111, \"#46039f\"], [0.2222222222222222, \"#7201a8\"], [0.3333333333333333, \"#9c179e\"], [0.4444444444444444, \"#bd3786\"], [0.5555555555555556, \"#d8576b\"], [0.6666666666666666, \"#ed7953\"], [0.7777777777777778, \"#fb9f3a\"], [0.8888888888888888, \"#fdca26\"], [1.0, \"#f0f921\"]], \"type\": \"heatmapgl\"}], \"histogram\": [{\"marker\": {\"colorbar\": {\"outlinewidth\": 0, \"ticks\": \"\"}}, \"type\": \"histogram\"}], \"histogram2d\": [{\"colorbar\": {\"outlinewidth\": 0, \"ticks\": \"\"}, \"colorscale\": [[0.0, \"#0d0887\"], [0.1111111111111111, \"#46039f\"], [0.2222222222222222, \"#7201a8\"], [0.3333333333333333, \"#9c179e\"], [0.4444444444444444, \"#bd3786\"], [0.5555555555555556, \"#d8576b\"], [0.6666666666666666, \"#ed7953\"], [0.7777777777777778, \"#fb9f3a\"], [0.8888888888888888, \"#fdca26\"], [1.0, \"#f0f921\"]], \"type\": \"histogram2d\"}], \"histogram2dcontour\": [{\"colorbar\": {\"outlinewidth\": 0, \"ticks\": \"\"}, \"colorscale\": [[0.0, \"#0d0887\"], [0.1111111111111111, \"#46039f\"], [0.2222222222222222, \"#7201a8\"], [0.3333333333333333, \"#9c179e\"], [0.4444444444444444, \"#bd3786\"], [0.5555555555555556, \"#d8576b\"], [0.6666666666666666, \"#ed7953\"], [0.7777777777777778, \"#fb9f3a\"], [0.8888888888888888, \"#fdca26\"], [1.0, \"#f0f921\"]], \"type\": \"histogram2dcontour\"}], \"mesh3d\": [{\"colorbar\": {\"outlinewidth\": 0, \"ticks\": \"\"}, \"type\": \"mesh3d\"}], \"parcoords\": [{\"line\": {\"colorbar\": {\"outlinewidth\": 0, \"ticks\": \"\"}}, \"type\": \"parcoords\"}], \"pie\": [{\"automargin\": true, \"type\": \"pie\"}], \"scatter\": [{\"marker\": {\"colorbar\": {\"outlinewidth\": 0, \"ticks\": \"\"}}, \"type\": \"scatter\"}], \"scatter3d\": [{\"line\": {\"colorbar\": {\"outlinewidth\": 0, \"ticks\": \"\"}}, \"marker\": {\"colorbar\": {\"outlinewidth\": 0, \"ticks\": \"\"}}, \"type\": \"scatter3d\"}], \"scattercarpet\": [{\"marker\": {\"colorbar\": {\"outlinewidth\": 0, \"ticks\": \"\"}}, \"type\": \"scattercarpet\"}], \"scattergeo\": [{\"marker\": {\"colorbar\": {\"outlinewidth\": 0, \"ticks\": \"\"}}, \"type\": \"scattergeo\"}], \"scattergl\": [{\"marker\": {\"colorbar\": {\"outlinewidth\": 0, \"ticks\": \"\"}}, \"type\": \"scattergl\"}], \"scattermapbox\": [{\"marker\": {\"colorbar\": {\"outlinewidth\": 0, \"ticks\": \"\"}}, \"type\": \"scattermapbox\"}], \"scatterpolar\": [{\"marker\": {\"colorbar\": {\"outlinewidth\": 0, \"ticks\": \"\"}}, \"type\": \"scatterpolar\"}], \"scatterpolargl\": [{\"marker\": {\"colorbar\": {\"outlinewidth\": 0, \"ticks\": \"\"}}, \"type\": \"scatterpolargl\"}], \"scatterternary\": [{\"marker\": {\"colorbar\": {\"outlinewidth\": 0, \"ticks\": \"\"}}, \"type\": \"scatterternary\"}], \"surface\": [{\"colorbar\": {\"outlinewidth\": 0, \"ticks\": \"\"}, \"colorscale\": [[0.0, \"#0d0887\"], [0.1111111111111111, \"#46039f\"], [0.2222222222222222, \"#7201a8\"], [0.3333333333333333, \"#9c179e\"], [0.4444444444444444, \"#bd3786\"], [0.5555555555555556, \"#d8576b\"], [0.6666666666666666, \"#ed7953\"], [0.7777777777777778, \"#fb9f3a\"], [0.8888888888888888, \"#fdca26\"], [1.0, \"#f0f921\"]], \"type\": \"surface\"}], \"table\": [{\"cells\": {\"fill\": {\"color\": \"#EBF0F8\"}, \"line\": {\"color\": \"white\"}}, \"header\": {\"fill\": {\"color\": \"#C8D4E3\"}, \"line\": {\"color\": \"white\"}}, \"type\": \"table\"}]}, \"layout\": {\"annotationdefaults\": {\"arrowcolor\": \"#2a3f5f\", \"arrowhead\": 0, \"arrowwidth\": 1}, \"autotypenumbers\": \"strict\", \"coloraxis\": {\"colorbar\": {\"outlinewidth\": 0, \"ticks\": \"\"}}, \"colorscale\": {\"diverging\": [[0, \"#8e0152\"], [0.1, \"#c51b7d\"], [0.2, \"#de77ae\"], [0.3, \"#f1b6da\"], [0.4, \"#fde0ef\"], [0.5, \"#f7f7f7\"], [0.6, \"#e6f5d0\"], [0.7, \"#b8e186\"], [0.8, \"#7fbc41\"], [0.9, \"#4d9221\"], [1, \"#276419\"]], \"sequential\": [[0.0, \"#0d0887\"], [0.1111111111111111, \"#46039f\"], [0.2222222222222222, \"#7201a8\"], [0.3333333333333333, \"#9c179e\"], [0.4444444444444444, \"#bd3786\"], [0.5555555555555556, \"#d8576b\"], [0.6666666666666666, \"#ed7953\"], [0.7777777777777778, \"#fb9f3a\"], [0.8888888888888888, \"#fdca26\"], [1.0, \"#f0f921\"]], \"sequentialminus\": [[0.0, \"#0d0887\"], [0.1111111111111111, \"#46039f\"], [0.2222222222222222, \"#7201a8\"], [0.3333333333333333, \"#9c179e\"], [0.4444444444444444, \"#bd3786\"], [0.5555555555555556, \"#d8576b\"], [0.6666666666666666, \"#ed7953\"], [0.7777777777777778, \"#fb9f3a\"], [0.8888888888888888, \"#fdca26\"], [1.0, \"#f0f921\"]]}, \"colorway\": [\"#636efa\", \"#EF553B\", \"#00cc96\", \"#ab63fa\", \"#FFA15A\", \"#19d3f3\", \"#FF6692\", \"#B6E880\", \"#FF97FF\", \"#FECB52\"], \"font\": {\"color\": \"#2a3f5f\"}, \"geo\": {\"bgcolor\": \"white\", \"lakecolor\": \"white\", \"landcolor\": \"#E5ECF6\", \"showlakes\": true, \"showland\": true, \"subunitcolor\": \"white\"}, \"hoverlabel\": {\"align\": \"left\"}, \"hovermode\": \"closest\", \"mapbox\": {\"style\": \"light\"}, \"paper_bgcolor\": \"white\", \"plot_bgcolor\": \"#E5ECF6\", \"polar\": {\"angularaxis\": {\"gridcolor\": \"white\", \"linecolor\": \"white\", \"ticks\": \"\"}, \"bgcolor\": \"#E5ECF6\", \"radialaxis\": {\"gridcolor\": \"white\", \"linecolor\": \"white\", \"ticks\": \"\"}}, \"scene\": {\"xaxis\": {\"backgroundcolor\": \"#E5ECF6\", \"gridcolor\": \"white\", \"gridwidth\": 2, \"linecolor\": \"white\", \"showbackground\": true, \"ticks\": \"\", \"zerolinecolor\": \"white\"}, \"yaxis\": {\"backgroundcolor\": \"#E5ECF6\", \"gridcolor\": \"white\", \"gridwidth\": 2, \"linecolor\": \"white\", \"showbackground\": true, \"ticks\": \"\", \"zerolinecolor\": \"white\"}, \"zaxis\": {\"backgroundcolor\": \"#E5ECF6\", \"gridcolor\": \"white\", \"gridwidth\": 2, \"linecolor\": \"white\", \"showbackground\": true, \"ticks\": \"\", \"zerolinecolor\": \"white\"}}, \"shapedefaults\": {\"line\": {\"color\": \"#2a3f5f\"}}, \"ternary\": {\"aaxis\": {\"gridcolor\": \"white\", \"linecolor\": \"white\", \"ticks\": \"\"}, \"baxis\": {\"gridcolor\": \"white\", \"linecolor\": \"white\", \"ticks\": \"\"}, \"bgcolor\": \"#E5ECF6\", \"caxis\": {\"gridcolor\": \"white\", \"linecolor\": \"white\", \"ticks\": \"\"}}, \"title\": {\"x\": 0.05}, \"xaxis\": {\"automargin\": true, \"gridcolor\": \"white\", \"linecolor\": \"white\", \"ticks\": \"\", \"title\": {\"standoff\": 15}, \"zerolinecolor\": \"white\", \"zerolinewidth\": 2}, \"yaxis\": {\"automargin\": true, \"gridcolor\": \"white\", \"linecolor\": \"white\", \"ticks\": \"\", \"title\": {\"standoff\": 15}, \"zerolinecolor\": \"white\", \"zerolinewidth\": 2}}}, \"title\": {\"text\": \"Top 10 Role Categories\", \"x\": 0.5}},                        {\"responsive\": true}                    ).then(function(){\n",
       "                            \n",
       "var gd = document.getElementById('b72ad421-17ca-40a5-9592-8e2cd8c87fb0');\n",
       "var x = new MutationObserver(function (mutations, observer) {{\n",
       "        var display = window.getComputedStyle(gd).display;\n",
       "        if (!display || display === 'none') {{\n",
       "            console.log([gd, 'removed!']);\n",
       "            Plotly.purge(gd);\n",
       "            observer.disconnect();\n",
       "        }}\n",
       "}});\n",
       "\n",
       "// Listen for the removal of the full notebook cells\n",
       "var notebookContainer = gd.closest('#notebook-container');\n",
       "if (notebookContainer) {{\n",
       "    x.observe(notebookContainer, {childList: true});\n",
       "}}\n",
       "\n",
       "// Listen for the clearing of the current output cell\n",
       "var outputEl = gd.closest('.output');\n",
       "if (outputEl) {{\n",
       "    x.observe(outputEl, {childList: true});\n",
       "}}\n",
       "\n",
       "                        })                };                });            </script>        </div>"
      ]
     },
     "metadata": {},
     "output_type": "display_data"
    }
   ],
   "source": [
    "role = df_temp['JobTitle'].value_counts().nlargest(n=10)\n",
    "fig = px.pie(role, \n",
    "       values = role.values, \n",
    "       names = role.index, \n",
    "       title=\"Top 10 Role Categories\", \n",
    "       color=role.values,\n",
    "       color_discrete_sequence=px.colors.qualitative.Prism)\n",
    "fig.update_traces(opacity=0.7,\n",
    "                  marker_line_color='rgb(8,48,107)',\n",
    "                  marker_line_width=1.5)\n",
    "fig.update_layout(title_x=0.5)\n",
    "fig.show()"
   ]
  },
  {
   "cell_type": "markdown",
   "metadata": {},
   "source": [
    "As expected data scientist is in top and data analyst is  in secound position. Senior Data scientist and Data engineer have noticeable number."
   ]
  },
  {
   "cell_type": "code",
   "execution_count": 132,
   "metadata": {
    "scrolled": false
   },
   "outputs": [
    {
     "data": {
      "text/plain": [
       "CompanyName\n",
       "3RI TECHNOLOGIES                                         5.0\n",
       "Elan Academy                                             5.0\n",
       "Diverse Lynx India                                       4.8\n",
       "Phenom People                                            4.7\n",
       "Narayana Medical College Hospital                        4.6\n",
       "AQB Solutions Pvt Ltd                                    4.5\n",
       "Center for Study of Science, Technology and Policy...    4.5\n",
       "CoreCompete                                              4.5\n",
       "Cytel, India                                             4.5\n",
       "INEXTURE SOLUTIONS                                       4.5\n",
       "Innoplexus                                               4.5\n",
       "Scienaptic Systems                                       4.5\n",
       "TISS                                                     4.5\n",
       "Indian Institute Of Science                              4.4\n",
       "Luxoft                                                   4.4\n",
       "United Nations Development Programme (UNDP)              4.4\n",
       "freshworks                                               4.4\n",
       "Appnomic Systems Pvt. Ltd                                4.3\n",
       "Colgate-Palmolive                                        4.3\n",
       "Flytxt Mobile Solutions                                  4.3\n",
       "Name: CompanyRating, dtype: float64"
      ]
     },
     "execution_count": 132,
     "metadata": {},
     "output_type": "execute_result"
    }
   ],
   "source": [
    "df_temp.groupby('CompanyName')['CompanyRating'].mean().nlargest(20) #top rated company"
   ]
  },
  {
   "cell_type": "markdown",
   "metadata": {},
   "source": [
    "Strange !top big global company like microsoft,IBM are missing there,\n",
    "<br> Lets check top  10 job vacancy available companies with their rating."
   ]
  },
  {
   "cell_type": "code",
   "execution_count": 134,
   "metadata": {},
   "outputs": [],
   "source": [
    "job=df_temp['CompanyName'].value_counts().nlargest(20) #top job vacancy company\n",
    "com=df_temp['CompanyName'].value_counts().nlargest(20).index\n",
    "rat=list()\n",
    "comr=list()\n",
    "for i in com:\n",
    "    rat=str(round(df_temp.groupby('CompanyName').get_group(i)['CompanyRating'].mean(),2))\n",
    "    comr.append(i+'('+rat+')')"
   ]
  },
  {
   "cell_type": "code",
   "execution_count": 135,
   "metadata": {
    "scrolled": false
   },
   "outputs": [
    {
     "data": {
      "application/vnd.plotly.v1+json": {
       "config": {
        "plotlyServerURL": "https://plot.ly"
       },
       "data": [
        {
         "alignmentgroup": "True",
         "hovertemplate": "color=Cognizant(3.9)<br>x=%{x}<br>y=%{y}<br>text=%{text}<extra></extra>",
         "legendgroup": "Cognizant(3.9)",
         "marker": {
          "color": "rgb(127, 60, 141)",
          "line": {
           "color": "rgb(8,48,107)",
           "width": 1.5
          }
         },
         "name": "Cognizant(3.9)",
         "offsetgroup": "Cognizant(3.9)",
         "opacity": 0.7,
         "orientation": "v",
         "showlegend": true,
         "text": [
          19
         ],
         "textposition": "outside",
         "type": "bar",
         "x": [
          "Cognizant(3.9)"
         ],
         "xaxis": "x",
         "y": [
          19
         ],
         "yaxis": "y"
        },
        {
         "alignmentgroup": "True",
         "hovertemplate": "color=IBM(3.9)<br>x=%{x}<br>y=%{y}<br>text=%{text}<extra></extra>",
         "legendgroup": "IBM(3.9)",
         "marker": {
          "color": "rgb(17, 165, 121)",
          "line": {
           "color": "rgb(8,48,107)",
           "width": 1.5
          }
         },
         "name": "IBM(3.9)",
         "offsetgroup": "IBM(3.9)",
         "opacity": 0.7,
         "orientation": "v",
         "showlegend": true,
         "text": [
          12
         ],
         "textposition": "outside",
         "type": "bar",
         "x": [
          "IBM(3.9)"
         ],
         "xaxis": "x",
         "y": [
          12
         ],
         "yaxis": "y"
        },
        {
         "alignmentgroup": "True",
         "hovertemplate": "color=JPMorgan Chase Bank, N.A.(3.9)<br>x=%{x}<br>y=%{y}<br>text=%{text}<extra></extra>",
         "legendgroup": "JPMorgan Chase Bank, N.A.(3.9)",
         "marker": {
          "color": "rgb(57, 105, 172)",
          "line": {
           "color": "rgb(8,48,107)",
           "width": 1.5
          }
         },
         "name": "JPMorgan Chase Bank, N.A.(3.9)",
         "offsetgroup": "JPMorgan Chase Bank, N.A.(3.9)",
         "opacity": 0.7,
         "orientation": "v",
         "showlegend": true,
         "text": [
          8
         ],
         "textposition": "outside",
         "type": "bar",
         "x": [
          "JPMorgan Chase Bank, N.A.(3.9)"
         ],
         "xaxis": "x",
         "y": [
          8
         ],
         "yaxis": "y"
        },
        {
         "alignmentgroup": "True",
         "hovertemplate": "color=Deloitte(4.0)<br>x=%{x}<br>y=%{y}<br>text=%{text}<extra></extra>",
         "legendgroup": "Deloitte(4.0)",
         "marker": {
          "color": "rgb(242, 183, 1)",
          "line": {
           "color": "rgb(8,48,107)",
           "width": 1.5
          }
         },
         "name": "Deloitte(4.0)",
         "offsetgroup": "Deloitte(4.0)",
         "opacity": 0.7,
         "orientation": "v",
         "showlegend": true,
         "text": [
          8
         ],
         "textposition": "outside",
         "type": "bar",
         "x": [
          "Deloitte(4.0)"
         ],
         "xaxis": "x",
         "y": [
          8
         ],
         "yaxis": "y"
        },
        {
         "alignmentgroup": "True",
         "hovertemplate": "color=Novartis(4.1)<br>x=%{x}<br>y=%{y}<br>text=%{text}<extra></extra>",
         "legendgroup": "Novartis(4.1)",
         "marker": {
          "color": "rgb(231, 63, 116)",
          "line": {
           "color": "rgb(8,48,107)",
           "width": 1.5
          }
         },
         "name": "Novartis(4.1)",
         "offsetgroup": "Novartis(4.1)",
         "opacity": 0.7,
         "orientation": "v",
         "showlegend": true,
         "text": [
          8
         ],
         "textposition": "outside",
         "type": "bar",
         "x": [
          "Novartis(4.1)"
         ],
         "xaxis": "x",
         "y": [
          8
         ],
         "yaxis": "y"
        },
        {
         "alignmentgroup": "True",
         "hovertemplate": "color=Gartner(3.7)<br>x=%{x}<br>y=%{y}<br>text=%{text}<extra></extra>",
         "legendgroup": "Gartner(3.7)",
         "marker": {
          "color": "rgb(128, 186, 90)",
          "line": {
           "color": "rgb(8,48,107)",
           "width": 1.5
          }
         },
         "name": "Gartner(3.7)",
         "offsetgroup": "Gartner(3.7)",
         "opacity": 0.7,
         "orientation": "v",
         "showlegend": true,
         "text": [
          8
         ],
         "textposition": "outside",
         "type": "bar",
         "x": [
          "Gartner(3.7)"
         ],
         "xaxis": "x",
         "y": [
          8
         ],
         "yaxis": "y"
        },
        {
         "alignmentgroup": "True",
         "hovertemplate": "color=Microsoft(4.2)<br>x=%{x}<br>y=%{y}<br>text=%{text}<extra></extra>",
         "legendgroup": "Microsoft(4.2)",
         "marker": {
          "color": "rgb(230, 131, 16)",
          "line": {
           "color": "rgb(8,48,107)",
           "width": 1.5
          }
         },
         "name": "Microsoft(4.2)",
         "offsetgroup": "Microsoft(4.2)",
         "opacity": 0.7,
         "orientation": "v",
         "showlegend": true,
         "text": [
          8
         ],
         "textposition": "outside",
         "type": "bar",
         "x": [
          "Microsoft(4.2)"
         ],
         "xaxis": "x",
         "y": [
          8
         ],
         "yaxis": "y"
        },
        {
         "alignmentgroup": "True",
         "hovertemplate": "color=Larsen & Toubro Infotech Limited(3.7)<br>x=%{x}<br>y=%{y}<br>text=%{text}<extra></extra>",
         "legendgroup": "Larsen & Toubro Infotech Limited(3.7)",
         "marker": {
          "color": "rgb(0, 134, 149)",
          "line": {
           "color": "rgb(8,48,107)",
           "width": 1.5
          }
         },
         "name": "Larsen & Toubro Infotech Limited(3.7)",
         "offsetgroup": "Larsen & Toubro Infotech Limited(3.7)",
         "opacity": 0.7,
         "orientation": "v",
         "showlegend": true,
         "text": [
          7
         ],
         "textposition": "outside",
         "type": "bar",
         "x": [
          "Larsen & Toubro Infotech Limited(3.7)"
         ],
         "xaxis": "x",
         "y": [
          7
         ],
         "yaxis": "y"
        },
        {
         "alignmentgroup": "True",
         "hovertemplate": "color=Micron(3.8)<br>x=%{x}<br>y=%{y}<br>text=%{text}<extra></extra>",
         "legendgroup": "Micron(3.8)",
         "marker": {
          "color": "rgb(207, 28, 144)",
          "line": {
           "color": "rgb(8,48,107)",
           "width": 1.5
          }
         },
         "name": "Micron(3.8)",
         "offsetgroup": "Micron(3.8)",
         "opacity": 0.7,
         "orientation": "v",
         "showlegend": true,
         "text": [
          6
         ],
         "textposition": "outside",
         "type": "bar",
         "x": [
          "Micron(3.8)"
         ],
         "xaxis": "x",
         "y": [
          6
         ],
         "yaxis": "y"
        },
        {
         "alignmentgroup": "True",
         "hovertemplate": "color=Oracle(3.8)<br>x=%{x}<br>y=%{y}<br>text=%{text}<extra></extra>",
         "legendgroup": "Oracle(3.8)",
         "marker": {
          "color": "rgb(249, 123, 114)",
          "line": {
           "color": "rgb(8,48,107)",
           "width": 1.5
          }
         },
         "name": "Oracle(3.8)",
         "offsetgroup": "Oracle(3.8)",
         "opacity": 0.7,
         "orientation": "v",
         "showlegend": true,
         "text": [
          6
         ],
         "textposition": "outside",
         "type": "bar",
         "x": [
          "Oracle(3.8)"
         ],
         "xaxis": "x",
         "y": [
          6
         ],
         "yaxis": "y"
        },
        {
         "alignmentgroup": "True",
         "hovertemplate": "color=IQVIA(3.8)<br>x=%{x}<br>y=%{y}<br>text=%{text}<extra></extra>",
         "legendgroup": "IQVIA(3.8)",
         "marker": {
          "color": "rgb(165, 170, 153)",
          "line": {
           "color": "rgb(8,48,107)",
           "width": 1.5
          }
         },
         "name": "IQVIA(3.8)",
         "offsetgroup": "IQVIA(3.8)",
         "opacity": 0.7,
         "orientation": "v",
         "showlegend": true,
         "text": [
          6
         ],
         "textposition": "outside",
         "type": "bar",
         "x": [
          "IQVIA(3.8)"
         ],
         "xaxis": "x",
         "y": [
          6
         ],
         "yaxis": "y"
        },
        {
         "alignmentgroup": "True",
         "hovertemplate": "color=McKinsey & Company(4.3)<br>x=%{x}<br>y=%{y}<br>text=%{text}<extra></extra>",
         "legendgroup": "McKinsey & Company(4.3)",
         "marker": {
          "color": "rgb(127, 60, 141)",
          "line": {
           "color": "rgb(8,48,107)",
           "width": 1.5
          }
         },
         "name": "McKinsey & Company(4.3)",
         "offsetgroup": "McKinsey & Company(4.3)",
         "opacity": 0.7,
         "orientation": "v",
         "showlegend": true,
         "text": [
          6
         ],
         "textposition": "outside",
         "type": "bar",
         "x": [
          "McKinsey & Company(4.3)"
         ],
         "xaxis": "x",
         "y": [
          6
         ],
         "yaxis": "y"
        },
        {
         "alignmentgroup": "True",
         "hovertemplate": "color=GSK(4.2)<br>x=%{x}<br>y=%{y}<br>text=%{text}<extra></extra>",
         "legendgroup": "GSK(4.2)",
         "marker": {
          "color": "rgb(17, 165, 121)",
          "line": {
           "color": "rgb(8,48,107)",
           "width": 1.5
          }
         },
         "name": "GSK(4.2)",
         "offsetgroup": "GSK(4.2)",
         "opacity": 0.7,
         "orientation": "v",
         "showlegend": true,
         "text": [
          5
         ],
         "textposition": "outside",
         "type": "bar",
         "x": [
          "GSK(4.2)"
         ],
         "xaxis": "x",
         "y": [
          5
         ],
         "yaxis": "y"
        },
        {
         "alignmentgroup": "True",
         "hovertemplate": "color=GO-JEK(0.1)<br>x=%{x}<br>y=%{y}<br>text=%{text}<extra></extra>",
         "legendgroup": "GO-JEK(0.1)",
         "marker": {
          "color": "rgb(57, 105, 172)",
          "line": {
           "color": "rgb(8,48,107)",
           "width": 1.5
          }
         },
         "name": "GO-JEK(0.1)",
         "offsetgroup": "GO-JEK(0.1)",
         "opacity": 0.7,
         "orientation": "v",
         "showlegend": true,
         "text": [
          5
         ],
         "textposition": "outside",
         "type": "bar",
         "x": [
          "GO-JEK(0.1)"
         ],
         "xaxis": "x",
         "y": [
          5
         ],
         "yaxis": "y"
        },
        {
         "alignmentgroup": "True",
         "hovertemplate": "color=CareerXperts(0.1)<br>x=%{x}<br>y=%{y}<br>text=%{text}<extra></extra>",
         "legendgroup": "CareerXperts(0.1)",
         "marker": {
          "color": "rgb(242, 183, 1)",
          "line": {
           "color": "rgb(8,48,107)",
           "width": 1.5
          }
         },
         "name": "CareerXperts(0.1)",
         "offsetgroup": "CareerXperts(0.1)",
         "opacity": 0.7,
         "orientation": "v",
         "showlegend": true,
         "text": [
          5
         ],
         "textposition": "outside",
         "type": "bar",
         "x": [
          "CareerXperts(0.1)"
         ],
         "xaxis": "x",
         "y": [
          5
         ],
         "yaxis": "y"
        },
        {
         "alignmentgroup": "True",
         "hovertemplate": "color=Hewlett Packard Enterprise(3.8)<br>x=%{x}<br>y=%{y}<br>text=%{text}<extra></extra>",
         "legendgroup": "Hewlett Packard Enterprise(3.8)",
         "marker": {
          "color": "rgb(231, 63, 116)",
          "line": {
           "color": "rgb(8,48,107)",
           "width": 1.5
          }
         },
         "name": "Hewlett Packard Enterprise(3.8)",
         "offsetgroup": "Hewlett Packard Enterprise(3.8)",
         "opacity": 0.7,
         "orientation": "v",
         "showlegend": true,
         "text": [
          5
         ],
         "textposition": "outside",
         "type": "bar",
         "x": [
          "Hewlett Packard Enterprise(3.8)"
         ],
         "xaxis": "x",
         "y": [
          5
         ],
         "yaxis": "y"
        },
        {
         "alignmentgroup": "True",
         "hovertemplate": "color=Technogen India Private Limited(0.1)<br>x=%{x}<br>y=%{y}<br>text=%{text}<extra></extra>",
         "legendgroup": "Technogen India Private Limited(0.1)",
         "marker": {
          "color": "rgb(128, 186, 90)",
          "line": {
           "color": "rgb(8,48,107)",
           "width": 1.5
          }
         },
         "name": "Technogen India Private Limited(0.1)",
         "offsetgroup": "Technogen India Private Limited(0.1)",
         "opacity": 0.7,
         "orientation": "v",
         "showlegend": true,
         "text": [
          4
         ],
         "textposition": "outside",
         "type": "bar",
         "x": [
          "Technogen India Private Limited(0.1)"
         ],
         "xaxis": "x",
         "y": [
          4
         ],
         "yaxis": "y"
        },
        {
         "alignmentgroup": "True",
         "hovertemplate": "color=Honeywell(3.7)<br>x=%{x}<br>y=%{y}<br>text=%{text}<extra></extra>",
         "legendgroup": "Honeywell(3.7)",
         "marker": {
          "color": "rgb(230, 131, 16)",
          "line": {
           "color": "rgb(8,48,107)",
           "width": 1.5
          }
         },
         "name": "Honeywell(3.7)",
         "offsetgroup": "Honeywell(3.7)",
         "opacity": 0.7,
         "orientation": "v",
         "showlegend": true,
         "text": [
          4
         ],
         "textposition": "outside",
         "type": "bar",
         "x": [
          "Honeywell(3.7)"
         ],
         "xaxis": "x",
         "y": [
          4
         ],
         "yaxis": "y"
        },
        {
         "alignmentgroup": "True",
         "hovertemplate": "color=XenonStack(2.5)<br>x=%{x}<br>y=%{y}<br>text=%{text}<extra></extra>",
         "legendgroup": "XenonStack(2.5)",
         "marker": {
          "color": "rgb(0, 134, 149)",
          "line": {
           "color": "rgb(8,48,107)",
           "width": 1.5
          }
         },
         "name": "XenonStack(2.5)",
         "offsetgroup": "XenonStack(2.5)",
         "opacity": 0.7,
         "orientation": "v",
         "showlegend": true,
         "text": [
          4
         ],
         "textposition": "outside",
         "type": "bar",
         "x": [
          "XenonStack(2.5)"
         ],
         "xaxis": "x",
         "y": [
          4
         ],
         "yaxis": "y"
        },
        {
         "alignmentgroup": "True",
         "hovertemplate": "color=CCS Computers(0.1)<br>x=%{x}<br>y=%{y}<br>text=%{text}<extra></extra>",
         "legendgroup": "CCS Computers(0.1)",
         "marker": {
          "color": "rgb(207, 28, 144)",
          "line": {
           "color": "rgb(8,48,107)",
           "width": 1.5
          }
         },
         "name": "CCS Computers(0.1)",
         "offsetgroup": "CCS Computers(0.1)",
         "opacity": 0.7,
         "orientation": "v",
         "showlegend": true,
         "text": [
          4
         ],
         "textposition": "outside",
         "type": "bar",
         "x": [
          "CCS Computers(0.1)"
         ],
         "xaxis": "x",
         "y": [
          4
         ],
         "yaxis": "y"
        }
       ],
       "layout": {
        "barmode": "relative",
        "legend": {
         "title": {
          "text": "color"
         },
         "tracegroupgap": 0
        },
        "margin": {
         "t": 60
        },
        "showlegend": false,
        "template": {
         "data": {
          "bar": [
           {
            "error_x": {
             "color": "#2a3f5f"
            },
            "error_y": {
             "color": "#2a3f5f"
            },
            "marker": {
             "line": {
              "color": "#E5ECF6",
              "width": 0.5
             }
            },
            "type": "bar"
           }
          ],
          "barpolar": [
           {
            "marker": {
             "line": {
              "color": "#E5ECF6",
              "width": 0.5
             }
            },
            "type": "barpolar"
           }
          ],
          "carpet": [
           {
            "aaxis": {
             "endlinecolor": "#2a3f5f",
             "gridcolor": "white",
             "linecolor": "white",
             "minorgridcolor": "white",
             "startlinecolor": "#2a3f5f"
            },
            "baxis": {
             "endlinecolor": "#2a3f5f",
             "gridcolor": "white",
             "linecolor": "white",
             "minorgridcolor": "white",
             "startlinecolor": "#2a3f5f"
            },
            "type": "carpet"
           }
          ],
          "choropleth": [
           {
            "colorbar": {
             "outlinewidth": 0,
             "ticks": ""
            },
            "type": "choropleth"
           }
          ],
          "contour": [
           {
            "colorbar": {
             "outlinewidth": 0,
             "ticks": ""
            },
            "colorscale": [
             [
              0,
              "#0d0887"
             ],
             [
              0.1111111111111111,
              "#46039f"
             ],
             [
              0.2222222222222222,
              "#7201a8"
             ],
             [
              0.3333333333333333,
              "#9c179e"
             ],
             [
              0.4444444444444444,
              "#bd3786"
             ],
             [
              0.5555555555555556,
              "#d8576b"
             ],
             [
              0.6666666666666666,
              "#ed7953"
             ],
             [
              0.7777777777777778,
              "#fb9f3a"
             ],
             [
              0.8888888888888888,
              "#fdca26"
             ],
             [
              1,
              "#f0f921"
             ]
            ],
            "type": "contour"
           }
          ],
          "contourcarpet": [
           {
            "colorbar": {
             "outlinewidth": 0,
             "ticks": ""
            },
            "type": "contourcarpet"
           }
          ],
          "heatmap": [
           {
            "colorbar": {
             "outlinewidth": 0,
             "ticks": ""
            },
            "colorscale": [
             [
              0,
              "#0d0887"
             ],
             [
              0.1111111111111111,
              "#46039f"
             ],
             [
              0.2222222222222222,
              "#7201a8"
             ],
             [
              0.3333333333333333,
              "#9c179e"
             ],
             [
              0.4444444444444444,
              "#bd3786"
             ],
             [
              0.5555555555555556,
              "#d8576b"
             ],
             [
              0.6666666666666666,
              "#ed7953"
             ],
             [
              0.7777777777777778,
              "#fb9f3a"
             ],
             [
              0.8888888888888888,
              "#fdca26"
             ],
             [
              1,
              "#f0f921"
             ]
            ],
            "type": "heatmap"
           }
          ],
          "heatmapgl": [
           {
            "colorbar": {
             "outlinewidth": 0,
             "ticks": ""
            },
            "colorscale": [
             [
              0,
              "#0d0887"
             ],
             [
              0.1111111111111111,
              "#46039f"
             ],
             [
              0.2222222222222222,
              "#7201a8"
             ],
             [
              0.3333333333333333,
              "#9c179e"
             ],
             [
              0.4444444444444444,
              "#bd3786"
             ],
             [
              0.5555555555555556,
              "#d8576b"
             ],
             [
              0.6666666666666666,
              "#ed7953"
             ],
             [
              0.7777777777777778,
              "#fb9f3a"
             ],
             [
              0.8888888888888888,
              "#fdca26"
             ],
             [
              1,
              "#f0f921"
             ]
            ],
            "type": "heatmapgl"
           }
          ],
          "histogram": [
           {
            "marker": {
             "colorbar": {
              "outlinewidth": 0,
              "ticks": ""
             }
            },
            "type": "histogram"
           }
          ],
          "histogram2d": [
           {
            "colorbar": {
             "outlinewidth": 0,
             "ticks": ""
            },
            "colorscale": [
             [
              0,
              "#0d0887"
             ],
             [
              0.1111111111111111,
              "#46039f"
             ],
             [
              0.2222222222222222,
              "#7201a8"
             ],
             [
              0.3333333333333333,
              "#9c179e"
             ],
             [
              0.4444444444444444,
              "#bd3786"
             ],
             [
              0.5555555555555556,
              "#d8576b"
             ],
             [
              0.6666666666666666,
              "#ed7953"
             ],
             [
              0.7777777777777778,
              "#fb9f3a"
             ],
             [
              0.8888888888888888,
              "#fdca26"
             ],
             [
              1,
              "#f0f921"
             ]
            ],
            "type": "histogram2d"
           }
          ],
          "histogram2dcontour": [
           {
            "colorbar": {
             "outlinewidth": 0,
             "ticks": ""
            },
            "colorscale": [
             [
              0,
              "#0d0887"
             ],
             [
              0.1111111111111111,
              "#46039f"
             ],
             [
              0.2222222222222222,
              "#7201a8"
             ],
             [
              0.3333333333333333,
              "#9c179e"
             ],
             [
              0.4444444444444444,
              "#bd3786"
             ],
             [
              0.5555555555555556,
              "#d8576b"
             ],
             [
              0.6666666666666666,
              "#ed7953"
             ],
             [
              0.7777777777777778,
              "#fb9f3a"
             ],
             [
              0.8888888888888888,
              "#fdca26"
             ],
             [
              1,
              "#f0f921"
             ]
            ],
            "type": "histogram2dcontour"
           }
          ],
          "mesh3d": [
           {
            "colorbar": {
             "outlinewidth": 0,
             "ticks": ""
            },
            "type": "mesh3d"
           }
          ],
          "parcoords": [
           {
            "line": {
             "colorbar": {
              "outlinewidth": 0,
              "ticks": ""
             }
            },
            "type": "parcoords"
           }
          ],
          "pie": [
           {
            "automargin": true,
            "type": "pie"
           }
          ],
          "scatter": [
           {
            "marker": {
             "colorbar": {
              "outlinewidth": 0,
              "ticks": ""
             }
            },
            "type": "scatter"
           }
          ],
          "scatter3d": [
           {
            "line": {
             "colorbar": {
              "outlinewidth": 0,
              "ticks": ""
             }
            },
            "marker": {
             "colorbar": {
              "outlinewidth": 0,
              "ticks": ""
             }
            },
            "type": "scatter3d"
           }
          ],
          "scattercarpet": [
           {
            "marker": {
             "colorbar": {
              "outlinewidth": 0,
              "ticks": ""
             }
            },
            "type": "scattercarpet"
           }
          ],
          "scattergeo": [
           {
            "marker": {
             "colorbar": {
              "outlinewidth": 0,
              "ticks": ""
             }
            },
            "type": "scattergeo"
           }
          ],
          "scattergl": [
           {
            "marker": {
             "colorbar": {
              "outlinewidth": 0,
              "ticks": ""
             }
            },
            "type": "scattergl"
           }
          ],
          "scattermapbox": [
           {
            "marker": {
             "colorbar": {
              "outlinewidth": 0,
              "ticks": ""
             }
            },
            "type": "scattermapbox"
           }
          ],
          "scatterpolar": [
           {
            "marker": {
             "colorbar": {
              "outlinewidth": 0,
              "ticks": ""
             }
            },
            "type": "scatterpolar"
           }
          ],
          "scatterpolargl": [
           {
            "marker": {
             "colorbar": {
              "outlinewidth": 0,
              "ticks": ""
             }
            },
            "type": "scatterpolargl"
           }
          ],
          "scatterternary": [
           {
            "marker": {
             "colorbar": {
              "outlinewidth": 0,
              "ticks": ""
             }
            },
            "type": "scatterternary"
           }
          ],
          "surface": [
           {
            "colorbar": {
             "outlinewidth": 0,
             "ticks": ""
            },
            "colorscale": [
             [
              0,
              "#0d0887"
             ],
             [
              0.1111111111111111,
              "#46039f"
             ],
             [
              0.2222222222222222,
              "#7201a8"
             ],
             [
              0.3333333333333333,
              "#9c179e"
             ],
             [
              0.4444444444444444,
              "#bd3786"
             ],
             [
              0.5555555555555556,
              "#d8576b"
             ],
             [
              0.6666666666666666,
              "#ed7953"
             ],
             [
              0.7777777777777778,
              "#fb9f3a"
             ],
             [
              0.8888888888888888,
              "#fdca26"
             ],
             [
              1,
              "#f0f921"
             ]
            ],
            "type": "surface"
           }
          ],
          "table": [
           {
            "cells": {
             "fill": {
              "color": "#EBF0F8"
             },
             "line": {
              "color": "white"
             }
            },
            "header": {
             "fill": {
              "color": "#C8D4E3"
             },
             "line": {
              "color": "white"
             }
            },
            "type": "table"
           }
          ]
         },
         "layout": {
          "annotationdefaults": {
           "arrowcolor": "#2a3f5f",
           "arrowhead": 0,
           "arrowwidth": 1
          },
          "autotypenumbers": "strict",
          "coloraxis": {
           "colorbar": {
            "outlinewidth": 0,
            "ticks": ""
           }
          },
          "colorscale": {
           "diverging": [
            [
             0,
             "#8e0152"
            ],
            [
             0.1,
             "#c51b7d"
            ],
            [
             0.2,
             "#de77ae"
            ],
            [
             0.3,
             "#f1b6da"
            ],
            [
             0.4,
             "#fde0ef"
            ],
            [
             0.5,
             "#f7f7f7"
            ],
            [
             0.6,
             "#e6f5d0"
            ],
            [
             0.7,
             "#b8e186"
            ],
            [
             0.8,
             "#7fbc41"
            ],
            [
             0.9,
             "#4d9221"
            ],
            [
             1,
             "#276419"
            ]
           ],
           "sequential": [
            [
             0,
             "#0d0887"
            ],
            [
             0.1111111111111111,
             "#46039f"
            ],
            [
             0.2222222222222222,
             "#7201a8"
            ],
            [
             0.3333333333333333,
             "#9c179e"
            ],
            [
             0.4444444444444444,
             "#bd3786"
            ],
            [
             0.5555555555555556,
             "#d8576b"
            ],
            [
             0.6666666666666666,
             "#ed7953"
            ],
            [
             0.7777777777777778,
             "#fb9f3a"
            ],
            [
             0.8888888888888888,
             "#fdca26"
            ],
            [
             1,
             "#f0f921"
            ]
           ],
           "sequentialminus": [
            [
             0,
             "#0d0887"
            ],
            [
             0.1111111111111111,
             "#46039f"
            ],
            [
             0.2222222222222222,
             "#7201a8"
            ],
            [
             0.3333333333333333,
             "#9c179e"
            ],
            [
             0.4444444444444444,
             "#bd3786"
            ],
            [
             0.5555555555555556,
             "#d8576b"
            ],
            [
             0.6666666666666666,
             "#ed7953"
            ],
            [
             0.7777777777777778,
             "#fb9f3a"
            ],
            [
             0.8888888888888888,
             "#fdca26"
            ],
            [
             1,
             "#f0f921"
            ]
           ]
          },
          "colorway": [
           "#636efa",
           "#EF553B",
           "#00cc96",
           "#ab63fa",
           "#FFA15A",
           "#19d3f3",
           "#FF6692",
           "#B6E880",
           "#FF97FF",
           "#FECB52"
          ],
          "font": {
           "color": "#2a3f5f"
          },
          "geo": {
           "bgcolor": "white",
           "lakecolor": "white",
           "landcolor": "#E5ECF6",
           "showlakes": true,
           "showland": true,
           "subunitcolor": "white"
          },
          "hoverlabel": {
           "align": "left"
          },
          "hovermode": "closest",
          "mapbox": {
           "style": "light"
          },
          "paper_bgcolor": "white",
          "plot_bgcolor": "#E5ECF6",
          "polar": {
           "angularaxis": {
            "gridcolor": "white",
            "linecolor": "white",
            "ticks": ""
           },
           "bgcolor": "#E5ECF6",
           "radialaxis": {
            "gridcolor": "white",
            "linecolor": "white",
            "ticks": ""
           }
          },
          "scene": {
           "xaxis": {
            "backgroundcolor": "#E5ECF6",
            "gridcolor": "white",
            "gridwidth": 2,
            "linecolor": "white",
            "showbackground": true,
            "ticks": "",
            "zerolinecolor": "white"
           },
           "yaxis": {
            "backgroundcolor": "#E5ECF6",
            "gridcolor": "white",
            "gridwidth": 2,
            "linecolor": "white",
            "showbackground": true,
            "ticks": "",
            "zerolinecolor": "white"
           },
           "zaxis": {
            "backgroundcolor": "#E5ECF6",
            "gridcolor": "white",
            "gridwidth": 2,
            "linecolor": "white",
            "showbackground": true,
            "ticks": "",
            "zerolinecolor": "white"
           }
          },
          "shapedefaults": {
           "line": {
            "color": "#2a3f5f"
           }
          },
          "ternary": {
           "aaxis": {
            "gridcolor": "white",
            "linecolor": "white",
            "ticks": ""
           },
           "baxis": {
            "gridcolor": "white",
            "linecolor": "white",
            "ticks": ""
           },
           "bgcolor": "#E5ECF6",
           "caxis": {
            "gridcolor": "white",
            "linecolor": "white",
            "ticks": ""
           }
          },
          "title": {
           "x": 0.05
          },
          "xaxis": {
           "automargin": true,
           "gridcolor": "white",
           "linecolor": "white",
           "ticks": "",
           "title": {
            "standoff": 15
           },
           "zerolinecolor": "white",
           "zerolinewidth": 2
          },
          "yaxis": {
           "automargin": true,
           "gridcolor": "white",
           "linecolor": "white",
           "ticks": "",
           "title": {
            "standoff": 15
           },
           "zerolinecolor": "white",
           "zerolinewidth": 2
          }
         }
        },
        "title": {
         "text": "Top 20 job vacancy company with their ratings"
        },
        "width": 900,
        "xaxis": {
         "anchor": "y",
         "domain": [
          0,
          1
         ],
         "title": {
          "text": "Company Name(Rating)"
         }
        },
        "yaxis": {
         "anchor": "x",
         "domain": [
          0,
          1
         ],
         "title": {
          "text": "Job count"
         }
        }
       }
      },
      "text/html": [
       "<div>                            <div id=\"3bf741ad-da3b-42de-8a6c-9ecff021beb8\" class=\"plotly-graph-div\" style=\"height:525px; width:900px;\"></div>            <script type=\"text/javascript\">                require([\"plotly\"], function(Plotly) {                    window.PLOTLYENV=window.PLOTLYENV || {};                                    if (document.getElementById(\"3bf741ad-da3b-42de-8a6c-9ecff021beb8\")) {                    Plotly.newPlot(                        \"3bf741ad-da3b-42de-8a6c-9ecff021beb8\",                        [{\"alignmentgroup\": \"True\", \"hovertemplate\": \"color=Cognizant(3.9)<br>x=%{x}<br>y=%{y}<br>text=%{text}<extra></extra>\", \"legendgroup\": \"Cognizant(3.9)\", \"marker\": {\"color\": \"rgb(127, 60, 141)\", \"line\": {\"color\": \"rgb(8,48,107)\", \"width\": 1.5}}, \"name\": \"Cognizant(3.9)\", \"offsetgroup\": \"Cognizant(3.9)\", \"opacity\": 0.7, \"orientation\": \"v\", \"showlegend\": true, \"text\": [19.0], \"textposition\": \"outside\", \"type\": \"bar\", \"x\": [\"Cognizant(3.9)\"], \"xaxis\": \"x\", \"y\": [19], \"yaxis\": \"y\"}, {\"alignmentgroup\": \"True\", \"hovertemplate\": \"color=IBM(3.9)<br>x=%{x}<br>y=%{y}<br>text=%{text}<extra></extra>\", \"legendgroup\": \"IBM(3.9)\", \"marker\": {\"color\": \"rgb(17, 165, 121)\", \"line\": {\"color\": \"rgb(8,48,107)\", \"width\": 1.5}}, \"name\": \"IBM(3.9)\", \"offsetgroup\": \"IBM(3.9)\", \"opacity\": 0.7, \"orientation\": \"v\", \"showlegend\": true, \"text\": [12.0], \"textposition\": \"outside\", \"type\": \"bar\", \"x\": [\"IBM(3.9)\"], \"xaxis\": \"x\", \"y\": [12], \"yaxis\": \"y\"}, {\"alignmentgroup\": \"True\", \"hovertemplate\": \"color=JPMorgan Chase Bank, N.A.(3.9)<br>x=%{x}<br>y=%{y}<br>text=%{text}<extra></extra>\", \"legendgroup\": \"JPMorgan Chase Bank, N.A.(3.9)\", \"marker\": {\"color\": \"rgb(57, 105, 172)\", \"line\": {\"color\": \"rgb(8,48,107)\", \"width\": 1.5}}, \"name\": \"JPMorgan Chase Bank, N.A.(3.9)\", \"offsetgroup\": \"JPMorgan Chase Bank, N.A.(3.9)\", \"opacity\": 0.7, \"orientation\": \"v\", \"showlegend\": true, \"text\": [8.0], \"textposition\": \"outside\", \"type\": \"bar\", \"x\": [\"JPMorgan Chase Bank, N.A.(3.9)\"], \"xaxis\": \"x\", \"y\": [8], \"yaxis\": \"y\"}, {\"alignmentgroup\": \"True\", \"hovertemplate\": \"color=Deloitte(4.0)<br>x=%{x}<br>y=%{y}<br>text=%{text}<extra></extra>\", \"legendgroup\": \"Deloitte(4.0)\", \"marker\": {\"color\": \"rgb(242, 183, 1)\", \"line\": {\"color\": \"rgb(8,48,107)\", \"width\": 1.5}}, \"name\": \"Deloitte(4.0)\", \"offsetgroup\": \"Deloitte(4.0)\", \"opacity\": 0.7, \"orientation\": \"v\", \"showlegend\": true, \"text\": [8.0], \"textposition\": \"outside\", \"type\": \"bar\", \"x\": [\"Deloitte(4.0)\"], \"xaxis\": \"x\", \"y\": [8], \"yaxis\": \"y\"}, {\"alignmentgroup\": \"True\", \"hovertemplate\": \"color=Novartis(4.1)<br>x=%{x}<br>y=%{y}<br>text=%{text}<extra></extra>\", \"legendgroup\": \"Novartis(4.1)\", \"marker\": {\"color\": \"rgb(231, 63, 116)\", \"line\": {\"color\": \"rgb(8,48,107)\", \"width\": 1.5}}, \"name\": \"Novartis(4.1)\", \"offsetgroup\": \"Novartis(4.1)\", \"opacity\": 0.7, \"orientation\": \"v\", \"showlegend\": true, \"text\": [8.0], \"textposition\": \"outside\", \"type\": \"bar\", \"x\": [\"Novartis(4.1)\"], \"xaxis\": \"x\", \"y\": [8], \"yaxis\": \"y\"}, {\"alignmentgroup\": \"True\", \"hovertemplate\": \"color=Gartner(3.7)<br>x=%{x}<br>y=%{y}<br>text=%{text}<extra></extra>\", \"legendgroup\": \"Gartner(3.7)\", \"marker\": {\"color\": \"rgb(128, 186, 90)\", \"line\": {\"color\": \"rgb(8,48,107)\", \"width\": 1.5}}, \"name\": \"Gartner(3.7)\", \"offsetgroup\": \"Gartner(3.7)\", \"opacity\": 0.7, \"orientation\": \"v\", \"showlegend\": true, \"text\": [8.0], \"textposition\": \"outside\", \"type\": \"bar\", \"x\": [\"Gartner(3.7)\"], \"xaxis\": \"x\", \"y\": [8], \"yaxis\": \"y\"}, {\"alignmentgroup\": \"True\", \"hovertemplate\": \"color=Microsoft(4.2)<br>x=%{x}<br>y=%{y}<br>text=%{text}<extra></extra>\", \"legendgroup\": \"Microsoft(4.2)\", \"marker\": {\"color\": \"rgb(230, 131, 16)\", \"line\": {\"color\": \"rgb(8,48,107)\", \"width\": 1.5}}, \"name\": \"Microsoft(4.2)\", \"offsetgroup\": \"Microsoft(4.2)\", \"opacity\": 0.7, \"orientation\": \"v\", \"showlegend\": true, \"text\": [8.0], \"textposition\": \"outside\", \"type\": \"bar\", \"x\": [\"Microsoft(4.2)\"], \"xaxis\": \"x\", \"y\": [8], \"yaxis\": \"y\"}, {\"alignmentgroup\": \"True\", \"hovertemplate\": \"color=Larsen & Toubro Infotech Limited(3.7)<br>x=%{x}<br>y=%{y}<br>text=%{text}<extra></extra>\", \"legendgroup\": \"Larsen & Toubro Infotech Limited(3.7)\", \"marker\": {\"color\": \"rgb(0, 134, 149)\", \"line\": {\"color\": \"rgb(8,48,107)\", \"width\": 1.5}}, \"name\": \"Larsen & Toubro Infotech Limited(3.7)\", \"offsetgroup\": \"Larsen & Toubro Infotech Limited(3.7)\", \"opacity\": 0.7, \"orientation\": \"v\", \"showlegend\": true, \"text\": [7.0], \"textposition\": \"outside\", \"type\": \"bar\", \"x\": [\"Larsen & Toubro Infotech Limited(3.7)\"], \"xaxis\": \"x\", \"y\": [7], \"yaxis\": \"y\"}, {\"alignmentgroup\": \"True\", \"hovertemplate\": \"color=Micron(3.8)<br>x=%{x}<br>y=%{y}<br>text=%{text}<extra></extra>\", \"legendgroup\": \"Micron(3.8)\", \"marker\": {\"color\": \"rgb(207, 28, 144)\", \"line\": {\"color\": \"rgb(8,48,107)\", \"width\": 1.5}}, \"name\": \"Micron(3.8)\", \"offsetgroup\": \"Micron(3.8)\", \"opacity\": 0.7, \"orientation\": \"v\", \"showlegend\": true, \"text\": [6.0], \"textposition\": \"outside\", \"type\": \"bar\", \"x\": [\"Micron(3.8)\"], \"xaxis\": \"x\", \"y\": [6], \"yaxis\": \"y\"}, {\"alignmentgroup\": \"True\", \"hovertemplate\": \"color=Oracle(3.8)<br>x=%{x}<br>y=%{y}<br>text=%{text}<extra></extra>\", \"legendgroup\": \"Oracle(3.8)\", \"marker\": {\"color\": \"rgb(249, 123, 114)\", \"line\": {\"color\": \"rgb(8,48,107)\", \"width\": 1.5}}, \"name\": \"Oracle(3.8)\", \"offsetgroup\": \"Oracle(3.8)\", \"opacity\": 0.7, \"orientation\": \"v\", \"showlegend\": true, \"text\": [6.0], \"textposition\": \"outside\", \"type\": \"bar\", \"x\": [\"Oracle(3.8)\"], \"xaxis\": \"x\", \"y\": [6], \"yaxis\": \"y\"}, {\"alignmentgroup\": \"True\", \"hovertemplate\": \"color=IQVIA(3.8)<br>x=%{x}<br>y=%{y}<br>text=%{text}<extra></extra>\", \"legendgroup\": \"IQVIA(3.8)\", \"marker\": {\"color\": \"rgb(165, 170, 153)\", \"line\": {\"color\": \"rgb(8,48,107)\", \"width\": 1.5}}, \"name\": \"IQVIA(3.8)\", \"offsetgroup\": \"IQVIA(3.8)\", \"opacity\": 0.7, \"orientation\": \"v\", \"showlegend\": true, \"text\": [6.0], \"textposition\": \"outside\", \"type\": \"bar\", \"x\": [\"IQVIA(3.8)\"], \"xaxis\": \"x\", \"y\": [6], \"yaxis\": \"y\"}, {\"alignmentgroup\": \"True\", \"hovertemplate\": \"color=McKinsey & Company(4.3)<br>x=%{x}<br>y=%{y}<br>text=%{text}<extra></extra>\", \"legendgroup\": \"McKinsey & Company(4.3)\", \"marker\": {\"color\": \"rgb(127, 60, 141)\", \"line\": {\"color\": \"rgb(8,48,107)\", \"width\": 1.5}}, \"name\": \"McKinsey & Company(4.3)\", \"offsetgroup\": \"McKinsey & Company(4.3)\", \"opacity\": 0.7, \"orientation\": \"v\", \"showlegend\": true, \"text\": [6.0], \"textposition\": \"outside\", \"type\": \"bar\", \"x\": [\"McKinsey & Company(4.3)\"], \"xaxis\": \"x\", \"y\": [6], \"yaxis\": \"y\"}, {\"alignmentgroup\": \"True\", \"hovertemplate\": \"color=GSK(4.2)<br>x=%{x}<br>y=%{y}<br>text=%{text}<extra></extra>\", \"legendgroup\": \"GSK(4.2)\", \"marker\": {\"color\": \"rgb(17, 165, 121)\", \"line\": {\"color\": \"rgb(8,48,107)\", \"width\": 1.5}}, \"name\": \"GSK(4.2)\", \"offsetgroup\": \"GSK(4.2)\", \"opacity\": 0.7, \"orientation\": \"v\", \"showlegend\": true, \"text\": [5.0], \"textposition\": \"outside\", \"type\": \"bar\", \"x\": [\"GSK(4.2)\"], \"xaxis\": \"x\", \"y\": [5], \"yaxis\": \"y\"}, {\"alignmentgroup\": \"True\", \"hovertemplate\": \"color=GO-JEK(0.1)<br>x=%{x}<br>y=%{y}<br>text=%{text}<extra></extra>\", \"legendgroup\": \"GO-JEK(0.1)\", \"marker\": {\"color\": \"rgb(57, 105, 172)\", \"line\": {\"color\": \"rgb(8,48,107)\", \"width\": 1.5}}, \"name\": \"GO-JEK(0.1)\", \"offsetgroup\": \"GO-JEK(0.1)\", \"opacity\": 0.7, \"orientation\": \"v\", \"showlegend\": true, \"text\": [5.0], \"textposition\": \"outside\", \"type\": \"bar\", \"x\": [\"GO-JEK(0.1)\"], \"xaxis\": \"x\", \"y\": [5], \"yaxis\": \"y\"}, {\"alignmentgroup\": \"True\", \"hovertemplate\": \"color=CareerXperts(0.1)<br>x=%{x}<br>y=%{y}<br>text=%{text}<extra></extra>\", \"legendgroup\": \"CareerXperts(0.1)\", \"marker\": {\"color\": \"rgb(242, 183, 1)\", \"line\": {\"color\": \"rgb(8,48,107)\", \"width\": 1.5}}, \"name\": \"CareerXperts(0.1)\", \"offsetgroup\": \"CareerXperts(0.1)\", \"opacity\": 0.7, \"orientation\": \"v\", \"showlegend\": true, \"text\": [5.0], \"textposition\": \"outside\", \"type\": \"bar\", \"x\": [\"CareerXperts(0.1)\"], \"xaxis\": \"x\", \"y\": [5], \"yaxis\": \"y\"}, {\"alignmentgroup\": \"True\", \"hovertemplate\": \"color=Hewlett Packard Enterprise(3.8)<br>x=%{x}<br>y=%{y}<br>text=%{text}<extra></extra>\", \"legendgroup\": \"Hewlett Packard Enterprise(3.8)\", \"marker\": {\"color\": \"rgb(231, 63, 116)\", \"line\": {\"color\": \"rgb(8,48,107)\", \"width\": 1.5}}, \"name\": \"Hewlett Packard Enterprise(3.8)\", \"offsetgroup\": \"Hewlett Packard Enterprise(3.8)\", \"opacity\": 0.7, \"orientation\": \"v\", \"showlegend\": true, \"text\": [5.0], \"textposition\": \"outside\", \"type\": \"bar\", \"x\": [\"Hewlett Packard Enterprise(3.8)\"], \"xaxis\": \"x\", \"y\": [5], \"yaxis\": \"y\"}, {\"alignmentgroup\": \"True\", \"hovertemplate\": \"color=Technogen India Private Limited(0.1)<br>x=%{x}<br>y=%{y}<br>text=%{text}<extra></extra>\", \"legendgroup\": \"Technogen India Private Limited(0.1)\", \"marker\": {\"color\": \"rgb(128, 186, 90)\", \"line\": {\"color\": \"rgb(8,48,107)\", \"width\": 1.5}}, \"name\": \"Technogen India Private Limited(0.1)\", \"offsetgroup\": \"Technogen India Private Limited(0.1)\", \"opacity\": 0.7, \"orientation\": \"v\", \"showlegend\": true, \"text\": [4.0], \"textposition\": \"outside\", \"type\": \"bar\", \"x\": [\"Technogen India Private Limited(0.1)\"], \"xaxis\": \"x\", \"y\": [4], \"yaxis\": \"y\"}, {\"alignmentgroup\": \"True\", \"hovertemplate\": \"color=Honeywell(3.7)<br>x=%{x}<br>y=%{y}<br>text=%{text}<extra></extra>\", \"legendgroup\": \"Honeywell(3.7)\", \"marker\": {\"color\": \"rgb(230, 131, 16)\", \"line\": {\"color\": \"rgb(8,48,107)\", \"width\": 1.5}}, \"name\": \"Honeywell(3.7)\", \"offsetgroup\": \"Honeywell(3.7)\", \"opacity\": 0.7, \"orientation\": \"v\", \"showlegend\": true, \"text\": [4.0], \"textposition\": \"outside\", \"type\": \"bar\", \"x\": [\"Honeywell(3.7)\"], \"xaxis\": \"x\", \"y\": [4], \"yaxis\": \"y\"}, {\"alignmentgroup\": \"True\", \"hovertemplate\": \"color=XenonStack(2.5)<br>x=%{x}<br>y=%{y}<br>text=%{text}<extra></extra>\", \"legendgroup\": \"XenonStack(2.5)\", \"marker\": {\"color\": \"rgb(0, 134, 149)\", \"line\": {\"color\": \"rgb(8,48,107)\", \"width\": 1.5}}, \"name\": \"XenonStack(2.5)\", \"offsetgroup\": \"XenonStack(2.5)\", \"opacity\": 0.7, \"orientation\": \"v\", \"showlegend\": true, \"text\": [4.0], \"textposition\": \"outside\", \"type\": \"bar\", \"x\": [\"XenonStack(2.5)\"], \"xaxis\": \"x\", \"y\": [4], \"yaxis\": \"y\"}, {\"alignmentgroup\": \"True\", \"hovertemplate\": \"color=CCS Computers(0.1)<br>x=%{x}<br>y=%{y}<br>text=%{text}<extra></extra>\", \"legendgroup\": \"CCS Computers(0.1)\", \"marker\": {\"color\": \"rgb(207, 28, 144)\", \"line\": {\"color\": \"rgb(8,48,107)\", \"width\": 1.5}}, \"name\": \"CCS Computers(0.1)\", \"offsetgroup\": \"CCS Computers(0.1)\", \"opacity\": 0.7, \"orientation\": \"v\", \"showlegend\": true, \"text\": [4.0], \"textposition\": \"outside\", \"type\": \"bar\", \"x\": [\"CCS Computers(0.1)\"], \"xaxis\": \"x\", \"y\": [4], \"yaxis\": \"y\"}],                        {\"barmode\": \"relative\", \"legend\": {\"title\": {\"text\": \"color\"}, \"tracegroupgap\": 0}, \"margin\": {\"t\": 60}, \"showlegend\": false, \"template\": {\"data\": {\"bar\": [{\"error_x\": {\"color\": \"#2a3f5f\"}, \"error_y\": {\"color\": \"#2a3f5f\"}, \"marker\": {\"line\": {\"color\": \"#E5ECF6\", \"width\": 0.5}}, \"type\": \"bar\"}], \"barpolar\": [{\"marker\": {\"line\": {\"color\": \"#E5ECF6\", \"width\": 0.5}}, \"type\": \"barpolar\"}], \"carpet\": [{\"aaxis\": {\"endlinecolor\": \"#2a3f5f\", \"gridcolor\": \"white\", \"linecolor\": \"white\", \"minorgridcolor\": \"white\", \"startlinecolor\": \"#2a3f5f\"}, \"baxis\": {\"endlinecolor\": \"#2a3f5f\", \"gridcolor\": \"white\", \"linecolor\": \"white\", \"minorgridcolor\": \"white\", \"startlinecolor\": \"#2a3f5f\"}, \"type\": \"carpet\"}], \"choropleth\": [{\"colorbar\": {\"outlinewidth\": 0, \"ticks\": \"\"}, \"type\": \"choropleth\"}], \"contour\": [{\"colorbar\": {\"outlinewidth\": 0, \"ticks\": \"\"}, \"colorscale\": [[0.0, \"#0d0887\"], [0.1111111111111111, \"#46039f\"], [0.2222222222222222, \"#7201a8\"], [0.3333333333333333, \"#9c179e\"], [0.4444444444444444, \"#bd3786\"], [0.5555555555555556, \"#d8576b\"], [0.6666666666666666, \"#ed7953\"], [0.7777777777777778, \"#fb9f3a\"], [0.8888888888888888, \"#fdca26\"], [1.0, \"#f0f921\"]], \"type\": \"contour\"}], \"contourcarpet\": [{\"colorbar\": {\"outlinewidth\": 0, \"ticks\": \"\"}, \"type\": \"contourcarpet\"}], \"heatmap\": [{\"colorbar\": {\"outlinewidth\": 0, \"ticks\": \"\"}, \"colorscale\": [[0.0, \"#0d0887\"], [0.1111111111111111, \"#46039f\"], [0.2222222222222222, \"#7201a8\"], [0.3333333333333333, \"#9c179e\"], [0.4444444444444444, \"#bd3786\"], [0.5555555555555556, \"#d8576b\"], [0.6666666666666666, \"#ed7953\"], [0.7777777777777778, \"#fb9f3a\"], [0.8888888888888888, \"#fdca26\"], [1.0, \"#f0f921\"]], \"type\": \"heatmap\"}], \"heatmapgl\": [{\"colorbar\": {\"outlinewidth\": 0, \"ticks\": \"\"}, \"colorscale\": [[0.0, \"#0d0887\"], [0.1111111111111111, \"#46039f\"], [0.2222222222222222, \"#7201a8\"], [0.3333333333333333, \"#9c179e\"], [0.4444444444444444, \"#bd3786\"], [0.5555555555555556, \"#d8576b\"], [0.6666666666666666, \"#ed7953\"], [0.7777777777777778, \"#fb9f3a\"], [0.8888888888888888, \"#fdca26\"], [1.0, \"#f0f921\"]], \"type\": \"heatmapgl\"}], \"histogram\": [{\"marker\": {\"colorbar\": {\"outlinewidth\": 0, \"ticks\": \"\"}}, \"type\": \"histogram\"}], \"histogram2d\": [{\"colorbar\": {\"outlinewidth\": 0, \"ticks\": \"\"}, \"colorscale\": [[0.0, \"#0d0887\"], [0.1111111111111111, \"#46039f\"], [0.2222222222222222, \"#7201a8\"], [0.3333333333333333, \"#9c179e\"], [0.4444444444444444, \"#bd3786\"], [0.5555555555555556, \"#d8576b\"], [0.6666666666666666, \"#ed7953\"], [0.7777777777777778, \"#fb9f3a\"], [0.8888888888888888, \"#fdca26\"], [1.0, \"#f0f921\"]], \"type\": \"histogram2d\"}], \"histogram2dcontour\": [{\"colorbar\": {\"outlinewidth\": 0, \"ticks\": \"\"}, \"colorscale\": [[0.0, \"#0d0887\"], [0.1111111111111111, \"#46039f\"], [0.2222222222222222, \"#7201a8\"], [0.3333333333333333, \"#9c179e\"], [0.4444444444444444, \"#bd3786\"], [0.5555555555555556, \"#d8576b\"], [0.6666666666666666, \"#ed7953\"], [0.7777777777777778, \"#fb9f3a\"], [0.8888888888888888, \"#fdca26\"], [1.0, \"#f0f921\"]], \"type\": \"histogram2dcontour\"}], \"mesh3d\": [{\"colorbar\": {\"outlinewidth\": 0, \"ticks\": \"\"}, \"type\": \"mesh3d\"}], \"parcoords\": [{\"line\": {\"colorbar\": {\"outlinewidth\": 0, \"ticks\": \"\"}}, \"type\": \"parcoords\"}], \"pie\": [{\"automargin\": true, \"type\": \"pie\"}], \"scatter\": [{\"marker\": {\"colorbar\": {\"outlinewidth\": 0, \"ticks\": \"\"}}, \"type\": \"scatter\"}], \"scatter3d\": [{\"line\": {\"colorbar\": {\"outlinewidth\": 0, \"ticks\": \"\"}}, \"marker\": {\"colorbar\": {\"outlinewidth\": 0, \"ticks\": \"\"}}, \"type\": \"scatter3d\"}], \"scattercarpet\": [{\"marker\": {\"colorbar\": {\"outlinewidth\": 0, \"ticks\": \"\"}}, \"type\": \"scattercarpet\"}], \"scattergeo\": [{\"marker\": {\"colorbar\": {\"outlinewidth\": 0, \"ticks\": \"\"}}, \"type\": \"scattergeo\"}], \"scattergl\": [{\"marker\": {\"colorbar\": {\"outlinewidth\": 0, \"ticks\": \"\"}}, \"type\": \"scattergl\"}], \"scattermapbox\": [{\"marker\": {\"colorbar\": {\"outlinewidth\": 0, \"ticks\": \"\"}}, \"type\": \"scattermapbox\"}], \"scatterpolar\": [{\"marker\": {\"colorbar\": {\"outlinewidth\": 0, \"ticks\": \"\"}}, \"type\": \"scatterpolar\"}], \"scatterpolargl\": [{\"marker\": {\"colorbar\": {\"outlinewidth\": 0, \"ticks\": \"\"}}, \"type\": \"scatterpolargl\"}], \"scatterternary\": [{\"marker\": {\"colorbar\": {\"outlinewidth\": 0, \"ticks\": \"\"}}, \"type\": \"scatterternary\"}], \"surface\": [{\"colorbar\": {\"outlinewidth\": 0, \"ticks\": \"\"}, \"colorscale\": [[0.0, \"#0d0887\"], [0.1111111111111111, \"#46039f\"], [0.2222222222222222, \"#7201a8\"], [0.3333333333333333, \"#9c179e\"], [0.4444444444444444, \"#bd3786\"], [0.5555555555555556, \"#d8576b\"], [0.6666666666666666, \"#ed7953\"], [0.7777777777777778, \"#fb9f3a\"], [0.8888888888888888, \"#fdca26\"], [1.0, \"#f0f921\"]], \"type\": \"surface\"}], \"table\": [{\"cells\": {\"fill\": {\"color\": \"#EBF0F8\"}, \"line\": {\"color\": \"white\"}}, \"header\": {\"fill\": {\"color\": \"#C8D4E3\"}, \"line\": {\"color\": \"white\"}}, \"type\": \"table\"}]}, \"layout\": {\"annotationdefaults\": {\"arrowcolor\": \"#2a3f5f\", \"arrowhead\": 0, \"arrowwidth\": 1}, \"autotypenumbers\": \"strict\", \"coloraxis\": {\"colorbar\": {\"outlinewidth\": 0, \"ticks\": \"\"}}, \"colorscale\": {\"diverging\": [[0, \"#8e0152\"], [0.1, \"#c51b7d\"], [0.2, \"#de77ae\"], [0.3, \"#f1b6da\"], [0.4, \"#fde0ef\"], [0.5, \"#f7f7f7\"], [0.6, \"#e6f5d0\"], [0.7, \"#b8e186\"], [0.8, \"#7fbc41\"], [0.9, \"#4d9221\"], [1, \"#276419\"]], \"sequential\": [[0.0, \"#0d0887\"], [0.1111111111111111, \"#46039f\"], [0.2222222222222222, \"#7201a8\"], [0.3333333333333333, \"#9c179e\"], [0.4444444444444444, \"#bd3786\"], [0.5555555555555556, \"#d8576b\"], [0.6666666666666666, \"#ed7953\"], [0.7777777777777778, \"#fb9f3a\"], [0.8888888888888888, \"#fdca26\"], [1.0, \"#f0f921\"]], \"sequentialminus\": [[0.0, \"#0d0887\"], [0.1111111111111111, \"#46039f\"], [0.2222222222222222, \"#7201a8\"], [0.3333333333333333, \"#9c179e\"], [0.4444444444444444, \"#bd3786\"], [0.5555555555555556, \"#d8576b\"], [0.6666666666666666, \"#ed7953\"], [0.7777777777777778, \"#fb9f3a\"], [0.8888888888888888, \"#fdca26\"], [1.0, \"#f0f921\"]]}, \"colorway\": [\"#636efa\", \"#EF553B\", \"#00cc96\", \"#ab63fa\", \"#FFA15A\", \"#19d3f3\", \"#FF6692\", \"#B6E880\", \"#FF97FF\", \"#FECB52\"], \"font\": {\"color\": \"#2a3f5f\"}, \"geo\": {\"bgcolor\": \"white\", \"lakecolor\": \"white\", \"landcolor\": \"#E5ECF6\", \"showlakes\": true, \"showland\": true, \"subunitcolor\": \"white\"}, \"hoverlabel\": {\"align\": \"left\"}, \"hovermode\": \"closest\", \"mapbox\": {\"style\": \"light\"}, \"paper_bgcolor\": \"white\", \"plot_bgcolor\": \"#E5ECF6\", \"polar\": {\"angularaxis\": {\"gridcolor\": \"white\", \"linecolor\": \"white\", \"ticks\": \"\"}, \"bgcolor\": \"#E5ECF6\", \"radialaxis\": {\"gridcolor\": \"white\", \"linecolor\": \"white\", \"ticks\": \"\"}}, \"scene\": {\"xaxis\": {\"backgroundcolor\": \"#E5ECF6\", \"gridcolor\": \"white\", \"gridwidth\": 2, \"linecolor\": \"white\", \"showbackground\": true, \"ticks\": \"\", \"zerolinecolor\": \"white\"}, \"yaxis\": {\"backgroundcolor\": \"#E5ECF6\", \"gridcolor\": \"white\", \"gridwidth\": 2, \"linecolor\": \"white\", \"showbackground\": true, \"ticks\": \"\", \"zerolinecolor\": \"white\"}, \"zaxis\": {\"backgroundcolor\": \"#E5ECF6\", \"gridcolor\": \"white\", \"gridwidth\": 2, \"linecolor\": \"white\", \"showbackground\": true, \"ticks\": \"\", \"zerolinecolor\": \"white\"}}, \"shapedefaults\": {\"line\": {\"color\": \"#2a3f5f\"}}, \"ternary\": {\"aaxis\": {\"gridcolor\": \"white\", \"linecolor\": \"white\", \"ticks\": \"\"}, \"baxis\": {\"gridcolor\": \"white\", \"linecolor\": \"white\", \"ticks\": \"\"}, \"bgcolor\": \"#E5ECF6\", \"caxis\": {\"gridcolor\": \"white\", \"linecolor\": \"white\", \"ticks\": \"\"}}, \"title\": {\"x\": 0.05}, \"xaxis\": {\"automargin\": true, \"gridcolor\": \"white\", \"linecolor\": \"white\", \"ticks\": \"\", \"title\": {\"standoff\": 15}, \"zerolinecolor\": \"white\", \"zerolinewidth\": 2}, \"yaxis\": {\"automargin\": true, \"gridcolor\": \"white\", \"linecolor\": \"white\", \"ticks\": \"\", \"title\": {\"standoff\": 15}, \"zerolinecolor\": \"white\", \"zerolinewidth\": 2}}}, \"title\": {\"text\": \"Top 20 job vacancy company with their ratings\"}, \"width\": 900, \"xaxis\": {\"anchor\": \"y\", \"domain\": [0.0, 1.0], \"title\": {\"text\": \"Company Name(Rating)\"}}, \"yaxis\": {\"anchor\": \"x\", \"domain\": [0.0, 1.0], \"title\": {\"text\": \"Job count\"}}},                        {\"responsive\": true}                    ).then(function(){\n",
       "                            \n",
       "var gd = document.getElementById('3bf741ad-da3b-42de-8a6c-9ecff021beb8');\n",
       "var x = new MutationObserver(function (mutations, observer) {{\n",
       "        var display = window.getComputedStyle(gd).display;\n",
       "        if (!display || display === 'none') {{\n",
       "            console.log([gd, 'removed!']);\n",
       "            Plotly.purge(gd);\n",
       "            observer.disconnect();\n",
       "        }}\n",
       "}});\n",
       "\n",
       "// Listen for the removal of the full notebook cells\n",
       "var notebookContainer = gd.closest('#notebook-container');\n",
       "if (notebookContainer) {{\n",
       "    x.observe(notebookContainer, {childList: true});\n",
       "}}\n",
       "\n",
       "// Listen for the clearing of the current output cell\n",
       "var outputEl = gd.closest('.output');\n",
       "if (outputEl) {{\n",
       "    x.observe(outputEl, {childList: true});\n",
       "}}\n",
       "\n",
       "                        })                };                });            </script>        </div>"
      ]
     },
     "metadata": {},
     "output_type": "display_data"
    }
   ],
   "source": [
    "fig = px.bar(y=job,\n",
    "             x=comr,\n",
    "             orientation='v',\n",
    "             color=comr,\n",
    "             text=job,\n",
    "             color_discrete_sequence= px.colors.qualitative.Bold)\n",
    "\n",
    "fig.update_traces( \n",
    "                  textposition='outside', \n",
    "                  marker_line_color='rgb(8,48,107)', \n",
    "                  marker_line_width=1.5, \n",
    "                  opacity=0.7)\n",
    "\n",
    "fig.update_layout(width=900, \n",
    "                  showlegend=False, \n",
    "                  xaxis_title=\"Company Name(Rating)\",\n",
    "                  yaxis_title=\"Job count\",\n",
    "                  title=\"Top 20 job vacancy company with their ratings\")\n",
    "fig.show()"
   ]
  },
  {
   "cell_type": "markdown",
   "metadata": {},
   "source": [
    "They are here with top job vacancies.Cognizant,IBM,Novartis,JP Morgan,Microsoft are very big names but they have avarage ratings and 19,12,8,8 job vacancies respectively."
   ]
  },
  {
   "cell_type": "code",
   "execution_count": null,
   "metadata": {},
   "outputs": [],
   "source": [
    "location = df_temp['JobLocation'].value_counts().nlargest(n=10)\n",
    "fig = px.bar(y=location.values,\n",
    "       x=location.index,\n",
    "       orientation='v',\n",
    "       color=location.index,\n",
    "       text=location.values,\n",
    "       color_discrete_sequence= px.colors.qualitative.Bold)\n",
    "\n",
    "fig.update_traces(texttemplate='%{text:.2s}', \n",
    "                  textposition='outside', \n",
    "                  marker_line_color='rgb(8,48,107)', \n",
    "                  marker_line_width=1.5, \n",
    "                  opacity=0.7)\n",
    "\n",
    "fig.update_layout(width=800, \n",
    "                  showlegend=False, \n",
    "                  xaxis_title=\"City\",\n",
    "                  yaxis_title=\"Count\",\n",
    "                  title=\"Top 10 cities by job count\")\n",
    "fig.show()"
   ]
  },
  {
   "cell_type": "markdown",
   "metadata": {},
   "source": [
    "Bangalore and Mumbai are called the IT capital and the financial capital of India respectively. Thus, it's expected that these two cities will have the maximum number of jobs among cities in India."
   ]
  },
  {
   "cell_type": "code",
   "execution_count": null,
   "metadata": {},
   "outputs": [],
   "source": [
    "fig = go.Figure(  )\n",
    "fig.add_trace(go.Bar(y=df_temp[df_temp['JobLocation'].isin(['Bengaluru, Karnataka'])]['JobTitle'].value_counts().nlargest(n=10).index,\n",
    "                        x=df_temp[df_temp['JobLocation'].isin(['Bengaluru, Karnataka'])]['JobTitle'].value_counts().nlargest(n=10).values,\n",
    "                        marker_color='#008080',\n",
    "                        orientation='h',\n",
    "                        showlegend=True,\n",
    "                        name=\"Bengaluru, Karnataka\"))\n",
    "                \n",
    "\n",
    "fig.add_trace(go.Bar(y=df_temp[df_temp['JobLocation'].isin(['Pune, Maharashtra'])]['JobTitle'].value_counts().nlargest(n=10).index,\n",
    "                        x=df_temp[df_temp['JobLocation'].isin(['Pune, Maharashtra'])]['JobTitle'].value_counts().nlargest(n=10).values,\n",
    "                        marker_color='#00CED1',\n",
    "                        orientation='h',\n",
    "                        showlegend=True,\n",
    "                        name=\"Pune, Maharashtra\"))\n",
    "\n",
    "fig.add_trace(go.Bar(y=df_temp[df_temp['JobLocation'].isin(['Mumbai, Maharashtra'])]['JobTitle'].value_counts().nlargest(n=10).index,\n",
    "                        x=df_temp[df_temp['JobLocation'].isin(['Mumbai, Maharashtra'])]['JobTitle'].value_counts().nlargest(n=10).values,\n",
    "                        marker_color='#46039f',\n",
    "                        orientation='h',\n",
    "                        showlegend=True,\n",
    "                        name=\"Mumbai, Maharashtra\"))                \n",
    "fig.update_layout(legend=dict(x=1,\n",
    "                              y=0.3))\n",
    "fig.show()\n"
   ]
  },
  {
   "cell_type": "markdown",
   "metadata": {},
   "source": [
    "   "
   ]
  },
  {
   "cell_type": "markdown",
   "metadata": {},
   "source": [
    "When we drill down to the city level,Bengaluru,Pune and mumbai have top job titles like  data scientist,data analyst,data engineer ratio is same comparing to their total jobs available,But Pune and Bengaluru has more opportunity for internship."
   ]
  },
  {
   "cell_type": "markdown",
   "metadata": {},
   "source": [
    "# Thank you !!"
   ]
  },
  {
   "cell_type": "code",
   "execution_count": null,
   "metadata": {},
   "outputs": [],
   "source": []
  }
 ],
 "metadata": {
  "kernelspec": {
   "display_name": "Python 3",
   "language": "python",
   "name": "python3"
  },
  "language_info": {
   "codemirror_mode": {
    "name": "ipython",
    "version": 3
   },
   "file_extension": ".py",
   "mimetype": "text/x-python",
   "name": "python",
   "nbconvert_exporter": "python",
   "pygments_lexer": "ipython3",
   "version": "3.7.6"
  }
 },
 "nbformat": 4,
 "nbformat_minor": 4
}

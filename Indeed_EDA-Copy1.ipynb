{
 "cells": [
  {
   "cell_type": "markdown",
   "metadata": {},
   "source": [
    "Amongst the leading job portals in India, Indeed is used to search for jobs from across the country. Indeed is also playing its role in provided jobs during this pandemic through its Coronavirus Job Resources.The 15-year-old US-based site, considered as one of the best job portals in India, has expanded its reach to more than 60 countries worldwide.  "
   ]
  },
  {
   "cell_type": "markdown",
   "metadata": {},
   "source": [
    "#### Indeed have :\n",
    "Facebook followers – 1,919,726  <br> Twitter followers – 222K"
   ]
  },
  {
   "cell_type": "markdown",
   "metadata": {},
   "source": [
    "###### Let's explore the data :"
   ]
  },
  {
   "cell_type": "code",
   "execution_count": 1,
   "metadata": {},
   "outputs": [],
   "source": [
    "import numpy as np\n",
    "import pandas as pd \n",
    "import matplotlib.pyplot as plt\n",
    "import re\n",
    "from wordcloud import WordCloud\n",
    "from nltk.tokenize import RegexpTokenizer\n",
    "import plotly\n",
    "import plotly.express as px\n",
    "import plotly.graph_objects as go\n",
    "import plotly.io as pio\n",
    "from IPython.display import SVG, display"
   ]
  },
  {
   "cell_type": "code",
   "execution_count": 2,
   "metadata": {},
   "outputs": [],
   "source": [
    "df=pd.read_csv('indeed_datasciencejob.csv')"
   ]
  },
  {
   "cell_type": "code",
   "execution_count": 3,
   "metadata": {},
   "outputs": [
    {
     "data": {
      "text/html": [
       "<div>\n",
       "<style scoped>\n",
       "    .dataframe tbody tr th:only-of-type {\n",
       "        vertical-align: middle;\n",
       "    }\n",
       "\n",
       "    .dataframe tbody tr th {\n",
       "        vertical-align: top;\n",
       "    }\n",
       "\n",
       "    .dataframe thead th {\n",
       "        text-align: right;\n",
       "    }\n",
       "</style>\n",
       "<table border=\"1\" class=\"dataframe\">\n",
       "  <thead>\n",
       "    <tr style=\"text-align: right;\">\n",
       "      <th></th>\n",
       "      <th>JobTitle</th>\n",
       "      <th>Salary</th>\n",
       "      <th>CompanyName</th>\n",
       "      <th>CompanyRating</th>\n",
       "      <th>JobLocation</th>\n",
       "      <th>Summary</th>\n",
       "      <th>Date</th>\n",
       "    </tr>\n",
       "  </thead>\n",
       "  <tbody>\n",
       "    <tr>\n",
       "      <th>0</th>\n",
       "      <td>Data Science-DL-</td>\n",
       "      <td>NaN</td>\n",
       "      <td>Aditya Birla Group</td>\n",
       "      <td>4.1</td>\n",
       "      <td>Maharashtra</td>\n",
       "      <td>As such, the role of a data scientist is respo...</td>\n",
       "      <td>Today</td>\n",
       "    </tr>\n",
       "    <tr>\n",
       "      <th>1</th>\n",
       "      <td>Data Science Intern</td>\n",
       "      <td>12000 a month</td>\n",
       "      <td>Virtual Sense Global Technologies</td>\n",
       "      <td>NaN</td>\n",
       "      <td>Pune, Maharashtra</td>\n",
       "      <td>Virtual Sense is a digital health company work...</td>\n",
       "      <td>13 days ago</td>\n",
       "    </tr>\n",
       "    <tr>\n",
       "      <th>2</th>\n",
       "      <td>Data Science Internship</td>\n",
       "      <td>8000 - 15000 a month</td>\n",
       "      <td>Quadratyx</td>\n",
       "      <td>2.0</td>\n",
       "      <td>Hyderabad, Telangana</td>\n",
       "      <td>Demonstrate skills working with teams to deliv...</td>\n",
       "      <td>Today</td>\n",
       "    </tr>\n",
       "    <tr>\n",
       "      <th>3</th>\n",
       "      <td>Data Analyst</td>\n",
       "      <td>600000 - 1000000 a year</td>\n",
       "      <td>Bombinate Technologies (Koo App)</td>\n",
       "      <td>NaN</td>\n",
       "      <td>Jayanagar, Bengaluru, Karnataka</td>\n",
       "      <td>Work closely with the data science team to hel...</td>\n",
       "      <td>Today</td>\n",
       "    </tr>\n",
       "    <tr>\n",
       "      <th>4</th>\n",
       "      <td>Data Scientist</td>\n",
       "      <td>40000 - 60000 a month</td>\n",
       "      <td>INEXTURE SOLUTIONS</td>\n",
       "      <td>4.5</td>\n",
       "      <td>Ahmedabad, Gujarat</td>\n",
       "      <td>Understanding of data structures, data modelin...</td>\n",
       "      <td>Just posted</td>\n",
       "    </tr>\n",
       "  </tbody>\n",
       "</table>\n",
       "</div>"
      ],
      "text/plain": [
       "                  JobTitle                   Salary  \\\n",
       "0         Data Science-DL-                      NaN   \n",
       "1      Data Science Intern            12000 a month   \n",
       "2  Data Science Internship     8000 - 15000 a month   \n",
       "3             Data Analyst  600000 - 1000000 a year   \n",
       "4           Data Scientist    40000 - 60000 a month   \n",
       "\n",
       "                         CompanyName  CompanyRating  \\\n",
       "0                 Aditya Birla Group            4.1   \n",
       "1  Virtual Sense Global Technologies            NaN   \n",
       "2                          Quadratyx            2.0   \n",
       "3   Bombinate Technologies (Koo App)            NaN   \n",
       "4                 INEXTURE SOLUTIONS            4.5   \n",
       "\n",
       "                       JobLocation  \\\n",
       "0                      Maharashtra   \n",
       "1                Pune, Maharashtra   \n",
       "2             Hyderabad, Telangana   \n",
       "3  Jayanagar, Bengaluru, Karnataka   \n",
       "4               Ahmedabad, Gujarat   \n",
       "\n",
       "                                             Summary         Date  \n",
       "0  As such, the role of a data scientist is respo...        Today  \n",
       "1  Virtual Sense is a digital health company work...  13 days ago  \n",
       "2  Demonstrate skills working with teams to deliv...        Today  \n",
       "3  Work closely with the data science team to hel...        Today  \n",
       "4  Understanding of data structures, data modelin...  Just posted  "
      ]
     },
     "execution_count": 3,
     "metadata": {},
     "output_type": "execute_result"
    }
   ],
   "source": [
    "df.head()"
   ]
  },
  {
   "cell_type": "code",
   "execution_count": 4,
   "metadata": {},
   "outputs": [
    {
     "data": {
      "text/html": [
       "<div>\n",
       "<style scoped>\n",
       "    .dataframe tbody tr th:only-of-type {\n",
       "        vertical-align: middle;\n",
       "    }\n",
       "\n",
       "    .dataframe tbody tr th {\n",
       "        vertical-align: top;\n",
       "    }\n",
       "\n",
       "    .dataframe thead th {\n",
       "        text-align: right;\n",
       "    }\n",
       "</style>\n",
       "<table border=\"1\" class=\"dataframe\">\n",
       "  <thead>\n",
       "    <tr style=\"text-align: right;\">\n",
       "      <th></th>\n",
       "      <th>JobTitle</th>\n",
       "      <th>Salary</th>\n",
       "      <th>CompanyName</th>\n",
       "      <th>CompanyRating</th>\n",
       "      <th>JobLocation</th>\n",
       "      <th>Summary</th>\n",
       "      <th>Date</th>\n",
       "    </tr>\n",
       "  </thead>\n",
       "  <tbody>\n",
       "    <tr>\n",
       "      <th>900</th>\n",
       "      <td>Senior Associate - Geospatial Lab (Image Proce...</td>\n",
       "      <td>NaN</td>\n",
       "      <td>Indian Institute for Human Settlements</td>\n",
       "      <td>4.3</td>\n",
       "      <td>Bengaluru, Karnataka</td>\n",
       "      <td>Prior work experience with urban data and urba...</td>\n",
       "      <td>1 day ago</td>\n",
       "    </tr>\n",
       "    <tr>\n",
       "      <th>901</th>\n",
       "      <td>BI/Tableau Developer - VP</td>\n",
       "      <td>NaN</td>\n",
       "      <td>AQR</td>\n",
       "      <td>NaN</td>\n",
       "      <td>Bengaluru, Karnataka</td>\n",
       "      <td>Overall experience of 8+ Years on data visuali...</td>\n",
       "      <td>9 days ago</td>\n",
       "    </tr>\n",
       "    <tr>\n",
       "      <th>902</th>\n",
       "      <td>Customer Service Admin</td>\n",
       "      <td>NaN</td>\n",
       "      <td>Agilent Technologies, Inc.</td>\n",
       "      <td>4.1</td>\n",
       "      <td>Gurgaon, Haryana</td>\n",
       "      <td>Uses accounting and financial systems and tool...</td>\n",
       "      <td>2 days ago</td>\n",
       "    </tr>\n",
       "    <tr>\n",
       "      <th>903</th>\n",
       "      <td>Paid College Ambassadors/Representative Intern...</td>\n",
       "      <td>3000 a month</td>\n",
       "      <td>Ivy Professional School</td>\n",
       "      <td>NaN</td>\n",
       "      <td>Remote</td>\n",
       "      <td>Do you like to mingle with people?</td>\n",
       "      <td>16 days ago</td>\n",
       "    </tr>\n",
       "    <tr>\n",
       "      <th>904</th>\n",
       "      <td>Lead Data Engineer</td>\n",
       "      <td>NaN</td>\n",
       "      <td>Baker Hughes</td>\n",
       "      <td>4.0</td>\n",
       "      <td>Mumbai, Maharashtra</td>\n",
       "      <td>Perform variety of in-depth data analysis, dat...</td>\n",
       "      <td>30+ days ago</td>\n",
       "    </tr>\n",
       "  </tbody>\n",
       "</table>\n",
       "</div>"
      ],
      "text/plain": [
       "                                              JobTitle        Salary  \\\n",
       "900  Senior Associate - Geospatial Lab (Image Proce...           NaN   \n",
       "901                          BI/Tableau Developer - VP           NaN   \n",
       "902                             Customer Service Admin           NaN   \n",
       "903  Paid College Ambassadors/Representative Intern...  3000 a month   \n",
       "904                                 Lead Data Engineer           NaN   \n",
       "\n",
       "                                CompanyName  CompanyRating  \\\n",
       "900  Indian Institute for Human Settlements            4.3   \n",
       "901                                     AQR            NaN   \n",
       "902              Agilent Technologies, Inc.            4.1   \n",
       "903                 Ivy Professional School            NaN   \n",
       "904                            Baker Hughes            4.0   \n",
       "\n",
       "              JobLocation                                            Summary  \\\n",
       "900  Bengaluru, Karnataka  Prior work experience with urban data and urba...   \n",
       "901  Bengaluru, Karnataka  Overall experience of 8+ Years on data visuali...   \n",
       "902      Gurgaon, Haryana  Uses accounting and financial systems and tool...   \n",
       "903                Remote                 Do you like to mingle with people?   \n",
       "904   Mumbai, Maharashtra  Perform variety of in-depth data analysis, dat...   \n",
       "\n",
       "             Date  \n",
       "900     1 day ago  \n",
       "901    9 days ago  \n",
       "902    2 days ago  \n",
       "903   16 days ago  \n",
       "904  30+ days ago  "
      ]
     },
     "execution_count": 4,
     "metadata": {},
     "output_type": "execute_result"
    }
   ],
   "source": [
    "df.tail()"
   ]
  },
  {
   "cell_type": "code",
   "execution_count": 5,
   "metadata": {},
   "outputs": [
    {
     "data": {
      "text/plain": [
       "JobTitle          object\n",
       "Salary            object\n",
       "CompanyName       object\n",
       "CompanyRating    float64\n",
       "JobLocation       object\n",
       "Summary           object\n",
       "Date              object\n",
       "dtype: object"
      ]
     },
     "execution_count": 5,
     "metadata": {},
     "output_type": "execute_result"
    }
   ],
   "source": [
    "df.dtypes"
   ]
  },
  {
   "cell_type": "code",
   "execution_count": 6,
   "metadata": {},
   "outputs": [
    {
     "data": {
      "text/html": [
       "<div>\n",
       "<style scoped>\n",
       "    .dataframe tbody tr th:only-of-type {\n",
       "        vertical-align: middle;\n",
       "    }\n",
       "\n",
       "    .dataframe tbody tr th {\n",
       "        vertical-align: top;\n",
       "    }\n",
       "\n",
       "    .dataframe thead th {\n",
       "        text-align: right;\n",
       "    }\n",
       "</style>\n",
       "<table border=\"1\" class=\"dataframe\">\n",
       "  <thead>\n",
       "    <tr style=\"text-align: right;\">\n",
       "      <th></th>\n",
       "      <th>JobTitle</th>\n",
       "      <th>Salary</th>\n",
       "      <th>CompanyName</th>\n",
       "      <th>JobLocation</th>\n",
       "      <th>Summary</th>\n",
       "      <th>Date</th>\n",
       "    </tr>\n",
       "  </thead>\n",
       "  <tbody>\n",
       "    <tr>\n",
       "      <th>count</th>\n",
       "      <td>905</td>\n",
       "      <td>172</td>\n",
       "      <td>905</td>\n",
       "      <td>905</td>\n",
       "      <td>905</td>\n",
       "      <td>905</td>\n",
       "    </tr>\n",
       "    <tr>\n",
       "      <th>unique</th>\n",
       "      <td>569</td>\n",
       "      <td>114</td>\n",
       "      <td>575</td>\n",
       "      <td>77</td>\n",
       "      <td>731</td>\n",
       "      <td>32</td>\n",
       "    </tr>\n",
       "    <tr>\n",
       "      <th>top</th>\n",
       "      <td>Data Scientist</td>\n",
       "      <td>5000 a month</td>\n",
       "      <td>Cognizant</td>\n",
       "      <td>Bengaluru, Karnataka</td>\n",
       "      <td>Develop custom data models and algorithms to a...</td>\n",
       "      <td>30+ days ago</td>\n",
       "    </tr>\n",
       "    <tr>\n",
       "      <th>freq</th>\n",
       "      <td>87</td>\n",
       "      <td>6</td>\n",
       "      <td>19</td>\n",
       "      <td>283</td>\n",
       "      <td>7</td>\n",
       "      <td>351</td>\n",
       "    </tr>\n",
       "  </tbody>\n",
       "</table>\n",
       "</div>"
      ],
      "text/plain": [
       "              JobTitle        Salary CompanyName           JobLocation  \\\n",
       "count              905           172         905                   905   \n",
       "unique             569           114         575                    77   \n",
       "top     Data Scientist  5000 a month   Cognizant  Bengaluru, Karnataka   \n",
       "freq                87             6          19                   283   \n",
       "\n",
       "                                                  Summary          Date  \n",
       "count                                                 905           905  \n",
       "unique                                                731            32  \n",
       "top     Develop custom data models and algorithms to a...  30+ days ago  \n",
       "freq                                                    7           351  "
      ]
     },
     "execution_count": 6,
     "metadata": {},
     "output_type": "execute_result"
    }
   ],
   "source": [
    "df.describe(include=object)"
   ]
  },
  {
   "cell_type": "code",
   "execution_count": 7,
   "metadata": {},
   "outputs": [
    {
     "data": {
      "text/html": [
       "<div>\n",
       "<style scoped>\n",
       "    .dataframe tbody tr th:only-of-type {\n",
       "        vertical-align: middle;\n",
       "    }\n",
       "\n",
       "    .dataframe tbody tr th {\n",
       "        vertical-align: top;\n",
       "    }\n",
       "\n",
       "    .dataframe thead th {\n",
       "        text-align: right;\n",
       "    }\n",
       "</style>\n",
       "<table border=\"1\" class=\"dataframe\">\n",
       "  <thead>\n",
       "    <tr style=\"text-align: right;\">\n",
       "      <th></th>\n",
       "      <th>Total</th>\n",
       "      <th>Percent</th>\n",
       "      <th>Data_Type</th>\n",
       "    </tr>\n",
       "  </thead>\n",
       "  <tbody>\n",
       "    <tr>\n",
       "      <th>Salary</th>\n",
       "      <td>733</td>\n",
       "      <td>80.99</td>\n",
       "      <td>object</td>\n",
       "    </tr>\n",
       "    <tr>\n",
       "      <th>CompanyRating</th>\n",
       "      <td>431</td>\n",
       "      <td>47.62</td>\n",
       "      <td>float64</td>\n",
       "    </tr>\n",
       "  </tbody>\n",
       "</table>\n",
       "</div>"
      ],
      "text/plain": [
       "               Total  Percent Data_Type\n",
       "Salary           733    80.99    object\n",
       "CompanyRating    431    47.62   float64"
      ]
     },
     "execution_count": 7,
     "metadata": {},
     "output_type": "execute_result"
    }
   ],
   "source": [
    "def missing_data(data):\n",
    "    total=df.isna().sum().sort_values(ascending=False)\n",
    "    total=total[total !=0]\n",
    "    percent=round(total/len(df)*100,2)\n",
    "    data_type=df[data.isna().sum().sort_values(ascending=False)[data.isna().sum()!=0].index].dtypes\n",
    "    return(pd.concat([total,percent,data_type],1,keys=['Total','Percent','Data_Type']))\n",
    "missing_data(df)"
   ]
  },
  {
   "cell_type": "markdown",
   "metadata": {},
   "source": [
    " * Here 80.99% salary of job roles were not disclosed by the companies, we should delete the variable and pretend it never existed.\n",
    " * 47.62% companies were not rated by the indeed users, but here we can get top rated companies on indeed.So we should keep the variable and to ignore NaN value we will replace it to 0.1 rating.\n",
    " \n"
   ]
  },
  {
   "cell_type": "code",
   "execution_count": 8,
   "metadata": {},
   "outputs": [],
   "source": [
    "df.drop(columns='Salary',inplace=True)"
   ]
  },
  {
   "cell_type": "code",
   "execution_count": 9,
   "metadata": {},
   "outputs": [],
   "source": [
    "df['CompanyRating'] = df['CompanyRating'].fillna(0.1)"
   ]
  },
  {
   "cell_type": "code",
   "execution_count": 10,
   "metadata": {},
   "outputs": [
    {
     "data": {
      "text/html": [
       "<div>\n",
       "<style scoped>\n",
       "    .dataframe tbody tr th:only-of-type {\n",
       "        vertical-align: middle;\n",
       "    }\n",
       "\n",
       "    .dataframe tbody tr th {\n",
       "        vertical-align: top;\n",
       "    }\n",
       "\n",
       "    .dataframe thead th {\n",
       "        text-align: right;\n",
       "    }\n",
       "</style>\n",
       "<table border=\"1\" class=\"dataframe\">\n",
       "  <thead>\n",
       "    <tr style=\"text-align: right;\">\n",
       "      <th></th>\n",
       "      <th>Total</th>\n",
       "      <th>Percent</th>\n",
       "      <th>Data_Type</th>\n",
       "    </tr>\n",
       "  </thead>\n",
       "  <tbody>\n",
       "  </tbody>\n",
       "</table>\n",
       "</div>"
      ],
      "text/plain": [
       "Empty DataFrame\n",
       "Columns: [Total, Percent, Data_Type]\n",
       "Index: []"
      ]
     },
     "execution_count": 10,
     "metadata": {},
     "output_type": "execute_result"
    }
   ],
   "source": [
    "missing_data(df)"
   ]
  },
  {
   "cell_type": "markdown",
   "metadata": {},
   "source": [
    "### let's dive deeper"
   ]
  },
  {
   "cell_type": "code",
   "execution_count": 11,
   "metadata": {},
   "outputs": [],
   "source": [
    "df_temp=df.copy()"
   ]
  },
  {
   "cell_type": "code",
   "execution_count": 12,
   "metadata": {},
   "outputs": [
    {
     "data": {
      "text/plain": [
       "count                905\n",
       "unique               569\n",
       "top       Data Scientist\n",
       "freq                  87\n",
       "Name: JobTitle, dtype: object"
      ]
     },
     "execution_count": 12,
     "metadata": {},
     "output_type": "execute_result"
    }
   ],
   "source": [
    "df_temp['JobTitle'].describe()"
   ]
  },
  {
   "cell_type": "markdown",
   "metadata": {},
   "source": []
  },
  {
   "cell_type": "code",
   "execution_count": 13,
   "metadata": {},
   "outputs": [
    {
     "data": {
      "text/plain": [
       "Data Scientist                                                                 87\n",
       "Data Analyst                                                                   37\n",
       "Data Engineer                                                                  35\n",
       "Data Science Engineer                                                          10\n",
       "Senior Data Scientist                                                          10\n",
       "Data Science Internship                                                         8\n",
       "Data Science Intern                                                             7\n",
       "Junior Data Analyst                                                             6\n",
       "Lead Data Scientist                                                             6\n",
       "Data Science Developer                                                          5\n",
       "Big Data Engineer                                                               5\n",
       "DATA SCIENTIST                                                                  4\n",
       "Senior Data Engineer                                                            4\n",
       "Data Science Manager                                                            4\n",
       "Research Associate                                                              4\n",
       "Sr. Data Scientist                                                              4\n",
       "Data Science Trainer                                                            4\n",
       "Data Analytics Internship                                                       4\n",
       "Data Engineer III                                                               4\n",
       "Medical Editor                                                                  4\n",
       "Manager                                                                         3\n",
       "Data Science                                                                    3\n",
       "Sr. Data Science & AI Engineer (Java,Python)                                    3\n",
       "Data Scientist DA4AD                                                            3\n",
       "Business Analyst - Data Science                                                 3\n",
       "Machine Learning Internship                                                     3\n",
       "Director, Data Science                                                          3\n",
       "Manager - Data Science                                                          3\n",
       "Business Analyst                                                                3\n",
       "Young Professional, MKSP                                                        2\n",
       "Data Curator                                                                    2\n",
       "Machine Learning and Computer Vision Engineers                                  2\n",
       "Sr Analyst, Data Science and Analytics                                          2\n",
       "DATA SCIENCE EXPERT                                                             2\n",
       "ML Engineer                                                                     2\n",
       "Big Data/Hadoop Teacher                                                         2\n",
       "Manager, Data Science                                                           2\n",
       "Data Visualization Developer - Tableau Developer                                2\n",
       "Associate NLP & Text Mining Data Scientist                                      2\n",
       "Remote Sensing Data Digitization part time job/internship at Hyderabad          2\n",
       "Business Analyst, Data Sciences and Advanced Analytics Bangalore, Karnataka     2\n",
       "Manager - Analytics                                                             2\n",
       "Medical Writer - Trainee                                                        2\n",
       "Data Administrator - Remote Position                                            2\n",
       "Process Executive - Data                                                        2\n",
       "Data Analyst - Retail Banking Data Management                                   2\n",
       "Process Experts - Opportunity to Cash-Data Analyst                              2\n",
       "Assistant Manager - Data Science                                                2\n",
       "Director – Payment Data Security                                                2\n",
       "Head Data Science-DL-                                                           2\n",
       "Name: JobTitle, dtype: int64"
      ]
     },
     "execution_count": 13,
     "metadata": {},
     "output_type": "execute_result"
    }
   ],
   "source": [
    "df_temp['JobTitle'].value_counts()[:50]"
   ]
  },
  {
   "cell_type": "markdown",
   "metadata": {},
   "source": [
    "#### Observation for what makes same meaning job titles different \n",
    " Acoording to the different companies need they wrote  their custom job roles for  the company. <br> Lets generalise the Job titles as high as possible without lossing important data !\n",
    "* Using of lowercase anad uppercase\n",
    "* Using differnt symbols\n",
    "* Using Various synonyms,i.e. senior,sr.sr,lead,head all are almost similar meaning"
   ]
  },
  {
   "cell_type": "code",
   "execution_count": 14,
   "metadata": {},
   "outputs": [],
   "source": [
    "df_temp['JobTitle']= df['JobTitle'].str.lower() #Lowercasing all letters"
   ]
  },
  {
   "cell_type": "code",
   "execution_count": 15,
   "metadata": {},
   "outputs": [],
   "source": [
    "#Replace symbols with space\n",
    "df_temp['JobTitle']=df_temp['JobTitle'].str.replace('_|-',' ')\n",
    "df_temp['JobTitle']=df_temp['JobTitle'].str.replace('/',' ')\n",
    "df_temp['JobTitle']=df_temp['JobTitle'].str.replace('  ',' ')"
   ]
  },
  {
   "cell_type": "code",
   "execution_count": 16,
   "metadata": {},
   "outputs": [],
   "source": [
    "#Remove unnessecery numbers\n",
    "df_temp['JobTitle']=df_temp['JobTitle'].str.replace('[^a-z\\s]','')\n",
    "#df_temp['JobTitle']=df_temp['JobTitle'].str.replace('\\d','')"
   ]
  },
  {
   "cell_type": "code",
   "execution_count": 17,
   "metadata": {},
   "outputs": [],
   "source": [
    "#Replace same types of words with one similer meaning word\n",
    "df_temp['JobTitle']=df_temp['JobTitle'].str.replace('sr.|sr|lead|head|expert|specialist|manager','senior')\n",
    "df_temp['JobTitle']=df_temp['JobTitle'].str.replace('jr.|jr|fresher','junior')\n",
    "df_temp['JobTitle']=df_temp['JobTitle'].str.replace('science','scientist')\n",
    "df_temp['JobTitle']=df_temp['JobTitle'].str.replace('analytics|analysts|analysis','analyst')\n",
    "df_temp['JobTitle']=df_temp['JobTitle'].str.replace('development','developer')\n",
    "df_temp['JobTitle']=df_temp['JobTitle'].str.replace('ml','machine learning')\n",
    "df_temp['JobTitle']=df_temp['JobTitle'].str.replace('intern','internship')\n",
    "df_temp['JobTitle']=df_temp['JobTitle'].str.replace('seniordata','senior data')\n"
   ]
  },
  {
   "cell_type": "code",
   "execution_count": 18,
   "metadata": {},
   "outputs": [],
   "source": [
    "df1=df.copy()"
   ]
  },
  {
   "cell_type": "code",
   "execution_count": 19,
   "metadata": {},
   "outputs": [],
   "source": [
    "df1['JobTitle']=df1['JobTitle'].apply(lambda x :x.replace('sr.|sr|lead|head|expert|specialist|manager','senior'))"
   ]
  },
  {
   "cell_type": "code",
   "execution_count": 20,
   "metadata": {},
   "outputs": [
    {
     "data": {
      "text/plain": [
       "0                                       Data Science-DL-\n",
       "1                                    Data Science Intern\n",
       "2                                Data Science Internship\n",
       "3                                           Data Analyst\n",
       "4                                         Data Scientist\n",
       "                             ...                        \n",
       "900    Senior Associate - Geospatial Lab (Image Proce...\n",
       "901                            BI/Tableau Developer - VP\n",
       "902                               Customer Service Admin\n",
       "903    Paid College Ambassadors/Representative Intern...\n",
       "904                                   Lead Data Engineer\n",
       "Name: JobTitle, Length: 905, dtype: object"
      ]
     },
     "execution_count": 20,
     "metadata": {},
     "output_type": "execute_result"
    }
   ],
   "source": [
    "df1['JobTitle']"
   ]
  },
  {
   "cell_type": "code",
   "execution_count": null,
   "metadata": {},
   "outputs": [],
   "source": []
  },
  {
   "cell_type": "code",
   "execution_count": null,
   "metadata": {},
   "outputs": [],
   "source": []
  },
  {
   "cell_type": "code",
   "execution_count": 21,
   "metadata": {
    "scrolled": false
   },
   "outputs": [
    {
     "data": {
      "image/png": "[encoded data removed]",
      "text/plain": [
       "<Figure size 576x576 with 1 Axes>"
      ]
     },
     "metadata": {
      "needs_background": "light"
     },
     "output_type": "display_data"
    }
   ],
   "source": [
    "#Checking top used words in 'JobTitle'\n",
    "functional_words = df_temp['JobTitle'].dropna().to_list()\n",
    "tokenizer = RegexpTokenizer(r'\\w+')\n",
    "tokenized_list = [tokenizer.tokenize(i) for i in functional_words]\n",
    "tokenized_list = [w for l in tokenized_list for w in l]\n",
    "string = \" \".join(w for w in tokenized_list)\n",
    "wordcloud = WordCloud(width = 800, height = 800, \n",
    "                background_color ='black', \n",
    "                min_font_size = 10).generate(string) \n",
    "plt.figure(figsize = (8, 8), facecolor = None) \n",
    "plt.imshow(wordcloud) \n",
    "plt.axis(\"off\") \n",
    "plt.tight_layout(pad = 0) \n",
    "  \n",
    "plt.show() "
   ]
  },
  {
   "cell_type": "code",
   "execution_count": 22,
   "metadata": {},
   "outputs": [],
   "source": [
    "#Replace symbols with space\n",
    "df_temp['Summary']=df_temp['Summary'].str.replace('_|-',' ')\n",
    "df_temp['Summary']=df_temp['Summary'].str.replace('/',' ')\n",
    "df_temp['Summary']=df_temp['Summary'].str.replace('  ',' ')"
   ]
  },
  {
   "cell_type": "markdown",
   "metadata": {},
   "source": [
    "#### Top most used words in 'JobTitles' :  \n",
    "data scientist,data analyst,senior,machine learning,data engineer,business analyst,\n",
    "senior,associate,developer,derector,manager,trainer,associate,consultant,part time,big data,python\n",
    "   "
   ]
  },
  {
   "cell_type": "code",
   "execution_count": 23,
   "metadata": {},
   "outputs": [],
   "source": [
    "sel_index=df_temp[df_temp['JobTitle'].str.contains(r'\\bdata\\b|\\bscientist\\b|\\bengineer\\b|\\bsenior\\b|\\banalyst\\b|\\bmanager\\b|\\binternship\\b|\\bmachine\\slearning\\b|\\bbusiness\\b|\\bjunior\\b|\\btrainer\\b|\\bdeveloper\\b|\\bassociate\\b|\\bresearch\\b|\\bconsultant\\b|\\bcoordinator\\b|\\bjunior\\b|\\bbig\\b|\\bpython\\b|\\bpart\\b|\\btime\\b')].index #searching for rows where one of top most used words present\n",
    "df_temp.loc[sel_index,'JobTitle']=df_temp.loc[sel_index,'JobTitle'].str.replace(r'\\b(?!data\\b)(?!scientist\\b)(?!engineer\\b)(?!senior\\b)(?!analyst\\b)(?!manager\\b)(?!internship\\b)(?!business\\b)(?!junior\\b)(?!trainer\\b)(?!developer\\b)(?!associate\\b)(?!research\\b)(?!consultant\\b)(?!coordinator\\b)(?!junior\\b)(?!big\\b)(?!machine\\b)(?!learning\\b)(?!python\\b)(?!part\\b)(?!time\\b)\\w+','')\n",
    "#remove other words except those words from selected row"
   ]
  },
  {
   "cell_type": "code",
   "execution_count": 24,
   "metadata": {},
   "outputs": [],
   "source": [
    "unique_job=df_temp['JobTitle'].describe().unique()[1]\n",
    "e=0\n",
    "while unique_job!=e:\n",
    "    unique_job=e\n",
    "    df_temp['JobTitle']=df_temp['JobTitle'].str.replace(r'\\s\\s',' ') #remove double space\n",
    "    df_temp['JobTitle']=df_temp['JobTitle'].str.replace(r\"^\\s+|\\s+$\",'') #remove space of start and end\n",
    "    df_temp['JobTitle']=df_temp['JobTitle'].str.replace(r'\\b(\\w+)( \\1\\b)+',r'\\1') #remove double words\n",
    "    e=df_temp['JobTitle'].describe().unique()[1]\n",
    "    "
   ]
  },
  {
   "cell_type": "code",
   "execution_count": 25,
   "metadata": {},
   "outputs": [
    {
     "data": {
      "text/plain": [
       "data scientist                              161\n",
       "data analyst                                 72\n",
       "data engineer                                64\n",
       "senior data scientist                        41\n",
       "senior                                       32\n",
       "data                                         27\n",
       "analyst                                      18\n",
       "data scientist senior                        15\n",
       "machine learning                             15\n",
       "data senior                                  12\n",
       "developer                                    12\n",
       "engineer                                     11\n",
       "data scientist engineer                      11\n",
       "data scientist internship                    10\n",
       "senior data engineer                          9\n",
       "big data                                      9\n",
       "associate data scientist                      9\n",
       "data scientist analyst                        9\n",
       "big data engineer                             8\n",
       "senior data analyst                           8\n",
       "junior data analyst                           7\n",
       "internship                                    7\n",
       "data scientist developer                      7\n",
       "data scientist trainer                        7\n",
       "data developer                                6\n",
       "business analyst data scientist               6\n",
       "python developer                              6\n",
       "associate                                     5\n",
       "data scientist machine learning               5\n",
       "analyst data scientist                        5\n",
       "research                                      5\n",
       "research associate                            5\n",
       "scientist                                     5\n",
       "senior data scientist engineer                5\n",
       "machine learning engineer                     4\n",
       "medical editor                                4\n",
       "data analyst senior                           4\n",
       "consultant                                    4\n",
       "business analyst                              4\n",
       "engineer data                                 3\n",
       "machine learning engineer data scientist      3\n",
       "senior data                                   3\n",
       "coordinator                                   3\n",
       "senior research                               3\n",
       "senior analyst                                3\n",
       "data engineer data                            3\n",
       "senior data scientist machine learning        3\n",
       "consultant data scientist                     3\n",
       "associate data                                3\n",
       "junior data scientist                         3\n",
       "Name: JobTitle, dtype: int64"
      ]
     },
     "execution_count": 25,
     "metadata": {},
     "output_type": "execute_result"
    }
   ],
   "source": [
    "df_temp['JobTitle'].value_counts()[:50]"
   ]
  },
  {
   "cell_type": "markdown",
   "metadata": {},
   "source": [
    "##### Here some titles, data,senior,analyst,engineer should named as data scientist,senior data scientist,data analyst,data engineer respectively."
   ]
  },
  {
   "cell_type": "code",
   "execution_count": 26,
   "metadata": {},
   "outputs": [],
   "source": [
    "df_temp.loc[df_temp['JobTitle']=='data','JobTitle']='data scientist'\n",
    "df_temp.loc[df_temp['JobTitle']=='analyst','JobTitle']='data analyst'\n",
    "df_temp.loc[df_temp['JobTitle']=='scientist','JobTitle']='data scientist'\n",
    "df_temp.loc[df_temp['JobTitle']=='engineer','JobTitle']='data engineer'\n",
    "df_temp.loc[df_temp['JobTitle']=='data scientist engineer','JobTitle']='data engineer'\n",
    "df_temp.loc[df_temp['JobTitle']=='senior','JobTitle']='senior data scientist'\n",
    "df_temp.loc[df_temp['JobTitle']=='data scientist senior','JobTitle']='senior data scientist'\n",
    "df_temp.loc[df_temp['JobTitle']=='data senior','JobTitle']='senior data scientist'\n",
    "df_temp.loc[df_temp['JobTitle']=='internship','JobTitle']='data scientist internship'\n",
    "df_temp.loc[df_temp['JobTitle']=='data internship','JobTitle']='data analyst internship'\n",
    "df_temp.loc[df_temp['JobTitle']=='manager','JobTitle']='senior data scientist'\n",
    "df_temp.loc[df_temp['JobTitle']=='data scientist analyst','JobTitle']='data analyst'\n",
    "df_temp.loc[df_temp['JobTitle']=='data scientist analyst','JobTitle']='data analyst'\n",
    "df_temp['JobTitle']=df_temp['JobTitle'].str.replace('analyst data scientist','data analyst')\n",
    "df_temp['JobTitle']=df_temp['JobTitle'].str.replace('data scientist analyst','data analyst')\n",
    "df_temp['JobTitle']=df_temp['JobTitle'].str.replace('data scientist data analyst','data analyst')"
   ]
  },
  {
   "cell_type": "code",
   "execution_count": 27,
   "metadata": {
    "scrolled": true
   },
   "outputs": [
    {
     "data": {
      "text/plain": [
       "count                905\n",
       "unique               211\n",
       "top       data scientist\n",
       "freq                 193\n",
       "Name: JobTitle, dtype: object"
      ]
     },
     "execution_count": 27,
     "metadata": {},
     "output_type": "execute_result"
    }
   ],
   "source": [
    "df_temp['JobTitle'].describe()"
   ]
  },
  {
   "cell_type": "markdown",
   "metadata": {},
   "source": [
    "Unique job count is not really satisfying but we have to stop here because of having possibility to loss really unque job titles."
   ]
  },
  {
   "cell_type": "code",
   "execution_count": 28,
   "metadata": {
    "scrolled": false
   },
   "outputs": [
    {
     "data": {
      "image/svg+xml": [
       "<svg xmlns=\"http://www.w3.org/2000/svg\" xmlns:xlink=\"http://www.w3.org/1999/xlink\" class=\"main-svg\" width=\"700\" height=\"500\" style=\"\" viewBox=\"0 0 700 500\"><rect x=\"0\" y=\"0\" width=\"700\" height=\"500\" style=\"fill: rgb(255, 255, 255); fill-opacity: 1;\"/><defs id=\"defs-ea023e\"><g class=\"clips\"/><g class=\"gradients\"/></defs><g class=\"bglayer\"/><g class=\"layer-below\"><g class=\"imagelayer\"/><g class=\"shapelayer\"/></g><g class=\"cartesianlayer\"/><g class=\"polarlayer\"/><g class=\"ternarylayer\"/><g class=\"geolayer\"/><g class=\"funnelarealayer\"/><g class=\"pielayer\"><g class=\"trace\" stroke-linejoin=\"round\" style=\"opacity: 0.7;\"><g class=\"slice\"><path class=\"surface\" d=\"M284.5,260l0,-160a160,160 0 0 1 131.83467359074965,250.66211358235861Z\" style=\"pointer-events: all; stroke-width: 1.5; fill: rgb(95, 70, 144); fill-opacity: 1; stroke: rgb(8, 48, 107); stroke-opacity: 1;\"/><g class=\"slicetext\"><text data-notex=\"1\" class=\"slicetext\" transform=\"translate(359.5826948236337,224.99003092335784)\" text-anchor=\"middle\" x=\"0\" y=\"0\" style=\"font-family: 'Open Sans', verdana, arial, sans-serif; font-size: 12px; fill: rgb(255, 255, 255); fill-opacity: 1; white-space: pre;\">34.6%</text></g></g><g class=\"slice\"><path class=\"surface\" d=\"M284.5,260l-148.07795186616954,-60.604621697692174a160,160 0 0 1 148.07795186616954,-99.39537830230782Z\" style=\"pointer-events: all; stroke-width: 1.5; fill: rgb(29, 105, 150); fill-opacity: 1; stroke: rgb(8, 48, 107); stroke-opacity: 1;\"/><g class=\"slicetext\"><text data-notex=\"1\" class=\"slicetext\" transform=\"translate(227.20124871247523,179.19525459863286)\" text-anchor=\"middle\" x=\"0\" y=\"0\" style=\"font-family: 'Open Sans', verdana, arial, sans-serif; font-size: 12px; fill: rgb(255, 255, 255); fill-opacity: 1; white-space: pre;\">18.8%</text></g></g><g class=\"slice\"><path class=\"surface\" d=\"M284.5,260l-118.41975727048784,107.59535811548164a160,160 0 0 1 -29.658194595681707,-168.19997981317383Z\" style=\"pointer-events: all; stroke-width: 1.5; fill: rgb(56, 166, 165); fill-opacity: 1; stroke: rgb(8, 48, 107); stroke-opacity: 1;\"/><g class=\"slicetext\"><text data-notex=\"1\" class=\"slicetext\" transform=\"translate(181.7252044232543,282.61508162429334)\" text-anchor=\"middle\" x=\"0\" y=\"0\" style=\"font-family: 'Open Sans', verdana, arial, sans-serif; font-size: 12px; fill: rgb(68, 68, 68); fill-opacity: 1; white-space: pre;\">17.9%</text></g></g><g class=\"slice\"><path class=\"surface\" d=\"M284.5,260l21.553833956137712,158.54157890531823a160,160 0 0 1 -139.97359122662556,-50.94622078983659Z\" style=\"pointer-events: all; stroke-width: 1.5; fill: rgb(15, 133, 84); fill-opacity: 1; stroke: rgb(8, 48, 107); stroke-opacity: 1;\"/><g class=\"slicetext\"><text data-notex=\"1\" class=\"slicetext\" transform=\"translate(247.11969004089798,367.09423420815006)\" text-anchor=\"middle\" x=\"0\" y=\"0\" style=\"font-family: 'Open Sans', verdana, arial, sans-serif; font-size: 12px; fill: rgb(255, 255, 255); fill-opacity: 1; white-space: pre;\">15.4%</text></g></g><g class=\"slice\"><path class=\"surface\" d=\"M284.5,260l51.323675601436,151.5449778869579a160,160 0 0 1 -29.76984164529829,6.996601018360337Z\" style=\"pointer-events: all; stroke-width: 1.5; fill: rgb(115, 175, 72); fill-opacity: 1; stroke: rgb(8, 48, 107); stroke-opacity: 1;\"/><g class=\"slicetext\"><text data-notex=\"1\" class=\"slicetext\" transform=\"translate(310.43075664612667,390.0015385058014)rotate(76.77419354838707)\" text-anchor=\"middle\" x=\"0\" y=\"0\" style=\"font-family: 'Open Sans', verdana, arial, sans-serif; font-size: 12px; fill: rgb(68, 68, 68); fill-opacity: 1; white-space: pre;\">3.05%</text></g></g><g class=\"slice\"><path class=\"surface\" d=\"M284.5,260l76.06817549313517,140.76090606821762a160,160 0 0 1 -24.74449989169917,10.784071818740273Z\" style=\"pointer-events: all; stroke-width: 1.5; fill: rgb(237, 173, 8); fill-opacity: 1; stroke: rgb(8, 48, 107); stroke-opacity: 1;\"/><g class=\"slicetext\"><text data-notex=\"1\" class=\"slicetext\" transform=\"translate(334.2047808951772,385.31310095980876)rotate(66.45161290322585)\" text-anchor=\"middle\" x=\"0\" y=\"0\" style=\"font-family: 'Open Sans', verdana, arial, sans-serif; font-size: 12px; fill: rgb(68, 68, 68); fill-opacity: 1; white-space: pre;\">2.69%</text></g></g><g class=\"slice\"><path class=\"surface\" d=\"M284.5,260l94.33691152523971,129.23059670170642a160,160 0 0 1 -18.268736032104542,11.530309366511204Z\" style=\"pointer-events: all; stroke-width: 1.5; fill: rgb(225, 124, 5); fill-opacity: 1; stroke: rgb(8, 48, 107); stroke-opacity: 1;\"/><g class=\"slicetext\"><text data-notex=\"1\" class=\"slicetext\" transform=\"translate(354.60221348032604,379.50181257203155)rotate(57.741935483870975)\" text-anchor=\"middle\" x=\"0\" y=\"0\" style=\"font-family: 'Open Sans', verdana, arial, sans-serif; font-size: 12px; fill: rgb(68, 68, 68); fill-opacity: 1; white-space: pre;\">2.15%</text></g></g><g class=\"slice\"><path class=\"surface\" d=\"M284.5,260l110.88586078515004,115.34437948134416a160,160 0 0 1 -16.54894925991033,13.886217220362255Z\" style=\"pointer-events: all; stroke-width: 1.5; fill: rgb(225, 124, 5); fill-opacity: 1; stroke: rgb(8, 48, 107); stroke-opacity: 1;\"/><g class=\"slicetext\"><text data-notex=\"1\" class=\"slicetext\" transform=\"translate(370.06148647227275,368.9689661119038)rotate(50)\" text-anchor=\"middle\" x=\"0\" y=\"0\" style=\"font-family: 'Open Sans', verdana, arial, sans-serif; font-size: 12px; fill: rgb(68, 68, 68); fill-opacity: 1; white-space: pre;\">2.15%</text></g></g><g class=\"slice\"><path class=\"surface\" d=\"M284.5,260l121.98613861585928,103.53444830389721a160,160 0 0 1 -11.100277830709231,11.809931177446956Z\" style=\"pointer-events: all; stroke-width: 1.5; fill: rgb(204, 80, 62); fill-opacity: 1; stroke: rgb(8, 48, 107); stroke-opacity: 1;\"/><g class=\"slicetext\"><text data-notex=\"1\" class=\"slicetext\" transform=\"translate(424.9293865289478,379.4923017657828)\" text-anchor=\"middle\" x=\"0\" y=\"0\" style=\"font-family: 'Open Sans', verdana, arial, sans-serif; font-size: 12px; fill: rgb(42, 63, 95); fill-opacity: 1; white-space: pre;\">1.61%</text></g><path class=\"textline\" stroke-width=\"1.5\" d=\"M401.0856365289478,369.5800591126874V374.9923017657828h3.75\" fill=\"none\" style=\"stroke: rgb(42, 63, 95); stroke-opacity: 1;\"/></g><g class=\"slice\"><path class=\"surface\" d=\"M284.5,260l131.83467359074965,90.66211358235864a160,160 0 0 1 -9.84853497489037,12.872334721538564Z\" style=\"pointer-events: all; stroke-width: 1.5; fill: rgb(204, 80, 62); fill-opacity: 1; stroke: rgb(8, 48, 107); stroke-opacity: 1;\"/><g class=\"slicetext\"><text data-notex=\"1\" class=\"slicetext\" transform=\"translate(435.4172540344819,364.4923017657828)\" text-anchor=\"middle\" x=\"0\" y=\"0\" style=\"font-family: 'Open Sans', verdana, arial, sans-serif; font-size: 12px; fill: rgb(42, 63, 95); fill-opacity: 1; white-space: pre;\">1.61%</text></g></g></g></g><g class=\"treemaplayer\"/><g class=\"sunburstlayer\"/><g class=\"glimages\"/><defs id=\"topdefs-ea023e\"><g class=\"clips\"/><clipPath id=\"legendea023e\"><rect width=\"191\" height=\"200\" x=\"0\" y=\"0\"/></clipPath></defs><g class=\"layer-above\"><g class=\"imagelayer\"/><g class=\"shapelayer\"/></g><g class=\"infolayer\"><g class=\"legend\" pointer-events=\"all\" transform=\"translate(497.18,100)\"><rect class=\"bg\" shape-rendering=\"crispEdges\" style=\"stroke: rgb(68, 68, 68); stroke-opacity: 1; fill: rgb(255, 255, 255); fill-opacity: 1; stroke-width: 0px;\" width=\"191\" height=\"200\" x=\"0\" y=\"0\"/><g class=\"scrollbox\" transform=\"\" clip-path=\"url('#legendea023e')\"><g class=\"groups\"><g class=\"traces\" style=\"opacity: 1;\" transform=\"translate(0,14.5)\"><text class=\"legendtext\" text-anchor=\"start\" x=\"40\" y=\"4.680000000000001\" style=\"font-family: 'Open Sans', verdana, arial, sans-serif; font-size: 12px; fill: rgb(42, 63, 95); fill-opacity: 1; white-space: pre;\">data scientist</text><g class=\"layers\" style=\"opacity: 0.7;\"><g class=\"legendfill\"/><g class=\"legendlines\"/><g class=\"legendsymbols\"><g class=\"legendpoints\"><path class=\"legendpie\" d=\"M6,6H-6V-6H6Z\" transform=\"translate(20,0)\" style=\"stroke-width: 1.5; fill: rgb(95, 70, 144); fill-opacity: 1; stroke: rgb(8, 48, 107); stroke-opacity: 1;\"/></g></g></g><rect class=\"legendtoggle\" x=\"0\" y=\"-9.5\" width=\"185.21875\" height=\"19\" style=\"fill: rgb(0, 0, 0); fill-opacity: 0;\"/></g><g class=\"traces\" style=\"opacity: 1;\" transform=\"translate(0,33.5)\"><text class=\"legendtext\" text-anchor=\"start\" x=\"40\" y=\"4.680000000000001\" style=\"font-family: 'Open Sans', verdana, arial, sans-serif; font-size: 12px; fill: rgb(42, 63, 95); fill-opacity: 1; white-space: pre;\">data analyst</text><g class=\"layers\" style=\"opacity: 0.7;\"><g class=\"legendfill\"/><g class=\"legendlines\"/><g class=\"legendsymbols\"><g class=\"legendpoints\"><path class=\"legendpie\" d=\"M6,6H-6V-6H6Z\" transform=\"translate(20,0)\" style=\"stroke-width: 1.5; fill: rgb(29, 105, 150); fill-opacity: 1; stroke: rgb(8, 48, 107); stroke-opacity: 1;\"/></g></g></g><rect class=\"legendtoggle\" x=\"0\" y=\"-9.5\" width=\"185.21875\" height=\"19\" style=\"fill: rgb(0, 0, 0); fill-opacity: 0;\"/></g><g class=\"traces\" style=\"opacity: 1;\" transform=\"translate(0,52.5)\"><text class=\"legendtext\" text-anchor=\"start\" x=\"40\" y=\"4.680000000000001\" style=\"font-family: 'Open Sans', verdana, arial, sans-serif; font-size: 12px; fill: rgb(42, 63, 95); fill-opacity: 1; white-space: pre;\">senior data scientist</text><g class=\"layers\" style=\"opacity: 0.7;\"><g class=\"legendfill\"/><g class=\"legendlines\"/><g class=\"legendsymbols\"><g class=\"legendpoints\"><path class=\"legendpie\" d=\"M6,6H-6V-6H6Z\" transform=\"translate(20,0)\" style=\"stroke-width: 1.5; fill: rgb(56, 166, 165); fill-opacity: 1; stroke: rgb(8, 48, 107); stroke-opacity: 1;\"/></g></g></g><rect class=\"legendtoggle\" x=\"0\" y=\"-9.5\" width=\"185.21875\" height=\"19\" style=\"fill: rgb(0, 0, 0); fill-opacity: 0;\"/></g><g class=\"traces\" style=\"opacity: 1;\" transform=\"translate(0,71.5)\"><text class=\"legendtext\" text-anchor=\"start\" x=\"40\" y=\"4.680000000000001\" style=\"font-family: 'Open Sans', verdana, arial, sans-serif; font-size: 12px; fill: rgb(42, 63, 95); fill-opacity: 1; white-space: pre;\">data engineer</text><g class=\"layers\" style=\"opacity: 0.7;\"><g class=\"legendfill\"/><g class=\"legendlines\"/><g class=\"legendsymbols\"><g class=\"legendpoints\"><path class=\"legendpie\" d=\"M6,6H-6V-6H6Z\" transform=\"translate(20,0)\" style=\"stroke-width: 1.5; fill: rgb(15, 133, 84); fill-opacity: 1; stroke: rgb(8, 48, 107); stroke-opacity: 1;\"/></g></g></g><rect class=\"legendtoggle\" x=\"0\" y=\"-9.5\" width=\"185.21875\" height=\"19\" style=\"fill: rgb(0, 0, 0); fill-opacity: 0;\"/></g><g class=\"traces\" style=\"opacity: 1;\" transform=\"translate(0,90.5)\"><text class=\"legendtext\" text-anchor=\"start\" x=\"40\" y=\"4.680000000000001\" style=\"font-family: 'Open Sans', verdana, arial, sans-serif; font-size: 12px; fill: rgb(42, 63, 95); fill-opacity: 1; white-space: pre;\">data scientist internship</text><g class=\"layers\" style=\"opacity: 0.7;\"><g class=\"legendfill\"/><g class=\"legendlines\"/><g class=\"legendsymbols\"><g class=\"legendpoints\"><path class=\"legendpie\" d=\"M6,6H-6V-6H6Z\" transform=\"translate(20,0)\" style=\"stroke-width: 1.5; fill: rgb(115, 175, 72); fill-opacity: 1; stroke: rgb(8, 48, 107); stroke-opacity: 1;\"/></g></g></g><rect class=\"legendtoggle\" x=\"0\" y=\"-9.5\" width=\"185.21875\" height=\"19\" style=\"fill: rgb(0, 0, 0); fill-opacity: 0;\"/></g><g class=\"traces\" style=\"opacity: 1;\" transform=\"translate(0,109.5)\"><text class=\"legendtext\" text-anchor=\"start\" x=\"40\" y=\"4.680000000000001\" style=\"font-family: 'Open Sans', verdana, arial, sans-serif; font-size: 12px; fill: rgb(42, 63, 95); fill-opacity: 1; white-space: pre;\">machine learning</text><g class=\"layers\" style=\"opacity: 0.7;\"><g class=\"legendfill\"/><g class=\"legendlines\"/><g class=\"legendsymbols\"><g class=\"legendpoints\"><path class=\"legendpie\" d=\"M6,6H-6V-6H6Z\" transform=\"translate(20,0)\" style=\"stroke-width: 1.5; fill: rgb(237, 173, 8); fill-opacity: 1; stroke: rgb(8, 48, 107); stroke-opacity: 1;\"/></g></g></g><rect class=\"legendtoggle\" x=\"0\" y=\"-9.5\" width=\"185.21875\" height=\"19\" style=\"fill: rgb(0, 0, 0); fill-opacity: 0;\"/></g><g class=\"traces\" style=\"opacity: 1;\" transform=\"translate(0,128.5)\"><text class=\"legendtext\" text-anchor=\"start\" x=\"40\" y=\"4.680000000000001\" style=\"font-family: 'Open Sans', verdana, arial, sans-serif; font-size: 12px; fill: rgb(42, 63, 95); fill-opacity: 1; white-space: pre;\">senior data analyst</text><g class=\"layers\" style=\"opacity: 0.7;\"><g class=\"legendfill\"/><g class=\"legendlines\"/><g class=\"legendsymbols\"><g class=\"legendpoints\"><path class=\"legendpie\" d=\"M6,6H-6V-6H6Z\" transform=\"translate(20,0)\" style=\"stroke-width: 1.5; fill: rgb(225, 124, 5); fill-opacity: 1; stroke: rgb(8, 48, 107); stroke-opacity: 1;\"/></g></g></g><rect class=\"legendtoggle\" x=\"0\" y=\"-9.5\" width=\"185.21875\" height=\"19\" style=\"fill: rgb(0, 0, 0); fill-opacity: 0;\"/></g><g class=\"traces\" style=\"opacity: 1;\" transform=\"translate(0,147.5)\"><text class=\"legendtext\" text-anchor=\"start\" x=\"40\" y=\"4.680000000000001\" style=\"font-family: 'Open Sans', verdana, arial, sans-serif; font-size: 12px; fill: rgb(42, 63, 95); fill-opacity: 1; white-space: pre;\">developer</text><g class=\"layers\" style=\"opacity: 0.7;\"><g class=\"legendfill\"/><g class=\"legendlines\"/><g class=\"legendsymbols\"><g class=\"legendpoints\"><path class=\"legendpie\" d=\"M6,6H-6V-6H6Z\" transform=\"translate(20,0)\" style=\"stroke-width: 1.5; fill: rgb(225, 124, 5); fill-opacity: 1; stroke: rgb(8, 48, 107); stroke-opacity: 1;\"/></g></g></g><rect class=\"legendtoggle\" x=\"0\" y=\"-9.5\" width=\"185.21875\" height=\"19\" style=\"fill: rgb(0, 0, 0); fill-opacity: 0;\"/></g><g class=\"traces\" style=\"opacity: 1;\" transform=\"translate(0,166.5)\"><text class=\"legendtext\" text-anchor=\"start\" x=\"40\" y=\"4.680000000000001\" style=\"font-family: 'Open Sans', verdana, arial, sans-serif; font-size: 12px; fill: rgb(42, 63, 95); fill-opacity: 1; white-space: pre;\">associate data scientist</text><g class=\"layers\" style=\"opacity: 0.7;\"><g class=\"legendfill\"/><g class=\"legendlines\"/><g class=\"legendsymbols\"><g class=\"legendpoints\"><path class=\"legendpie\" d=\"M6,6H-6V-6H6Z\" transform=\"translate(20,0)\" style=\"stroke-width: 1.5; fill: rgb(204, 80, 62); fill-opacity: 1; stroke: rgb(8, 48, 107); stroke-opacity: 1;\"/></g></g></g><rect class=\"legendtoggle\" x=\"0\" y=\"-9.5\" width=\"185.21875\" height=\"19\" style=\"fill: rgb(0, 0, 0); fill-opacity: 0;\"/></g><g class=\"traces\" style=\"opacity: 1;\" transform=\"translate(0,185.5)\"><text class=\"legendtext\" text-anchor=\"start\" x=\"40\" y=\"4.680000000000001\" style=\"font-family: 'Open Sans', verdana, arial, sans-serif; font-size: 12px; fill: rgb(42, 63, 95); fill-opacity: 1; white-space: pre;\">big data</text><g class=\"layers\" style=\"opacity: 0.7;\"><g class=\"legendfill\"/><g class=\"legendlines\"/><g class=\"legendsymbols\"><g class=\"legendpoints\"><path class=\"legendpie\" d=\"M6,6H-6V-6H6Z\" transform=\"translate(20,0)\" style=\"stroke-width: 1.5; fill: rgb(204, 80, 62); fill-opacity: 1; stroke: rgb(8, 48, 107); stroke-opacity: 1;\"/></g></g></g><rect class=\"legendtoggle\" x=\"0\" y=\"-9.5\" width=\"185.21875\" height=\"19\" style=\"fill: rgb(0, 0, 0); fill-opacity: 0;\"/></g></g></g><rect class=\"scrollbar\" rx=\"20\" ry=\"3\" width=\"0\" height=\"0\" style=\"fill: rgb(128, 139, 164); fill-opacity: 1;\" x=\"0\" y=\"0\"/></g><g class=\"g-gtitle\"><text class=\"gtitle\" x=\"350\" y=\"50\" text-anchor=\"middle\" dy=\"0em\" style=\"font-family: 'Open Sans', verdana, arial, sans-serif; font-size: 17px; fill: rgb(42, 63, 95); opacity: 1; font-weight: normal; white-space: pre;\">Top 10 Role Categories</text></g></g></svg>"
      ],
      "text/plain": [
       "<IPython.core.display.SVG object>"
      ]
     },
     "metadata": {},
     "output_type": "display_data"
    }
   ],
   "source": [
    "role = df_temp['JobTitle'].value_counts().nlargest(n=10)\n",
    "fig = px.pie(role, \n",
    "       values = role.values, \n",
    "       names = role.index, \n",
    "       title=\"Top 10 Role Categories\", \n",
    "       color=role.values,\n",
    "       color_discrete_sequence=px.colors.qualitative.Prism)\n",
    "fig.update_traces(opacity=0.7,\n",
    "                  marker_line_color='rgb(8,48,107)',\n",
    "                  marker_line_width=1.5)\n",
    "fig.update_layout(title_x=0.5)\n",
    "#fig.show()\n",
    "img_bytes = pio.to_image(fig, format=\"svg\")\n",
    "display(SVG(img_bytes))"
   ]
  },
  {
   "cell_type": "markdown",
   "metadata": {},
   "source": [
    "As expected data scientist is in top and data analyst is  in secound position. Senior Data scientist and Data engineer have noticeable number."
   ]
  },
  {
   "cell_type": "code",
   "execution_count": 29,
   "metadata": {
    "scrolled": false
   },
   "outputs": [
    {
     "data": {
      "text/plain": [
       "CompanyName\n",
       "3RI TECHNOLOGIES                                         5.0\n",
       "Elan Academy                                             5.0\n",
       "Diverse Lynx India                                       4.8\n",
       "Phenom People                                            4.7\n",
       "Narayana Medical College Hospital                        4.6\n",
       "AQB Solutions Pvt Ltd                                    4.5\n",
       "Center for Study of Science, Technology and Policy...    4.5\n",
       "CoreCompete                                              4.5\n",
       "Cytel, India                                             4.5\n",
       "INEXTURE SOLUTIONS                                       4.5\n",
       "Innoplexus                                               4.5\n",
       "Scienaptic Systems                                       4.5\n",
       "TISS                                                     4.5\n",
       "Indian Institute Of Science                              4.4\n",
       "Luxoft                                                   4.4\n",
       "United Nations Development Programme (UNDP)              4.4\n",
       "freshworks                                               4.4\n",
       "Appnomic Systems Pvt. Ltd                                4.3\n",
       "Colgate-Palmolive                                        4.3\n",
       "Flytxt Mobile Solutions                                  4.3\n",
       "Name: CompanyRating, dtype: float64"
      ]
     },
     "execution_count": 29,
     "metadata": {},
     "output_type": "execute_result"
    }
   ],
   "source": [
    "df_temp.groupby('CompanyName')['CompanyRating'].mean().nlargest(20) #top rated company"
   ]
  },
  {
   "cell_type": "markdown",
   "metadata": {},
   "source": [
    " Strange ! top big global company like microsoft,IBM are missing there,\n",
    "<br> Lets check top  10 job vacancy available companies with their rating."
   ]
  },
  {
   "cell_type": "code",
   "execution_count": 30,
   "metadata": {},
   "outputs": [],
   "source": [
    "job=df_temp['CompanyName'].value_counts().nlargest(20) #top job vacancy company\n",
    "com=df_temp['CompanyName'].value_counts().nlargest(20).index\n",
    "rat=list()\n",
    "comr=list()\n",
    "for i in com:\n",
    "    rat=str(round(df_temp.groupby('CompanyName').get_group(i)['CompanyRating'].mean(),2))\n",
    "    comr.append(i+'('+rat+')')"
   ]
  },
  {
   "cell_type": "code",
   "execution_count": 31,
   "metadata": {
    "scrolled": false
   },
   "outputs": [
    {
     "data": {
      "image/svg+xml": [
       "<svg xmlns=\"http://www.w3.org/2000/svg\" xmlns:xlink=\"http://www.w3.org/1999/xlink\" class=\"main-svg\" width=\"900\" height=\"500\" style=\"\" viewBox=\"0 0 900 500\"><rect x=\"0\" y=\"0\" width=\"900\" height=\"500\" style=\"fill: rgb(255, 255, 255); fill-opacity: 1;\"/><defs id=\"defs-0749c2\"><g class=\"clips\"><clipPath id=\"clip0749c2xyplot\" class=\"plotclip\"><rect width=\"740\" height=\"273\"/></clipPath><clipPath class=\"axesclip\" id=\"clip0749c2x\"><rect x=\"80\" y=\"0\" width=\"740\" height=\"500\"/></clipPath><clipPath class=\"axesclip\" id=\"clip0749c2y\"><rect x=\"0\" y=\"60\" width=\"900\" height=\"273\"/></clipPath><clipPath class=\"axesclip\" id=\"clip0749c2xy\"><rect x=\"80\" y=\"60\" width=\"740\" height=\"273\"/></clipPath></g><g class=\"gradients\"/></defs><g class=\"bglayer\"><rect class=\"bg\" x=\"80\" y=\"60\" width=\"740\" height=\"273\" style=\"fill: rgb(229, 236, 246); fill-opacity: 1; stroke-width: 0;\"/></g><g class=\"layer-below\"><g class=\"imagelayer\"/><g class=\"shapelayer\"/></g><g class=\"cartesianlayer\"><g class=\"subplot xy\"><g class=\"layer-subplot\"><g class=\"shapelayer\"/><g class=\"imagelayer\"/></g><g class=\"gridlayer\"><g class=\"x\"/><g class=\"y\"><path class=\"ygrid crisp\" transform=\"translate(0,264.75)\" d=\"M80,0h740\" style=\"stroke: rgb(255, 255, 255); stroke-opacity: 1; stroke-width: 1px;\"/><path class=\"ygrid crisp\" transform=\"translate(0,196.5)\" d=\"M80,0h740\" style=\"stroke: rgb(255, 255, 255); stroke-opacity: 1; stroke-width: 1px;\"/><path class=\"ygrid crisp\" transform=\"translate(0,128.25)\" d=\"M80,0h740\" style=\"stroke: rgb(255, 255, 255); stroke-opacity: 1; stroke-width: 1px;\"/></g></g><g class=\"zerolinelayer\"><path class=\"yzl zl crisp\" transform=\"translate(0,333)\" d=\"M80,0h740\" style=\"stroke: rgb(255, 255, 255); stroke-opacity: 1; stroke-width: 2px;\"/></g><path class=\"xlines-below\"/><path class=\"ylines-below\"/><g class=\"overlines-below\"/><g class=\"xaxislayer-below\"/><g class=\"yaxislayer-below\"/><g class=\"overaxes-below\"/><g class=\"plot\" transform=\"translate(80,60)\" clip-path=\"url('#clip0749c2xyplot')\"><g class=\"barlayer mlayer\"><g class=\"trace bars\" style=\"opacity: 0.7;\"><g class=\"points\"><g class=\"point\"><path d=\"M3.7,273V13.65H33.3V273Z\" style=\"vector-effect: non-scaling-stroke; opacity: 1; stroke-width: 1.5px; fill: rgb(127, 60, 141); fill-opacity: 1; stroke: rgb(8, 48, 107); stroke-opacity: 1;\"/><text class=\"bartext bartext-outside\" text-anchor=\"middle\" data-notex=\"1\" x=\"0\" y=\"0\" style=\"font-family: 'Open Sans', verdana, arial, sans-serif; font-size: 12px; fill: rgb(42, 63, 95); fill-opacity: 1; white-space: pre;\" transform=\"translate(18.3203125,7.65)\">19</text></g></g></g><g class=\"trace bars\" style=\"opacity: 0.7;\"><g class=\"points\"><g class=\"point\"><path d=\"M40.7,273V109.2H70.3V273Z\" style=\"vector-effect: non-scaling-stroke; opacity: 1; stroke-width: 1.5px; fill: rgb(17, 165, 121); fill-opacity: 1; stroke: rgb(8, 48, 107); stroke-opacity: 1;\"/><text class=\"bartext bartext-outside\" text-anchor=\"middle\" data-notex=\"1\" x=\"0\" y=\"0\" style=\"font-family: 'Open Sans', verdana, arial, sans-serif; font-size: 12px; fill: rgb(42, 63, 95); fill-opacity: 1; white-space: pre;\" transform=\"translate(55.3203125,103.2)\">12</text></g></g></g><g class=\"trace bars\" style=\"opacity: 0.7;\"><g class=\"points\"><g class=\"point\"><path d=\"M77.7,273V163.8H107.3V273Z\" style=\"vector-effect: non-scaling-stroke; opacity: 1; stroke-width: 1.5px; fill: rgb(57, 105, 172); fill-opacity: 1; stroke: rgb(8, 48, 107); stroke-opacity: 1;\"/><text class=\"bartext bartext-outside\" text-anchor=\"middle\" data-notex=\"1\" x=\"0\" y=\"0\" style=\"font-family: 'Open Sans', verdana, arial, sans-serif; font-size: 12px; fill: rgb(42, 63, 95); fill-opacity: 1; white-space: pre;\" transform=\"translate(92.3203125,157.8)\">8</text></g></g></g><g class=\"trace bars\" style=\"opacity: 0.7;\"><g class=\"points\"><g class=\"point\"><path d=\"M114.7,273V163.8H144.3V273Z\" style=\"vector-effect: non-scaling-stroke; opacity: 1; stroke-width: 1.5px; fill: rgb(242, 183, 1); fill-opacity: 1; stroke: rgb(8, 48, 107); stroke-opacity: 1;\"/><text class=\"bartext bartext-outside\" text-anchor=\"middle\" data-notex=\"1\" x=\"0\" y=\"0\" style=\"font-family: 'Open Sans', verdana, arial, sans-serif; font-size: 12px; fill: rgb(42, 63, 95); fill-opacity: 1; white-space: pre;\" transform=\"translate(129.3203125,157.8)\">8</text></g></g></g><g class=\"trace bars\" style=\"opacity: 0.7;\"><g class=\"points\"><g class=\"point\"><path d=\"M151.7,273V163.8H181.3V273Z\" style=\"vector-effect: non-scaling-stroke; opacity: 1; stroke-width: 1.5px; fill: rgb(231, 63, 116); fill-opacity: 1; stroke: rgb(8, 48, 107); stroke-opacity: 1;\"/><text class=\"bartext bartext-outside\" text-anchor=\"middle\" data-notex=\"1\" x=\"0\" y=\"0\" style=\"font-family: 'Open Sans', verdana, arial, sans-serif; font-size: 12px; fill: rgb(42, 63, 95); fill-opacity: 1; white-space: pre;\" transform=\"translate(166.3203125,157.8)\">8</text></g></g></g><g class=\"trace bars\" style=\"opacity: 0.7;\"><g class=\"points\"><g class=\"point\"><path d=\"M188.7,273V163.8H218.3V273Z\" style=\"vector-effect: non-scaling-stroke; opacity: 1; stroke-width: 1.5px; fill: rgb(128, 186, 90); fill-opacity: 1; stroke: rgb(8, 48, 107); stroke-opacity: 1;\"/><text class=\"bartext bartext-outside\" text-anchor=\"middle\" data-notex=\"1\" x=\"0\" y=\"0\" style=\"font-family: 'Open Sans', verdana, arial, sans-serif; font-size: 12px; fill: rgb(42, 63, 95); fill-opacity: 1; white-space: pre;\" transform=\"translate(203.3203125,157.8)\">8</text></g></g></g><g class=\"trace bars\" style=\"opacity: 0.7;\"><g class=\"points\"><g class=\"point\"><path d=\"M225.7,273V163.8H255.3V273Z\" style=\"vector-effect: non-scaling-stroke; opacity: 1; stroke-width: 1.5px; fill: rgb(230, 131, 16); fill-opacity: 1; stroke: rgb(8, 48, 107); stroke-opacity: 1;\"/><text class=\"bartext bartext-outside\" text-anchor=\"middle\" data-notex=\"1\" x=\"0\" y=\"0\" style=\"font-family: 'Open Sans', verdana, arial, sans-serif; font-size: 12px; fill: rgb(42, 63, 95); fill-opacity: 1; white-space: pre;\" transform=\"translate(240.3203125,157.8)\">8</text></g></g></g><g class=\"trace bars\" style=\"opacity: 0.7;\"><g class=\"points\"><g class=\"point\"><path d=\"M262.7,273V177.45H292.3V273Z\" style=\"vector-effect: non-scaling-stroke; opacity: 1; stroke-width: 1.5px; fill: rgb(0, 134, 149); fill-opacity: 1; stroke: rgb(8, 48, 107); stroke-opacity: 1;\"/><text class=\"bartext bartext-outside\" text-anchor=\"middle\" data-notex=\"1\" x=\"0\" y=\"0\" style=\"font-family: 'Open Sans', verdana, arial, sans-serif; font-size: 12px; fill: rgb(42, 63, 95); fill-opacity: 1; white-space: pre;\" transform=\"translate(277.3203125,171.45)\">7</text></g></g></g><g class=\"trace bars\" style=\"opacity: 0.7;\"><g class=\"points\"><g class=\"point\"><path d=\"M299.7,273V191.1H329.3V273Z\" style=\"vector-effect: non-scaling-stroke; opacity: 1; stroke-width: 1.5px; fill: rgb(207, 28, 144); fill-opacity: 1; stroke: rgb(8, 48, 107); stroke-opacity: 1;\"/><text class=\"bartext bartext-outside\" text-anchor=\"middle\" data-notex=\"1\" x=\"0\" y=\"0\" style=\"font-family: 'Open Sans', verdana, arial, sans-serif; font-size: 12px; fill: rgb(42, 63, 95); fill-opacity: 1; white-space: pre;\" transform=\"translate(314.3203125,185.1)\">6</text></g></g></g><g class=\"trace bars\" style=\"opacity: 0.7;\"><g class=\"points\"><g class=\"point\"><path d=\"M336.7,273V191.1H366.3V273Z\" style=\"vector-effect: non-scaling-stroke; opacity: 1; stroke-width: 1.5px; fill: rgb(249, 123, 114); fill-opacity: 1; stroke: rgb(8, 48, 107); stroke-opacity: 1;\"/><text class=\"bartext bartext-outside\" text-anchor=\"middle\" data-notex=\"1\" x=\"0\" y=\"0\" style=\"font-family: 'Open Sans', verdana, arial, sans-serif; font-size: 12px; fill: rgb(42, 63, 95); fill-opacity: 1; white-space: pre;\" transform=\"translate(351.3203125,185.1)\">6</text></g></g></g><g class=\"trace bars\" style=\"opacity: 0.7;\"><g class=\"points\"><g class=\"point\"><path d=\"M373.7,273V191.1H403.3V273Z\" style=\"vector-effect: non-scaling-stroke; opacity: 1; stroke-width: 1.5px; fill: rgb(165, 170, 153); fill-opacity: 1; stroke: rgb(8, 48, 107); stroke-opacity: 1;\"/><text class=\"bartext bartext-outside\" text-anchor=\"middle\" data-notex=\"1\" x=\"0\" y=\"0\" style=\"font-family: 'Open Sans', verdana, arial, sans-serif; font-size: 12px; fill: rgb(42, 63, 95); fill-opacity: 1; white-space: pre;\" transform=\"translate(388.3203125,185.1)\">6</text></g></g></g><g class=\"trace bars\" style=\"opacity: 0.7;\"><g class=\"points\"><g class=\"point\"><path d=\"M410.7,273V191.1H440.3V273Z\" style=\"vector-effect: non-scaling-stroke; opacity: 1; stroke-width: 1.5px; fill: rgb(127, 60, 141); fill-opacity: 1; stroke: rgb(8, 48, 107); stroke-opacity: 1;\"/><text class=\"bartext bartext-outside\" text-anchor=\"middle\" data-notex=\"1\" x=\"0\" y=\"0\" style=\"font-family: 'Open Sans', verdana, arial, sans-serif; font-size: 12px; fill: rgb(42, 63, 95); fill-opacity: 1; white-space: pre;\" transform=\"translate(425.3203125,185.1)\">6</text></g></g></g><g class=\"trace bars\" style=\"opacity: 0.7;\"><g class=\"points\"><g class=\"point\"><path d=\"M447.7,273V204.75H477.3V273Z\" style=\"vector-effect: non-scaling-stroke; opacity: 1; stroke-width: 1.5px; fill: rgb(17, 165, 121); fill-opacity: 1; stroke: rgb(8, 48, 107); stroke-opacity: 1;\"/><text class=\"bartext bartext-outside\" text-anchor=\"middle\" data-notex=\"1\" x=\"0\" y=\"0\" style=\"font-family: 'Open Sans', verdana, arial, sans-serif; font-size: 12px; fill: rgb(42, 63, 95); fill-opacity: 1; white-space: pre;\" transform=\"translate(462.3203125,198.75)\">5</text></g></g></g><g class=\"trace bars\" style=\"opacity: 0.7;\"><g class=\"points\"><g class=\"point\"><path d=\"M484.7,273V204.75H514.3V273Z\" style=\"vector-effect: non-scaling-stroke; opacity: 1; stroke-width: 1.5px; fill: rgb(57, 105, 172); fill-opacity: 1; stroke: rgb(8, 48, 107); stroke-opacity: 1;\"/><text class=\"bartext bartext-outside\" text-anchor=\"middle\" data-notex=\"1\" x=\"0\" y=\"0\" style=\"font-family: 'Open Sans', verdana, arial, sans-serif; font-size: 12px; fill: rgb(42, 63, 95); fill-opacity: 1; white-space: pre;\" transform=\"translate(499.3203125,198.75)\">5</text></g></g></g><g class=\"trace bars\" style=\"opacity: 0.7;\"><g class=\"points\"><g class=\"point\"><path d=\"M521.7,273V204.75H551.3V273Z\" style=\"vector-effect: non-scaling-stroke; opacity: 1; stroke-width: 1.5px; fill: rgb(242, 183, 1); fill-opacity: 1; stroke: rgb(8, 48, 107); stroke-opacity: 1;\"/><text class=\"bartext bartext-outside\" text-anchor=\"middle\" data-notex=\"1\" x=\"0\" y=\"0\" style=\"font-family: 'Open Sans', verdana, arial, sans-serif; font-size: 12px; fill: rgb(42, 63, 95); fill-opacity: 1; white-space: pre;\" transform=\"translate(536.3203125,198.75)\">5</text></g></g></g><g class=\"trace bars\" style=\"opacity: 0.7;\"><g class=\"points\"><g class=\"point\"><path d=\"M558.7,273V204.75H588.3V273Z\" style=\"vector-effect: non-scaling-stroke; opacity: 1; stroke-width: 1.5px; fill: rgb(231, 63, 116); fill-opacity: 1; stroke: rgb(8, 48, 107); stroke-opacity: 1;\"/><text class=\"bartext bartext-outside\" text-anchor=\"middle\" data-notex=\"1\" x=\"0\" y=\"0\" style=\"font-family: 'Open Sans', verdana, arial, sans-serif; font-size: 12px; fill: rgb(42, 63, 95); fill-opacity: 1; white-space: pre;\" transform=\"translate(573.3203125,198.75)\">5</text></g></g></g><g class=\"trace bars\" style=\"opacity: 0.7;\"><g class=\"points\"><g class=\"point\"><path d=\"M595.7,273V218.4H625.3V273Z\" style=\"vector-effect: non-scaling-stroke; opacity: 1; stroke-width: 1.5px; fill: rgb(128, 186, 90); fill-opacity: 1; stroke: rgb(8, 48, 107); stroke-opacity: 1;\"/><text class=\"bartext bartext-outside\" text-anchor=\"middle\" data-notex=\"1\" x=\"0\" y=\"0\" style=\"font-family: 'Open Sans', verdana, arial, sans-serif; font-size: 12px; fill: rgb(42, 63, 95); fill-opacity: 1; white-space: pre;\" transform=\"translate(610.3203125,212.4)\">4</text></g></g></g><g class=\"trace bars\" style=\"opacity: 0.7;\"><g class=\"points\"><g class=\"point\"><path d=\"M632.7,273V218.4H662.3V273Z\" style=\"vector-effect: non-scaling-stroke; opacity: 1; stroke-width: 1.5px; fill: rgb(230, 131, 16); fill-opacity: 1; stroke: rgb(8, 48, 107); stroke-opacity: 1;\"/><text class=\"bartext bartext-outside\" text-anchor=\"middle\" data-notex=\"1\" x=\"0\" y=\"0\" style=\"font-family: 'Open Sans', verdana, arial, sans-serif; font-size: 12px; fill: rgb(42, 63, 95); fill-opacity: 1; white-space: pre;\" transform=\"translate(647.3203125,212.4)\">4</text></g></g></g><g class=\"trace bars\" style=\"opacity: 0.7;\"><g class=\"points\"><g class=\"point\"><path d=\"M669.7,273V218.4H699.3V273Z\" style=\"vector-effect: non-scaling-stroke; opacity: 1; stroke-width: 1.5px; fill: rgb(0, 134, 149); fill-opacity: 1; stroke: rgb(8, 48, 107); stroke-opacity: 1;\"/><text class=\"bartext bartext-outside\" text-anchor=\"middle\" data-notex=\"1\" x=\"0\" y=\"0\" style=\"font-family: 'Open Sans', verdana, arial, sans-serif; font-size: 12px; fill: rgb(42, 63, 95); fill-opacity: 1; white-space: pre;\" transform=\"translate(684.3203125,212.4)\">4</text></g></g></g><g class=\"trace bars\" style=\"opacity: 0.7;\"><g class=\"points\"><g class=\"point\"><path d=\"M706.7,273V218.4H736.3V273Z\" style=\"vector-effect: non-scaling-stroke; opacity: 1; stroke-width: 1.5px; fill: rgb(207, 28, 144); fill-opacity: 1; stroke: rgb(8, 48, 107); stroke-opacity: 1;\"/><text class=\"bartext bartext-outside\" text-anchor=\"middle\" data-notex=\"1\" x=\"0\" y=\"0\" style=\"font-family: 'Open Sans', verdana, arial, sans-serif; font-size: 12px; fill: rgb(42, 63, 95); fill-opacity: 1; white-space: pre;\" transform=\"translate(721.3203125,212.4)\">4</text></g></g></g></g></g><g class=\"overplot\"/><path class=\"xlines-above crisp\" d=\"M0,0\" style=\"fill: none;\"/><path class=\"ylines-above crisp\" d=\"M0,0\" style=\"fill: none;\"/><g class=\"overlines-above\"/><g class=\"xaxislayer-above\"><g class=\"xtick\"><text text-anchor=\"start\" x=\"0\" y=\"346\" transform=\"translate(98.5,0) rotate(30,0,340)\" style=\"font-family: 'Open Sans', verdana, arial, sans-serif; font-size: 12px; fill: rgb(42, 63, 95); fill-opacity: 1; white-space: pre;\">Cognizant(3.9)</text></g><g class=\"xtick\"><text text-anchor=\"start\" x=\"0\" y=\"346\" transform=\"translate(135.5,0) rotate(30,0,340)\" style=\"font-family: 'Open Sans', verdana, arial, sans-serif; font-size: 12px; fill: rgb(42, 63, 95); fill-opacity: 1; white-space: pre;\">IBM(3.9)</text></g><g class=\"xtick\"><text text-anchor=\"start\" x=\"0\" y=\"346\" transform=\"translate(172.5,0) rotate(30,0,340)\" style=\"font-family: 'Open Sans', verdana, arial, sans-serif; font-size: 12px; fill: rgb(42, 63, 95); fill-opacity: 1; white-space: pre;\">Microsoft(4.2)</text></g><g class=\"xtick\"><text text-anchor=\"start\" x=\"0\" y=\"346\" transform=\"translate(209.5,0) rotate(30,0,340)\" style=\"font-family: 'Open Sans', verdana, arial, sans-serif; font-size: 12px; fill: rgb(42, 63, 95); fill-opacity: 1; white-space: pre;\">Gartner(3.7)</text></g><g class=\"xtick\"><text text-anchor=\"start\" x=\"0\" y=\"346\" transform=\"translate(246.5,0) rotate(30,0,340)\" style=\"font-family: 'Open Sans', verdana, arial, sans-serif; font-size: 12px; fill: rgb(42, 63, 95); fill-opacity: 1; white-space: pre;\">JPMorgan Chase Bank, N.A.(3.9)</text></g><g class=\"xtick\"><text text-anchor=\"start\" x=\"0\" y=\"346\" transform=\"translate(283.5,0) rotate(30,0,340)\" style=\"font-family: 'Open Sans', verdana, arial, sans-serif; font-size: 12px; fill: rgb(42, 63, 95); fill-opacity: 1; white-space: pre;\">Deloitte(4.0)</text></g><g class=\"xtick\"><text text-anchor=\"start\" x=\"0\" y=\"346\" transform=\"translate(320.5,0) rotate(30,0,340)\" style=\"font-family: 'Open Sans', verdana, arial, sans-serif; font-size: 12px; fill: rgb(42, 63, 95); fill-opacity: 1; white-space: pre;\">Novartis(4.1)</text></g><g class=\"xtick\"><text text-anchor=\"start\" x=\"0\" y=\"346\" transform=\"translate(357.5,0) rotate(30,0,340)\" style=\"font-family: 'Open Sans', verdana, arial, sans-serif; font-size: 12px; fill: rgb(42, 63, 95); fill-opacity: 1; white-space: pre;\">Larsen &amp; Toubro Infotech Limited(3.7)</text></g><g class=\"xtick\"><text text-anchor=\"start\" x=\"0\" y=\"346\" transform=\"translate(394.5,0) rotate(30,0,340)\" style=\"font-family: 'Open Sans', verdana, arial, sans-serif; font-size: 12px; fill: rgb(42, 63, 95); fill-opacity: 1; white-space: pre;\">IQVIA(3.8)</text></g><g class=\"xtick\"><text text-anchor=\"start\" x=\"0\" y=\"346\" transform=\"translate(431.5,0) rotate(30,0,340)\" style=\"font-family: 'Open Sans', verdana, arial, sans-serif; font-size: 12px; fill: rgb(42, 63, 95); fill-opacity: 1; white-space: pre;\">McKinsey &amp; Company(4.3)</text></g><g class=\"xtick\"><text text-anchor=\"start\" x=\"0\" y=\"346\" transform=\"translate(468.5,0) rotate(30,0,340)\" style=\"font-family: 'Open Sans', verdana, arial, sans-serif; font-size: 12px; fill: rgb(42, 63, 95); fill-opacity: 1; white-space: pre;\">Oracle(3.8)</text></g><g class=\"xtick\"><text text-anchor=\"start\" x=\"0\" y=\"346\" transform=\"translate(505.5,0) rotate(30,0,340)\" style=\"font-family: 'Open Sans', verdana, arial, sans-serif; font-size: 12px; fill: rgb(42, 63, 95); fill-opacity: 1; white-space: pre;\">Micron(3.8)</text></g><g class=\"xtick\"><text text-anchor=\"start\" x=\"0\" y=\"346\" transform=\"translate(542.5,0) rotate(30,0,340)\" style=\"font-family: 'Open Sans', verdana, arial, sans-serif; font-size: 12px; fill: rgb(42, 63, 95); fill-opacity: 1; white-space: pre;\">CareerXperts(0.1)</text></g><g class=\"xtick\"><text text-anchor=\"start\" x=\"0\" y=\"346\" transform=\"translate(579.5,0) rotate(30,0,340)\" style=\"font-family: 'Open Sans', verdana, arial, sans-serif; font-size: 12px; fill: rgb(42, 63, 95); fill-opacity: 1; white-space: pre;\">GSK(4.2)</text></g><g class=\"xtick\"><text text-anchor=\"start\" x=\"0\" y=\"346\" transform=\"translate(616.5,0) rotate(30,0,340)\" style=\"font-family: 'Open Sans', verdana, arial, sans-serif; font-size: 12px; fill: rgb(42, 63, 95); fill-opacity: 1; white-space: pre;\">GO-JEK(0.1)</text></g><g class=\"xtick\"><text text-anchor=\"start\" x=\"0\" y=\"346\" transform=\"translate(653.5,0) rotate(30,0,340)\" style=\"font-family: 'Open Sans', verdana, arial, sans-serif; font-size: 12px; fill: rgb(42, 63, 95); fill-opacity: 1; white-space: pre;\">Hewlett Packard Enterprise(3.8)</text></g><g class=\"xtick\"><text text-anchor=\"start\" x=\"0\" y=\"346\" transform=\"translate(690.5,0) rotate(30,0,340)\" style=\"font-family: 'Open Sans', verdana, arial, sans-serif; font-size: 12px; fill: rgb(42, 63, 95); fill-opacity: 1; white-space: pre;\">ADCI - Karnataka(3.6)</text></g><g class=\"xtick\"><text text-anchor=\"start\" x=\"0\" y=\"346\" transform=\"translate(727.5,0) rotate(30,0,340)\" style=\"font-family: 'Open Sans', verdana, arial, sans-serif; font-size: 12px; fill: rgb(42, 63, 95); fill-opacity: 1; white-space: pre;\">XenonStack(2.5)</text></g><g class=\"xtick\"><text text-anchor=\"start\" x=\"0\" y=\"346\" transform=\"translate(764.5,0) rotate(30,0,340)\" style=\"font-family: 'Open Sans', verdana, arial, sans-serif; font-size: 12px; fill: rgb(42, 63, 95); fill-opacity: 1; white-space: pre;\">CCS Computers(0.1)</text></g><g class=\"xtick\"><text text-anchor=\"start\" x=\"0\" y=\"346\" transform=\"translate(801.5,0) rotate(30,0,340)\" style=\"font-family: 'Open Sans', verdana, arial, sans-serif; font-size: 12px; fill: rgb(42, 63, 95); fill-opacity: 1; white-space: pre;\">Parexel(3.7)</text></g></g><g class=\"yaxislayer-above\"><g class=\"ytick\"><text text-anchor=\"end\" x=\"79\" y=\"4.199999999999999\" transform=\"translate(0,333)\" style=\"font-family: 'Open Sans', verdana, arial, sans-serif; font-size: 12px; fill: rgb(42, 63, 95); fill-opacity: 1; white-space: pre;\">0</text></g><g class=\"ytick\"><text text-anchor=\"end\" x=\"79\" y=\"4.199999999999999\" transform=\"translate(0,264.75)\" style=\"font-family: 'Open Sans', verdana, arial, sans-serif; font-size: 12px; fill: rgb(42, 63, 95); fill-opacity: 1; white-space: pre;\">5</text></g><g class=\"ytick\"><text text-anchor=\"end\" x=\"79\" y=\"4.199999999999999\" transform=\"translate(0,196.5)\" style=\"font-family: 'Open Sans', verdana, arial, sans-serif; font-size: 12px; fill: rgb(42, 63, 95); fill-opacity: 1; white-space: pre;\">10</text></g><g class=\"ytick\"><text text-anchor=\"end\" x=\"79\" y=\"4.199999999999999\" transform=\"translate(0,128.25)\" style=\"font-family: 'Open Sans', verdana, arial, sans-serif; font-size: 12px; fill: rgb(42, 63, 95); fill-opacity: 1; white-space: pre;\">15</text></g><g class=\"ytick\"><text text-anchor=\"end\" x=\"79\" y=\"4.199999999999999\" transform=\"translate(0,60)\" style=\"font-family: 'Open Sans', verdana, arial, sans-serif; font-size: 12px; fill: rgb(42, 63, 95); fill-opacity: 1; white-space: pre;\">20</text></g></g><g class=\"overaxes-above\"/></g></g><g class=\"polarlayer\"/><g class=\"ternarylayer\"/><g class=\"geolayer\"/><g class=\"funnelarealayer\"/><g class=\"pielayer\"/><g class=\"treemaplayer\"/><g class=\"sunburstlayer\"/><g class=\"glimages\"/><defs id=\"topdefs-0749c2\"><g class=\"clips\"/></defs><g class=\"layer-above\"><g class=\"imagelayer\"/><g class=\"shapelayer\"/></g><g class=\"infolayer\"><g class=\"g-gtitle\"><text class=\"gtitle\" x=\"45\" y=\"30\" text-anchor=\"start\" dy=\"0em\" style=\"font-family: 'Open Sans', verdana, arial, sans-serif; font-size: 17px; fill: rgb(42, 63, 95); opacity: 1; font-weight: normal; white-space: pre;\">Top 20 job vacancy company with their ratings</text></g><g class=\"g-xtitle\"><text class=\"xtitle\" x=\"450\" y=\"488.1642578125\" text-anchor=\"middle\" style=\"font-family: 'Open Sans', verdana, arial, sans-serif; font-size: 14px; fill: rgb(42, 63, 95); opacity: 1; font-weight: normal; white-space: pre;\">Company Name(Rating)</text></g><g class=\"g-ytitle\"><text class=\"ytitle\" transform=\"rotate(-90,38.934375,196.5)\" x=\"38.934375\" y=\"196.5\" text-anchor=\"middle\" style=\"font-family: 'Open Sans', verdana, arial, sans-serif; font-size: 14px; fill: rgb(42, 63, 95); opacity: 1; font-weight: normal; white-space: pre;\">Job count</text></g></g></svg>"
      ],
      "text/plain": [
       "<IPython.core.display.SVG object>"
      ]
     },
     "metadata": {},
     "output_type": "display_data"
    }
   ],
   "source": [
    "fig = px.bar(y=job,\n",
    "             x=comr,\n",
    "             orientation='v',\n",
    "             color=comr,\n",
    "             text=job,\n",
    "             color_discrete_sequence= px.colors.qualitative.Bold)\n",
    "\n",
    "fig.update_traces( \n",
    "                  textposition='outside', \n",
    "                  marker_line_color='rgb(8,48,107)', \n",
    "                  marker_line_width=1.5, \n",
    "                  opacity=0.7)\n",
    "\n",
    "fig.update_layout(width=900, \n",
    "                  showlegend=False, \n",
    "                  xaxis_title=\"Company Name(Rating)\",\n",
    "                  yaxis_title=\"Job count\",\n",
    "                  title=\"Top 20 job vacancy company with their ratings\")\n",
    "#fig.show()\n",
    "img_bytes = pio.to_image(fig, format=\"svg\")\n",
    "display(SVG(img_bytes))"
   ]
  },
  {
   "cell_type": "markdown",
   "metadata": {},
   "source": [
    "They are here with top job vacancies.Cognizant,IBM,Novartis,JP Morgan,Microsoft are very big names but they have avarage ratings, may they have huge number of people rated their company and also people may expect from them litttle extra like their brand value."
   ]
  },
  {
   "cell_type": "code",
   "execution_count": 32,
   "metadata": {},
   "outputs": [
    {
     "data": {
      "image/svg+xml": [
       "<svg xmlns=\"http://www.w3.org/2000/svg\" xmlns:xlink=\"http://www.w3.org/1999/xlink\" class=\"main-svg\" width=\"800\" height=\"500\" style=\"\" viewBox=\"0 0 800 500\"><rect x=\"0\" y=\"0\" width=\"800\" height=\"500\" style=\"fill: rgb(255, 255, 255); fill-opacity: 1;\"/><defs id=\"defs-3b3b53\"><g class=\"clips\"><clipPath id=\"clip3b3b53xyplot\" class=\"plotclip\"><rect width=\"640\" height=\"321\"/></clipPath><clipPath class=\"axesclip\" id=\"clip3b3b53x\"><rect x=\"80\" y=\"0\" width=\"640\" height=\"500\"/></clipPath><clipPath class=\"axesclip\" id=\"clip3b3b53y\"><rect x=\"0\" y=\"60\" width=\"800\" height=\"321\"/></clipPath><clipPath class=\"axesclip\" id=\"clip3b3b53xy\"><rect x=\"80\" y=\"60\" width=\"640\" height=\"321\"/></clipPath></g><g class=\"gradients\"/></defs><g class=\"bglayer\"><rect class=\"bg\" x=\"80\" y=\"60\" width=\"640\" height=\"321\" style=\"fill: rgb(229, 236, 246); fill-opacity: 1; stroke-width: 0;\"/></g><g class=\"layer-below\"><g class=\"imagelayer\"/><g class=\"shapelayer\"/></g><g class=\"cartesianlayer\"><g class=\"subplot xy\"><g class=\"layer-subplot\"><g class=\"shapelayer\"/><g class=\"imagelayer\"/></g><g class=\"gridlayer\"><g class=\"x\"/><g class=\"y\"><path class=\"ygrid crisp\" transform=\"translate(0,327.12)\" d=\"M80,0h640\" style=\"stroke: rgb(255, 255, 255); stroke-opacity: 1; stroke-width: 1px;\"/><path class=\"ygrid crisp\" transform=\"translate(0,273.24)\" d=\"M80,0h640\" style=\"stroke: rgb(255, 255, 255); stroke-opacity: 1; stroke-width: 1px;\"/><path class=\"ygrid crisp\" transform=\"translate(0,219.37)\" d=\"M80,0h640\" style=\"stroke: rgb(255, 255, 255); stroke-opacity: 1; stroke-width: 1px;\"/><path class=\"ygrid crisp\" transform=\"translate(0,165.49)\" d=\"M80,0h640\" style=\"stroke: rgb(255, 255, 255); stroke-opacity: 1; stroke-width: 1px;\"/><path class=\"ygrid crisp\" transform=\"translate(0,111.61)\" d=\"M80,0h640\" style=\"stroke: rgb(255, 255, 255); stroke-opacity: 1; stroke-width: 1px;\"/></g></g><g class=\"zerolinelayer\"><path class=\"yzl zl crisp\" transform=\"translate(0,381)\" d=\"M80,0h640\" style=\"stroke: rgb(255, 255, 255); stroke-opacity: 1; stroke-width: 2px;\"/></g><path class=\"xlines-below\"/><path class=\"ylines-below\"/><g class=\"overlines-below\"/><g class=\"xaxislayer-below\"/><g class=\"yaxislayer-below\"/><g class=\"overaxes-below\"/><g class=\"plot\" transform=\"translate(80,60)\" clip-path=\"url('#clip3b3b53xyplot')\"><g class=\"barlayer mlayer\"><g class=\"trace bars\" style=\"opacity: 0.7;\"><g class=\"points\"><g class=\"point\"><path d=\"M6.4,321V16.05H57.6V321Z\" style=\"vector-effect: non-scaling-stroke; opacity: 1; stroke-width: 1.5px; fill: rgb(127, 60, 141); fill-opacity: 1; stroke: rgb(8, 48, 107); stroke-opacity: 1;\"/><text class=\"bartext bartext-outside\" text-anchor=\"middle\" data-notex=\"1\" x=\"0\" y=\"0\" style=\"font-family: 'Open Sans', verdana, arial, sans-serif; font-size: 12px; fill: rgb(42, 63, 95); fill-opacity: 1; white-space: pre;\" transform=\"translate(31.8125,10.05)\">280</text></g></g></g><g class=\"trace bars\" style=\"opacity: 0.7;\"><g class=\"points\"><g class=\"point\"><path d=\"M70.4,321V240.18H121.6V321Z\" style=\"vector-effect: non-scaling-stroke; opacity: 1; stroke-width: 1.5px; fill: rgb(17, 165, 121); fill-opacity: 1; stroke: rgb(8, 48, 107); stroke-opacity: 1;\"/><text class=\"bartext bartext-outside\" text-anchor=\"middle\" data-notex=\"1\" x=\"0\" y=\"0\" style=\"font-family: 'Open Sans', verdana, arial, sans-serif; font-size: 12px; fill: rgb(42, 63, 95); fill-opacity: 1; white-space: pre;\" transform=\"translate(95.8203125,234.18)\">75</text></g></g></g><g class=\"trace bars\" style=\"opacity: 0.7;\"><g class=\"points\"><g class=\"point\"><path d=\"M134.4,321V242.34H185.6V321Z\" style=\"vector-effect: non-scaling-stroke; opacity: 1; stroke-width: 1.5px; fill: rgb(57, 105, 172); fill-opacity: 1; stroke: rgb(8, 48, 107); stroke-opacity: 1;\"/><text class=\"bartext bartext-outside\" text-anchor=\"middle\" data-notex=\"1\" x=\"0\" y=\"0\" style=\"font-family: 'Open Sans', verdana, arial, sans-serif; font-size: 12px; fill: rgb(42, 63, 95); fill-opacity: 1; white-space: pre;\" transform=\"translate(160,236.34)\">73</text></g></g></g><g class=\"trace bars\" style=\"opacity: 0.7;\"><g class=\"points\"><g class=\"point\"><path d=\"M198.4,321V247.73H249.6V321Z\" style=\"vector-effect: non-scaling-stroke; opacity: 1; stroke-width: 1.5px; fill: rgb(242, 183, 1); fill-opacity: 1; stroke: rgb(8, 48, 107); stroke-opacity: 1;\"/><text class=\"bartext bartext-outside\" text-anchor=\"middle\" data-notex=\"1\" x=\"0\" y=\"0\" style=\"font-family: 'Open Sans', verdana, arial, sans-serif; font-size: 12px; fill: rgb(42, 63, 95); fill-opacity: 1; white-space: pre;\" transform=\"translate(223.8203125,241.73)\">68</text></g></g></g><g class=\"trace bars\" style=\"opacity: 0.7;\"><g class=\"points\"><g class=\"point\"><path d=\"M262.4,321V257.42H313.6V321Z\" style=\"vector-effect: non-scaling-stroke; opacity: 1; stroke-width: 1.5px; fill: rgb(231, 63, 116); fill-opacity: 1; stroke: rgb(8, 48, 107); stroke-opacity: 1;\"/><text class=\"bartext bartext-outside\" text-anchor=\"middle\" data-notex=\"1\" x=\"0\" y=\"0\" style=\"font-family: 'Open Sans', verdana, arial, sans-serif; font-size: 12px; fill: rgb(42, 63, 95); fill-opacity: 1; white-space: pre;\" transform=\"translate(287.8203125,251.42000000000002)\">59</text></g></g></g><g class=\"trace bars\" style=\"opacity: 0.7;\"><g class=\"points\"><g class=\"point\"><path d=\"M326.4,321V263.89H377.6V321Z\" style=\"vector-effect: non-scaling-stroke; opacity: 1; stroke-width: 1.5px; fill: rgb(128, 186, 90); fill-opacity: 1; stroke: rgb(8, 48, 107); stroke-opacity: 1;\"/><text class=\"bartext bartext-outside\" text-anchor=\"middle\" data-notex=\"1\" x=\"0\" y=\"0\" style=\"font-family: 'Open Sans', verdana, arial, sans-serif; font-size: 12px; fill: rgb(42, 63, 95); fill-opacity: 1; white-space: pre;\" transform=\"translate(352,257.89)\">53</text></g></g></g><g class=\"trace bars\" style=\"opacity: 0.7;\"><g class=\"points\"><g class=\"point\"><path d=\"M390.4,321V269.28H441.6V321Z\" style=\"vector-effect: non-scaling-stroke; opacity: 1; stroke-width: 1.5px; fill: rgb(230, 131, 16); fill-opacity: 1; stroke: rgb(8, 48, 107); stroke-opacity: 1;\"/><text class=\"bartext bartext-outside\" text-anchor=\"middle\" data-notex=\"1\" x=\"0\" y=\"0\" style=\"font-family: 'Open Sans', verdana, arial, sans-serif; font-size: 12px; fill: rgb(42, 63, 95); fill-opacity: 1; white-space: pre;\" transform=\"translate(415.8203125,263.28)\">48</text></g></g></g><g class=\"trace bars\" style=\"opacity: 0.7;\"><g class=\"points\"><g class=\"point\"><path d=\"M454.4,321V292.98H505.6V321Z\" style=\"vector-effect: non-scaling-stroke; opacity: 1; stroke-width: 1.5px; fill: rgb(0, 134, 149); fill-opacity: 1; stroke: rgb(8, 48, 107); stroke-opacity: 1;\"/><text class=\"bartext bartext-outside\" text-anchor=\"middle\" data-notex=\"1\" x=\"0\" y=\"0\" style=\"font-family: 'Open Sans', verdana, arial, sans-serif; font-size: 12px; fill: rgb(42, 63, 95); fill-opacity: 1; white-space: pre;\" transform=\"translate(479.8203125,286.98)\">26</text></g></g></g><g class=\"trace bars\" style=\"opacity: 0.7;\"><g class=\"points\"><g class=\"point\"><path d=\"M518.4,321V295.14H569.6V321Z\" style=\"vector-effect: non-scaling-stroke; opacity: 1; stroke-width: 1.5px; fill: rgb(207, 28, 144); fill-opacity: 1; stroke: rgb(8, 48, 107); stroke-opacity: 1;\"/><text class=\"bartext bartext-outside\" text-anchor=\"middle\" data-notex=\"1\" x=\"0\" y=\"0\" style=\"font-family: 'Open Sans', verdana, arial, sans-serif; font-size: 12px; fill: rgb(42, 63, 95); fill-opacity: 1; white-space: pre;\" transform=\"translate(543.8203125,289.14)\">24</text></g></g></g><g class=\"trace bars\" style=\"opacity: 0.7;\"><g class=\"points\"><g class=\"point\"><path d=\"M582.4,321V299.45H633.6V321Z\" style=\"vector-effect: non-scaling-stroke; opacity: 1; stroke-width: 1.5px; fill: rgb(249, 123, 114); fill-opacity: 1; stroke: rgb(8, 48, 107); stroke-opacity: 1;\"/><text class=\"bartext bartext-outside\" text-anchor=\"middle\" data-notex=\"1\" x=\"0\" y=\"0\" style=\"font-family: 'Open Sans', verdana, arial, sans-serif; font-size: 12px; fill: rgb(42, 63, 95); fill-opacity: 1; white-space: pre;\" transform=\"translate(607.8203125,293.45)\">20</text></g></g></g></g></g><g class=\"overplot\"/><path class=\"xlines-above crisp\" d=\"M0,0\" style=\"fill: none;\"/><path class=\"ylines-above crisp\" d=\"M0,0\" style=\"fill: none;\"/><g class=\"overlines-above\"/><g class=\"xaxislayer-above\"><g class=\"xtick\"><text text-anchor=\"start\" x=\"0\" y=\"394\" transform=\"translate(112,0) rotate(30,0,388)\" style=\"font-family: 'Open Sans', verdana, arial, sans-serif; font-size: 12px; fill: rgb(42, 63, 95); fill-opacity: 1; white-space: pre;\">Bengaluru, Karnataka</text></g><g class=\"xtick\"><text text-anchor=\"start\" x=\"0\" y=\"394\" transform=\"translate(176,0) rotate(30,0,388)\" style=\"font-family: 'Open Sans', verdana, arial, sans-serif; font-size: 12px; fill: rgb(42, 63, 95); fill-opacity: 1; white-space: pre;\">Pune, Maharashtra</text></g><g class=\"xtick\"><text text-anchor=\"start\" x=\"0\" y=\"394\" transform=\"translate(240,0) rotate(30,0,388)\" style=\"font-family: 'Open Sans', verdana, arial, sans-serif; font-size: 12px; fill: rgb(42, 63, 95); fill-opacity: 1; white-space: pre;\">Mumbai, Maharashtra</text></g><g class=\"xtick\"><text text-anchor=\"start\" x=\"0\" y=\"394\" transform=\"translate(304,0) rotate(30,0,388)\" style=\"font-family: 'Open Sans', verdana, arial, sans-serif; font-size: 12px; fill: rgb(42, 63, 95); fill-opacity: 1; white-space: pre;\">Hyderabad, Telangana</text></g><g class=\"xtick\"><text text-anchor=\"start\" x=\"0\" y=\"394\" transform=\"translate(368,0) rotate(30,0,388)\" style=\"font-family: 'Open Sans', verdana, arial, sans-serif; font-size: 12px; fill: rgb(42, 63, 95); fill-opacity: 1; white-space: pre;\">Gurgaon, Haryana</text></g><g class=\"xtick\"><text text-anchor=\"start\" x=\"0\" y=\"394\" transform=\"translate(432,0) rotate(30,0,388)\" style=\"font-family: 'Open Sans', verdana, arial, sans-serif; font-size: 12px; fill: rgb(42, 63, 95); fill-opacity: 1; white-space: pre;\">India</text></g><g class=\"xtick\"><text text-anchor=\"start\" x=\"0\" y=\"394\" transform=\"translate(496,0) rotate(30,0,388)\" style=\"font-family: 'Open Sans', verdana, arial, sans-serif; font-size: 12px; fill: rgb(42, 63, 95); fill-opacity: 1; white-space: pre;\">Chennai, Tamil Nadu</text></g><g class=\"xtick\"><text text-anchor=\"start\" x=\"0\" y=\"394\" transform=\"translate(560,0) rotate(30,0,388)\" style=\"font-family: 'Open Sans', verdana, arial, sans-serif; font-size: 12px; fill: rgb(42, 63, 95); fill-opacity: 1; white-space: pre;\">Kolkata, West Bengal</text></g><g class=\"xtick\"><text text-anchor=\"start\" x=\"0\" y=\"394\" transform=\"translate(624,0) rotate(30,0,388)\" style=\"font-family: 'Open Sans', verdana, arial, sans-serif; font-size: 12px; fill: rgb(42, 63, 95); fill-opacity: 1; white-space: pre;\">Remote</text></g><g class=\"xtick\"><text text-anchor=\"start\" x=\"0\" y=\"394\" transform=\"translate(688,0) rotate(30,0,388)\" style=\"font-family: 'Open Sans', verdana, arial, sans-serif; font-size: 12px; fill: rgb(42, 63, 95); fill-opacity: 1; white-space: pre;\">New Delhi, Delhi</text></g></g><g class=\"yaxislayer-above\"><g class=\"ytick\"><text text-anchor=\"end\" x=\"79\" y=\"4.199999999999999\" transform=\"translate(0,381)\" style=\"font-family: 'Open Sans', verdana, arial, sans-serif; font-size: 12px; fill: rgb(42, 63, 95); fill-opacity: 1; white-space: pre;\">0</text></g><g class=\"ytick\"><text text-anchor=\"end\" x=\"79\" y=\"4.199999999999999\" transform=\"translate(0,327.12)\" style=\"font-family: 'Open Sans', verdana, arial, sans-serif; font-size: 12px; fill: rgb(42, 63, 95); fill-opacity: 1; white-space: pre;\">50</text></g><g class=\"ytick\"><text text-anchor=\"end\" x=\"79\" y=\"4.199999999999999\" transform=\"translate(0,273.24)\" style=\"font-family: 'Open Sans', verdana, arial, sans-serif; font-size: 12px; fill: rgb(42, 63, 95); fill-opacity: 1; white-space: pre;\">100</text></g><g class=\"ytick\"><text text-anchor=\"end\" x=\"79\" y=\"4.199999999999999\" transform=\"translate(0,219.37)\" style=\"font-family: 'Open Sans', verdana, arial, sans-serif; font-size: 12px; fill: rgb(42, 63, 95); fill-opacity: 1; white-space: pre;\">150</text></g><g class=\"ytick\"><text text-anchor=\"end\" x=\"79\" y=\"4.199999999999999\" transform=\"translate(0,165.49)\" style=\"font-family: 'Open Sans', verdana, arial, sans-serif; font-size: 12px; fill: rgb(42, 63, 95); fill-opacity: 1; white-space: pre;\">200</text></g><g class=\"ytick\"><text text-anchor=\"end\" x=\"79\" y=\"4.199999999999999\" transform=\"translate(0,111.61)\" style=\"font-family: 'Open Sans', verdana, arial, sans-serif; font-size: 12px; fill: rgb(42, 63, 95); fill-opacity: 1; white-space: pre;\">250</text></g></g><g class=\"overaxes-above\"/></g></g><g class=\"polarlayer\"/><g class=\"ternarylayer\"/><g class=\"geolayer\"/><g class=\"funnelarealayer\"/><g class=\"pielayer\"/><g class=\"treemaplayer\"/><g class=\"sunburstlayer\"/><g class=\"glimages\"/><defs id=\"topdefs-3b3b53\"><g class=\"clips\"/></defs><g class=\"layer-above\"><g class=\"imagelayer\"/><g class=\"shapelayer\"/></g><g class=\"infolayer\"><g class=\"g-gtitle\"><text class=\"gtitle\" x=\"40\" y=\"30\" text-anchor=\"start\" dy=\"0em\" style=\"font-family: 'Open Sans', verdana, arial, sans-serif; font-size: 17px; fill: rgb(42, 63, 95); opacity: 1; font-weight: normal; white-space: pre;\">Top 10 cities by job count</text></g><g class=\"g-xtitle\"><text class=\"xtitle\" x=\"400\" y=\"487.7892578125\" text-anchor=\"middle\" style=\"font-family: 'Open Sans', verdana, arial, sans-serif; font-size: 14px; fill: rgb(42, 63, 95); opacity: 1; font-weight: normal; white-space: pre;\">City</text></g><g class=\"g-ytitle\"><text class=\"ytitle\" transform=\"rotate(-90,31.309375000000003,220.5)\" x=\"31.309375000000003\" y=\"220.5\" text-anchor=\"middle\" style=\"font-family: 'Open Sans', verdana, arial, sans-serif; font-size: 14px; fill: rgb(42, 63, 95); opacity: 1; font-weight: normal; white-space: pre;\">Count</text></g></g></svg>"
      ],
      "text/plain": [
       "<IPython.core.display.SVG object>"
      ]
     },
     "metadata": {},
     "output_type": "display_data"
    }
   ],
   "source": [
    "location = df_temp['JobLocation'].value_counts().nlargest(n=10)\n",
    "fig = px.bar(y=location.values,\n",
    "       x=location.index,\n",
    "       orientation='v',\n",
    "       color=location.index,\n",
    "       text=location.values,\n",
    "       color_discrete_sequence= px.colors.qualitative.Bold)\n",
    "\n",
    "fig.update_traces(texttemplate='%{text:.2s}', \n",
    "                  textposition='outside', \n",
    "                  marker_line_color='rgb(8,48,107)', \n",
    "                  marker_line_width=1.5, \n",
    "                  opacity=0.7)\n",
    "\n",
    "fig.update_layout(width=800, \n",
    "                  showlegend=False, \n",
    "                  xaxis_title=\"City\",\n",
    "                  yaxis_title=\"Count\",\n",
    "                  title=\"Top 10 cities by job count\")\n",
    "#fig.show()\n",
    "img_bytes = pio.to_image(fig, format=\"svg\")\n",
    "display(SVG(img_bytes))"
   ]
  },
  {
   "cell_type": "markdown",
   "metadata": {},
   "source": [
    "Bangalore and Mumbai are called the IT capital and the financial capital of India respectively. Thus, it's expected that these two cities will have the maximum number of jobs among cities in India."
   ]
  },
  {
   "cell_type": "code",
   "execution_count": 33,
   "metadata": {},
   "outputs": [
    {
     "data": {
      "image/svg+xml": [
       "<svg xmlns=\"http://www.w3.org/2000/svg\" xmlns:xlink=\"http://www.w3.org/1999/xlink\" class=\"main-svg\" width=\"700\" height=\"500\" style=\"\" viewBox=\"0 0 700 500\"><rect x=\"0\" y=\"0\" width=\"700\" height=\"500\" style=\"fill: rgb(255, 255, 255); fill-opacity: 1;\"/><defs id=\"defs-1f1936\"><g class=\"clips\"><clipPath id=\"clip1f1936xyplot\" class=\"plotclip\"><rect width=\"269\" height=\"320\"/></clipPath><clipPath class=\"axesclip\" id=\"clip1f1936x\"><rect x=\"242\" y=\"0\" width=\"269\" height=\"500\"/></clipPath><clipPath class=\"axesclip\" id=\"clip1f1936y\"><rect x=\"0\" y=\"100\" width=\"700\" height=\"320\"/></clipPath><clipPath class=\"axesclip\" id=\"clip1f1936xy\"><rect x=\"242\" y=\"100\" width=\"269\" height=\"320\"/></clipPath></g><g class=\"gradients\"/></defs><g class=\"bglayer\"><rect class=\"bg\" x=\"242\" y=\"100\" width=\"269\" height=\"320\" style=\"fill: rgb(229, 236, 246); fill-opacity: 1; stroke-width: 0;\"/></g><g class=\"layer-below\"><g class=\"imagelayer\"/><g class=\"shapelayer\"/></g><g class=\"cartesianlayer\"><g class=\"subplot xy\"><g class=\"layer-subplot\"><g class=\"shapelayer\"/><g class=\"imagelayer\"/></g><g class=\"gridlayer\"><g class=\"x\"><path class=\"xgrid crisp\" transform=\"translate(327.18,0)\" d=\"M0,100v320\" style=\"stroke: rgb(255, 255, 255); stroke-opacity: 1; stroke-width: 1px;\"/><path class=\"xgrid crisp\" transform=\"translate(412.37,0)\" d=\"M0,100v320\" style=\"stroke: rgb(255, 255, 255); stroke-opacity: 1; stroke-width: 1px;\"/><path class=\"xgrid crisp\" transform=\"translate(497.55,0)\" d=\"M0,100v320\" style=\"stroke: rgb(255, 255, 255); stroke-opacity: 1; stroke-width: 1px;\"/></g><g class=\"y\"/></g><g class=\"zerolinelayer\"><path class=\"xzl zl crisp\" transform=\"translate(242,0)\" d=\"M0,100v320\" style=\"stroke: rgb(255, 255, 255); stroke-opacity: 1; stroke-width: 2px;\"/></g><path class=\"xlines-below\"/><path class=\"ylines-below\"/><g class=\"overlines-below\"/><g class=\"xaxislayer-below\"/><g class=\"yaxislayer-below\"/><g class=\"overaxes-below\"/><g class=\"plot\" transform=\"translate(242,100)\" clip-path=\"url('#clip1f1936xyplot')\"><g class=\"barlayer mlayer\"><g class=\"trace bars\" style=\"opacity: 1;\"><g class=\"points\"><g class=\"point\"><path d=\"M0,318.32V313.82H255.55V318.32Z\" style=\"vector-effect: non-scaling-stroke; opacity: 1; stroke-width: 0.5px; fill: rgb(0, 128, 128); fill-opacity: 1; stroke: rgb(229, 236, 246); stroke-opacity: 1;\"/></g><g class=\"point\"><path d=\"M0,301.47V296.98H170.37V301.47Z\" style=\"vector-effect: non-scaling-stroke; opacity: 1; stroke-width: 0.5px; fill: rgb(0, 128, 128); fill-opacity: 1; stroke: rgb(229, 236, 246); stroke-opacity: 1;\"/></g><g class=\"point\"><path d=\"M0,284.63V280.14H166.11V284.63Z\" style=\"vector-effect: non-scaling-stroke; opacity: 1; stroke-width: 0.5px; fill: rgb(0, 128, 128); fill-opacity: 1; stroke: rgb(229, 236, 246); stroke-opacity: 1;\"/></g><g class=\"point\"><path d=\"M0,267.79V263.3H153.33V267.79Z\" style=\"vector-effect: non-scaling-stroke; opacity: 1; stroke-width: 0.5px; fill: rgb(0, 128, 128); fill-opacity: 1; stroke: rgb(229, 236, 246); stroke-opacity: 1;\"/></g><g class=\"point\"><path d=\"M0,250.95V246.46H25.56V250.95Z\" style=\"vector-effect: non-scaling-stroke; opacity: 1; stroke-width: 0.5px; fill: rgb(0, 128, 128); fill-opacity: 1; stroke: rgb(229, 236, 246); stroke-opacity: 1;\"/></g><g class=\"point\"><path d=\"M0,234.11V229.61H21.3V234.11Z\" style=\"vector-effect: non-scaling-stroke; opacity: 1; stroke-width: 0.5px; fill: rgb(0, 128, 128); fill-opacity: 1; stroke: rgb(229, 236, 246); stroke-opacity: 1;\"/></g><g class=\"point\"><path d=\"M0,217.26V212.77H17.04V217.26Z\" style=\"vector-effect: non-scaling-stroke; opacity: 1; stroke-width: 0.5px; fill: rgb(0, 128, 128); fill-opacity: 1; stroke: rgb(229, 236, 246); stroke-opacity: 1;\"/></g><g class=\"point\"><path d=\"M0,200.42V195.93H12.78V200.42Z\" style=\"vector-effect: non-scaling-stroke; opacity: 1; stroke-width: 0.5px; fill: rgb(0, 128, 128); fill-opacity: 1; stroke: rgb(229, 236, 246); stroke-opacity: 1;\"/></g><g class=\"point\"><path d=\"M0,183.58V179.09H12.78V183.58Z\" style=\"vector-effect: non-scaling-stroke; opacity: 1; stroke-width: 0.5px; fill: rgb(0, 128, 128); fill-opacity: 1; stroke: rgb(229, 236, 246); stroke-opacity: 1;\"/></g><g class=\"point\"><path d=\"M0,166.74V162.25H12.78V166.74Z\" style=\"vector-effect: non-scaling-stroke; opacity: 1; stroke-width: 0.5px; fill: rgb(0, 128, 128); fill-opacity: 1; stroke: rgb(229, 236, 246); stroke-opacity: 1;\"/></g></g></g><g class=\"trace bars\" style=\"opacity: 1;\"><g class=\"points\"><g class=\"point\"><path d=\"M0,313.82V309.33H63.89V313.82Z\" style=\"vector-effect: non-scaling-stroke; opacity: 1; stroke-width: 0.5px; fill: rgb(0, 206, 209); fill-opacity: 1; stroke: rgb(229, 236, 246); stroke-opacity: 1;\"/></g><g class=\"point\"><path d=\"M0,263.3V258.81H51.11V263.3Z\" style=\"vector-effect: non-scaling-stroke; opacity: 1; stroke-width: 0.5px; fill: rgb(0, 206, 209); fill-opacity: 1; stroke: rgb(229, 236, 246); stroke-opacity: 1;\"/></g><g class=\"point\"><path d=\"M0,280.14V275.65H34.07V280.14Z\" style=\"vector-effect: non-scaling-stroke; opacity: 1; stroke-width: 0.5px; fill: rgb(0, 206, 209); fill-opacity: 1; stroke: rgb(229, 236, 246); stroke-opacity: 1;\"/></g><g class=\"point\"><path d=\"M0,296.98V292.49H21.3V296.98Z\" style=\"vector-effect: non-scaling-stroke; opacity: 1; stroke-width: 0.5px; fill: rgb(0, 206, 209); fill-opacity: 1; stroke: rgb(229, 236, 246); stroke-opacity: 1;\"/></g><g class=\"point\"><path d=\"M0,145.4V140.91H12.78V145.4Z\" style=\"vector-effect: non-scaling-stroke; opacity: 1; stroke-width: 0.5px; fill: rgb(0, 206, 209); fill-opacity: 1; stroke: rgb(229, 236, 246); stroke-opacity: 1;\"/></g><g class=\"point\"><path d=\"M0,229.61V225.12H12.78V229.61Z\" style=\"vector-effect: non-scaling-stroke; opacity: 1; stroke-width: 0.5px; fill: rgb(0, 206, 209); fill-opacity: 1; stroke: rgb(229, 236, 246); stroke-opacity: 1;\"/></g><g class=\"point\"><path d=\"M0,128.56V124.07H12.78V128.56Z\" style=\"vector-effect: non-scaling-stroke; opacity: 1; stroke-width: 0.5px; fill: rgb(0, 206, 209); fill-opacity: 1; stroke: rgb(229, 236, 246); stroke-opacity: 1;\"/></g><g class=\"point\"><path d=\"M0,111.72V107.23H8.52V111.72Z\" style=\"vector-effect: non-scaling-stroke; opacity: 1; stroke-width: 0.5px; fill: rgb(0, 206, 209); fill-opacity: 1; stroke: rgb(229, 236, 246); stroke-opacity: 1;\"/></g><g class=\"point\"><path d=\"M0,94.88V90.39H8.52V94.88Z\" style=\"vector-effect: non-scaling-stroke; opacity: 1; stroke-width: 0.5px; fill: rgb(0, 206, 209); fill-opacity: 1; stroke: rgb(229, 236, 246); stroke-opacity: 1;\"/></g><g class=\"point\"><path d=\"M0,246.46V241.96H8.52V246.46Z\" style=\"vector-effect: non-scaling-stroke; opacity: 1; stroke-width: 0.5px; fill: rgb(0, 206, 209); fill-opacity: 1; stroke: rgb(229, 236, 246); stroke-opacity: 1;\"/></g></g></g><g class=\"trace bars\" style=\"opacity: 1;\"><g class=\"points\"><g class=\"point\"><path d=\"M0,309.33V304.84H46.85V309.33Z\" style=\"vector-effect: non-scaling-stroke; opacity: 1; stroke-width: 0.5px; fill: rgb(70, 3, 159); fill-opacity: 1; stroke: rgb(229, 236, 246); stroke-opacity: 1;\"/></g><g class=\"point\"><path d=\"M0,258.81V254.32H42.59V258.81Z\" style=\"vector-effect: non-scaling-stroke; opacity: 1; stroke-width: 0.5px; fill: rgb(70, 3, 159); fill-opacity: 1; stroke: rgb(229, 236, 246); stroke-opacity: 1;\"/></g><g class=\"point\"><path d=\"M0,275.65V271.16H29.81V275.65Z\" style=\"vector-effect: non-scaling-stroke; opacity: 1; stroke-width: 0.5px; fill: rgb(70, 3, 159); fill-opacity: 1; stroke: rgb(229, 236, 246); stroke-opacity: 1;\"/></g><g class=\"point\"><path d=\"M0,292.49V288H25.56V292.49Z\" style=\"vector-effect: non-scaling-stroke; opacity: 1; stroke-width: 0.5px; fill: rgb(70, 3, 159); fill-opacity: 1; stroke: rgb(229, 236, 246); stroke-opacity: 1;\"/></g><g class=\"point\"><path d=\"M0,73.54V69.05H12.78V73.54Z\" style=\"vector-effect: non-scaling-stroke; opacity: 1; stroke-width: 0.5px; fill: rgb(70, 3, 159); fill-opacity: 1; stroke: rgb(229, 236, 246); stroke-opacity: 1;\"/></g><g class=\"point\"><path d=\"M0,56.7V52.21H8.52V56.7Z\" style=\"vector-effect: non-scaling-stroke; opacity: 1; stroke-width: 0.5px; fill: rgb(70, 3, 159); fill-opacity: 1; stroke: rgb(229, 236, 246); stroke-opacity: 1;\"/></g><g class=\"point\"><path d=\"M0,107.23V102.74H8.52V107.23Z\" style=\"vector-effect: non-scaling-stroke; opacity: 1; stroke-width: 0.5px; fill: rgb(70, 3, 159); fill-opacity: 1; stroke: rgb(229, 236, 246); stroke-opacity: 1;\"/></g><g class=\"point\"><path d=\"M0,39.86V35.37H8.52V39.86Z\" style=\"vector-effect: non-scaling-stroke; opacity: 1; stroke-width: 0.5px; fill: rgb(70, 3, 159); fill-opacity: 1; stroke: rgb(229, 236, 246); stroke-opacity: 1;\"/></g><g class=\"point\"><path d=\"M0,23.02V18.53H8.52V23.02Z\" style=\"vector-effect: non-scaling-stroke; opacity: 1; stroke-width: 0.5px; fill: rgb(70, 3, 159); fill-opacity: 1; stroke: rgb(229, 236, 246); stroke-opacity: 1;\"/></g><g class=\"point\"><path d=\"M0,6.18V1.68H8.52V6.18Z\" style=\"vector-effect: non-scaling-stroke; opacity: 1; stroke-width: 0.5px; fill: rgb(70, 3, 159); fill-opacity: 1; stroke: rgb(229, 236, 246); stroke-opacity: 1;\"/></g></g></g></g></g><g class=\"overplot\"/><path class=\"xlines-above crisp\" style=\"fill: none;\" d=\"M0,0\"/><path class=\"ylines-above crisp\" style=\"fill: none;\" d=\"M0,0\"/><g class=\"overlines-above\"/><g class=\"xaxislayer-above\"><g class=\"xtick\"><text text-anchor=\"middle\" x=\"0\" y=\"433\" transform=\"translate(242,0)\" style=\"font-family: 'Open Sans', verdana, arial, sans-serif; font-size: 12px; fill: rgb(42, 63, 95); fill-opacity: 1; white-space: pre;\">0</text></g><g class=\"xtick\"><text text-anchor=\"middle\" x=\"0\" y=\"433\" transform=\"translate(327.18,0)\" style=\"font-family: 'Open Sans', verdana, arial, sans-serif; font-size: 12px; fill: rgb(42, 63, 95); fill-opacity: 1; white-space: pre;\">20</text></g><g class=\"xtick\"><text text-anchor=\"middle\" x=\"0\" y=\"433\" transform=\"translate(412.37,0)\" style=\"font-family: 'Open Sans', verdana, arial, sans-serif; font-size: 12px; fill: rgb(42, 63, 95); fill-opacity: 1; white-space: pre;\">40</text></g><g class=\"xtick\"><text text-anchor=\"middle\" x=\"0\" y=\"433\" transform=\"translate(497.55,0)\" style=\"font-family: 'Open Sans', verdana, arial, sans-serif; font-size: 12px; fill: rgb(42, 63, 95); fill-opacity: 1; white-space: pre;\">60</text></g></g><g class=\"yaxislayer-above\"><g class=\"ytick\"><text text-anchor=\"end\" x=\"241\" y=\"4.199999999999999\" transform=\"translate(0,411.58)\" style=\"font-family: 'Open Sans', verdana, arial, sans-serif; font-size: 12px; fill: rgb(42, 63, 95); fill-opacity: 1; white-space: pre;\">data scientist</text></g><g class=\"ytick\"><text text-anchor=\"end\" x=\"241\" y=\"4.199999999999999\" transform=\"translate(0,394.74)\" style=\"font-family: 'Open Sans', verdana, arial, sans-serif; font-size: 12px; fill: rgb(42, 63, 95); fill-opacity: 1; white-space: pre;\">data analyst</text></g><g class=\"ytick\"><text text-anchor=\"end\" x=\"241\" y=\"4.199999999999999\" transform=\"translate(0,377.89)\" style=\"font-family: 'Open Sans', verdana, arial, sans-serif; font-size: 12px; fill: rgb(42, 63, 95); fill-opacity: 1; white-space: pre;\">data engineer</text></g><g class=\"ytick\"><text text-anchor=\"end\" x=\"241\" y=\"4.199999999999999\" transform=\"translate(0,361.05)\" style=\"font-family: 'Open Sans', verdana, arial, sans-serif; font-size: 12px; fill: rgb(42, 63, 95); fill-opacity: 1; white-space: pre;\">senior data scientist</text></g><g class=\"ytick\"><text text-anchor=\"end\" x=\"241\" y=\"4.199999999999999\" transform=\"translate(0,344.21000000000004)\" style=\"font-family: 'Open Sans', verdana, arial, sans-serif; font-size: 12px; fill: rgb(42, 63, 95); fill-opacity: 1; white-space: pre;\">data scientist internship</text></g><g class=\"ytick\"><text text-anchor=\"end\" x=\"241\" y=\"4.199999999999999\" transform=\"translate(0,327.37)\" style=\"font-family: 'Open Sans', verdana, arial, sans-serif; font-size: 12px; fill: rgb(42, 63, 95); fill-opacity: 1; white-space: pre;\">machine learning</text></g><g class=\"ytick\"><text text-anchor=\"end\" x=\"241\" y=\"4.199999999999999\" transform=\"translate(0,310.53)\" style=\"font-family: 'Open Sans', verdana, arial, sans-serif; font-size: 12px; fill: rgb(42, 63, 95); fill-opacity: 1; white-space: pre;\">senior data engineer</text></g><g class=\"ytick\"><text text-anchor=\"end\" x=\"241\" y=\"4.199999999999999\" transform=\"translate(0,293.68)\" style=\"font-family: 'Open Sans', verdana, arial, sans-serif; font-size: 12px; fill: rgb(42, 63, 95); fill-opacity: 1; white-space: pre;\">consultant data scientist</text></g><g class=\"ytick\"><text text-anchor=\"end\" x=\"241\" y=\"4.199999999999999\" transform=\"translate(0,276.84000000000003)\" style=\"font-family: 'Open Sans', verdana, arial, sans-serif; font-size: 12px; fill: rgb(42, 63, 95); fill-opacity: 1; white-space: pre;\">big data engineer</text></g><g class=\"ytick\"><text text-anchor=\"end\" x=\"241\" y=\"4.199999999999999\" transform=\"translate(0,260)\" style=\"font-family: 'Open Sans', verdana, arial, sans-serif; font-size: 12px; fill: rgb(42, 63, 95); fill-opacity: 1; white-space: pre;\">developer</text></g><g class=\"ytick\"><text text-anchor=\"end\" x=\"241\" y=\"4.199999999999999\" transform=\"translate(0,243.16)\" style=\"font-family: 'Open Sans', verdana, arial, sans-serif; font-size: 12px; fill: rgb(42, 63, 95); fill-opacity: 1; white-space: pre;\">associate data scientist</text></g><g class=\"ytick\"><text text-anchor=\"end\" x=\"241\" y=\"4.199999999999999\" transform=\"translate(0,226.32)\" style=\"font-family: 'Open Sans', verdana, arial, sans-serif; font-size: 12px; fill: rgb(42, 63, 95); fill-opacity: 1; white-space: pre;\">data scientist developer</text></g><g class=\"ytick\"><text text-anchor=\"end\" x=\"241\" y=\"4.199999999999999\" transform=\"translate(0,209.47)\" style=\"font-family: 'Open Sans', verdana, arial, sans-serif; font-size: 12px; fill: rgb(42, 63, 95); fill-opacity: 1; white-space: pre;\">medical editor</text></g><g class=\"ytick\"><text text-anchor=\"end\" x=\"241\" y=\"4.199999999999999\" transform=\"translate(0,192.63)\" style=\"font-family: 'Open Sans', verdana, arial, sans-serif; font-size: 12px; fill: rgb(42, 63, 95); fill-opacity: 1; white-space: pre;\">senior analyst</text></g><g class=\"ytick\"><text text-anchor=\"end\" x=\"241\" y=\"4.199999999999999\" transform=\"translate(0,175.79000000000002)\" style=\"font-family: 'Open Sans', verdana, arial, sans-serif; font-size: 12px; fill: rgb(42, 63, 95); fill-opacity: 1; white-space: pre;\">senior data analyst</text></g><g class=\"ytick\"><text text-anchor=\"end\" x=\"241\" y=\"4.199999999999999\" transform=\"translate(0,158.95)\" style=\"font-family: 'Open Sans', verdana, arial, sans-serif; font-size: 12px; fill: rgb(42, 63, 95); fill-opacity: 1; white-space: pre;\">senior data scientist machine learning</text></g><g class=\"ytick\"><text text-anchor=\"end\" x=\"241\" y=\"4.199999999999999\" transform=\"translate(0,142.11)\" style=\"font-family: 'Open Sans', verdana, arial, sans-serif; font-size: 12px; fill: rgb(42, 63, 95); fill-opacity: 1; white-space: pre;\">associate data analyst</text></g><g class=\"ytick\"><text text-anchor=\"end\" x=\"241\" y=\"4.199999999999999\" transform=\"translate(0,125.26)\" style=\"font-family: 'Open Sans', verdana, arial, sans-serif; font-size: 12px; fill: rgb(42, 63, 95); fill-opacity: 1; white-space: pre;\">python developer</text></g><g class=\"ytick\"><text text-anchor=\"end\" x=\"241\" y=\"4.199999999999999\" transform=\"translate(0,108.42)\" style=\"font-family: 'Open Sans', verdana, arial, sans-serif; font-size: 12px; fill: rgb(42, 63, 95); fill-opacity: 1; white-space: pre;\">programme officer</text></g></g><g class=\"overaxes-above\"/></g></g><g class=\"polarlayer\"/><g class=\"ternarylayer\"/><g class=\"geolayer\"/><g class=\"funnelarealayer\"/><g class=\"pielayer\"/><g class=\"treemaplayer\"/><g class=\"sunburstlayer\"/><g class=\"glimages\"/><defs id=\"topdefs-1f1936\"><g class=\"clips\"/><clipPath id=\"legend1f1936\"><rect width=\"177\" height=\"67\" x=\"0\" y=\"0\"/></clipPath></defs><g class=\"layer-above\"><g class=\"imagelayer\"/><g class=\"shapelayer\"/></g><g class=\"infolayer\"><g class=\"legend\" pointer-events=\"all\" transform=\"translate(511,257)\"><rect class=\"bg\" shape-rendering=\"crispEdges\" style=\"stroke: rgb(68, 68, 68); stroke-opacity: 1; fill: rgb(255, 255, 255); fill-opacity: 1; stroke-width: 0px;\" width=\"177\" height=\"67\" x=\"0\" y=\"0\"/><g class=\"scrollbox\" transform=\"\" clip-path=\"url('#legend1f1936')\"><g class=\"groups\"><g class=\"traces\" style=\"opacity: 1;\" transform=\"translate(0,14.5)\"><text class=\"legendtext\" text-anchor=\"start\" x=\"40\" y=\"4.680000000000001\" style=\"font-family: 'Open Sans', verdana, arial, sans-serif; font-size: 12px; fill: rgb(42, 63, 95); fill-opacity: 1; white-space: pre;\">Bengaluru, Karnataka</text><g class=\"layers\" style=\"opacity: 1;\"><g class=\"legendfill\"/><g class=\"legendlines\"/><g class=\"legendsymbols\"><g class=\"legendpoints\"><path class=\"legendundefined\" d=\"M6,6H-6V-6H6Z\" transform=\"translate(20,0)\" style=\"stroke-width: 0.5px; fill: rgb(0, 128, 128); fill-opacity: 1; stroke: rgb(229, 236, 246); stroke-opacity: 1;\"/></g></g></g><rect class=\"legendtoggle\" x=\"0\" y=\"-9.5\" width=\"171.1875\" height=\"19\" style=\"fill: rgb(0, 0, 0); fill-opacity: 0;\"/></g><g class=\"traces\" style=\"opacity: 1;\" transform=\"translate(0,33.5)\"><text class=\"legendtext\" text-anchor=\"start\" x=\"40\" y=\"4.680000000000001\" style=\"font-family: 'Open Sans', verdana, arial, sans-serif; font-size: 12px; fill: rgb(42, 63, 95); fill-opacity: 1; white-space: pre;\">Pune, Maharashtra</text><g class=\"layers\" style=\"opacity: 1;\"><g class=\"legendfill\"/><g class=\"legendlines\"/><g class=\"legendsymbols\"><g class=\"legendpoints\"><path class=\"legendundefined\" d=\"M6,6H-6V-6H6Z\" transform=\"translate(20,0)\" style=\"stroke-width: 0.5px; fill: rgb(0, 206, 209); fill-opacity: 1; stroke: rgb(229, 236, 246); stroke-opacity: 1;\"/></g></g></g><rect class=\"legendtoggle\" x=\"0\" y=\"-9.5\" width=\"171.1875\" height=\"19\" style=\"fill: rgb(0, 0, 0); fill-opacity: 0;\"/></g><g class=\"traces\" style=\"opacity: 1;\" transform=\"translate(0,52.5)\"><text class=\"legendtext\" text-anchor=\"start\" x=\"40\" y=\"4.680000000000001\" style=\"font-family: 'Open Sans', verdana, arial, sans-serif; font-size: 12px; fill: rgb(42, 63, 95); fill-opacity: 1; white-space: pre;\">Mumbai, Maharashtra</text><g class=\"layers\" style=\"opacity: 1;\"><g class=\"legendfill\"/><g class=\"legendlines\"/><g class=\"legendsymbols\"><g class=\"legendpoints\"><path class=\"legendundefined\" d=\"M6,6H-6V-6H6Z\" transform=\"translate(20,0)\" style=\"stroke-width: 0.5px; fill: rgb(70, 3, 159); fill-opacity: 1; stroke: rgb(229, 236, 246); stroke-opacity: 1;\"/></g></g></g><rect class=\"legendtoggle\" x=\"0\" y=\"-9.5\" width=\"171.1875\" height=\"19\" style=\"fill: rgb(0, 0, 0); fill-opacity: 0;\"/></g></g></g><rect class=\"scrollbar\" rx=\"20\" ry=\"3\" width=\"0\" height=\"0\" style=\"fill: rgb(128, 139, 164); fill-opacity: 1;\" x=\"0\" y=\"0\"/></g><g class=\"g-gtitle\"/><g class=\"g-xtitle\"/><g class=\"g-ytitle\"/></g></svg>"
      ],
      "text/plain": [
       "<IPython.core.display.SVG object>"
      ]
     },
     "metadata": {},
     "output_type": "display_data"
    }
   ],
   "source": [
    "fig = go.Figure(  )\n",
    "fig.add_trace(go.Bar(y=df_temp[df_temp['JobLocation'].isin(['Bengaluru, Karnataka'])]['JobTitle'].value_counts().nlargest(n=10).index,\n",
    "                        x=df_temp[df_temp['JobLocation'].isin(['Bengaluru, Karnataka'])]['JobTitle'].value_counts().nlargest(n=10).values,\n",
    "                        marker_color='#008080',\n",
    "                        orientation='h',\n",
    "                        showlegend=True,\n",
    "                        name=\"Bengaluru, Karnataka\"))\n",
    "                \n",
    "\n",
    "fig.add_trace(go.Bar(y=df_temp[df_temp['JobLocation'].isin(['Pune, Maharashtra'])]['JobTitle'].value_counts().nlargest(n=10).index,\n",
    "                        x=df_temp[df_temp['JobLocation'].isin(['Pune, Maharashtra'])]['JobTitle'].value_counts().nlargest(n=10).values,\n",
    "                        marker_color='#00CED1',\n",
    "                        orientation='h',\n",
    "                        showlegend=True,\n",
    "                        name=\"Pune, Maharashtra\"))\n",
    "\n",
    "fig.add_trace(go.Bar(y=df_temp[df_temp['JobLocation'].isin(['Mumbai, Maharashtra'])]['JobTitle'].value_counts().nlargest(n=10).index,\n",
    "                        x=df_temp[df_temp['JobLocation'].isin(['Mumbai, Maharashtra'])]['JobTitle'].value_counts().nlargest(n=10).values,\n",
    "                        marker_color='#46039f',\n",
    "                        orientation='h',\n",
    "                        showlegend=True,\n",
    "                        name=\"Mumbai, Maharashtra\"))                \n",
    "fig.update_layout(legend=dict(x=1,\n",
    "                              y=0.3))\n",
    "#fig.show()\n",
    "img_bytes = pio.to_image(fig, format=\"svg\")\n",
    "display(SVG(img_bytes))\n"
   ]
  },
  {
   "cell_type": "markdown",
   "metadata": {},
   "source": [
    "   "
   ]
  },
  {
   "cell_type": "markdown",
   "metadata": {},
   "source": [
    "When we drill down to the city level,Bengaluru,Pune and mumbai have top job titles like  data scientist,data analyst,data engineer ratio is same comparing to their total jobs available,But Pune and Bengaluru has more opportunity for internship."
   ]
  },
  {
   "cell_type": "markdown",
   "metadata": {},
   "source": [
    "# Thank you !!"
   ]
  },
  {
   "cell_type": "code",
   "execution_count": 24,
   "metadata": {},
   "outputs": [
    {
     "data": {
      "text/plain": [
       "5      Working on data science algorithms and AI conc...\n",
       "6      Working on the presentation of valuable data u...\n",
       "7      These programs help them master data-driven de...\n",
       "8      Selecting appropriate datasets and data repres...\n",
       "9      Preferable Expertise in leveraging capabilitie...\n",
       "                             ...                        \n",
       "900    Prior work experience with urban data and urba...\n",
       "901    Overall experience of 8+ Years on data visuali...\n",
       "902    Uses accounting and financial systems and tool...\n",
       "903                   Do you like to mingle with people?\n",
       "904    Perform variety of in-depth data analysis, dat...\n",
       "Name: Summary, Length: 900, dtype: object"
      ]
     },
     "execution_count": 24,
     "metadata": {},
     "output_type": "execute_result"
    }
   ],
   "source": [
    "df.Summary[5:]"
   ]
  },
  {
   "cell_type": "code",
   "execution_count": 106,
   "metadata": {},
   "outputs": [],
   "source": [
    "from nltk.tokenize import word_tokenize\n",
    "from nltk.probability import FreqDist\n",
    "sent = 'This is an example an is is  an an this sentence sentence sentence '\n",
    "fdist = FreqDist()\n",
    "for word in word_tokenize(sent):\n",
    "    fdist[word.lower()] += 1"
   ]
  },
  {
   "cell_type": "code",
   "execution_count": 127,
   "metadata": {},
   "outputs": [
    {
     "name": "stdout",
     "output_type": "stream",
     "text": [
      "this\n"
     ]
    },
    {
     "ename": "TypeError",
     "evalue": "type list doesn't define __round__ method",
     "output_type": "error",
     "traceback": [
      "\u001b[1;31m---------------------------------------------------------------------------\u001b[0m",
      "\u001b[1;31mTypeError\u001b[0m                                 Traceback (most recent call last)",
      "\u001b[1;32m<ipython-input-127-7573e18f1ddc>\u001b[0m in \u001b[0;36m<module>\u001b[1;34m\u001b[0m\n\u001b[0;32m      4\u001b[0m     \u001b[0mprint\u001b[0m\u001b[1;33m(\u001b[0m\u001b[0mword\u001b[0m\u001b[1;33m)\u001b[0m\u001b[1;33m\u001b[0m\u001b[1;33m\u001b[0m\u001b[0m\n\u001b[0;32m      5\u001b[0m     \u001b[0mnumber\u001b[0m\u001b[1;33m.\u001b[0m\u001b[0mappend\u001b[0m\u001b[1;33m(\u001b[0m\u001b[0mfdist\u001b[0m\u001b[1;33m.\u001b[0m\u001b[0mfreq\u001b[0m\u001b[1;33m(\u001b[0m\u001b[0mword\u001b[0m\u001b[1;33m)\u001b[0m\u001b[1;33m*\u001b[0m\u001b[1;36m13\u001b[0m\u001b[1;33m)\u001b[0m\u001b[1;33m\u001b[0m\u001b[1;33m\u001b[0m\u001b[0m\n\u001b[1;32m----> 6\u001b[1;33m     \u001b[0mround\u001b[0m\u001b[1;33m(\u001b[0m\u001b[0mnumber\u001b[0m\u001b[1;33m)\u001b[0m\u001b[1;33m\u001b[0m\u001b[1;33m\u001b[0m\u001b[0m\n\u001b[0m",
      "\u001b[1;31mTypeError\u001b[0m: type list doesn't define __round__ method"
     ]
    }
   ],
   "source": [
    "number=[]\n",
    "words=['this','is']\n",
    "for word in words:\n",
    "    print(word)\n",
    "    number.append(fdist.freq(word)*13)"
   ]
  },
  {
   "cell_type": "code",
   "execution_count": null,
   "metadata": {},
   "outputs": [],
   "source": []
  },
  {
   "cell_type": "code",
   "execution_count": 110,
   "metadata": {},
   "outputs": [
    {
     "data": {
      "text/plain": [
       "[2.0, 3.0]"
      ]
     },
     "execution_count": 110,
     "metadata": {},
     "output_type": "execute_result"
    }
   ],
   "source": [
    "number"
   ]
  },
  {
   "cell_type": "code",
   "execution_count": 2,
   "metadata": {},
   "outputs": [
    {
     "name": "stderr",
     "output_type": "stream",
     "text": [
      "[nltk_data] Error loading punkt: <urlopen error [Errno 11001]\n",
      "[nltk_data]     getaddrinfo failed>\n"
     ]
    },
    {
     "data": {
      "text/plain": [
       "False"
      ]
     },
     "execution_count": 2,
     "metadata": {},
     "output_type": "execute_result"
    }
   ],
   "source": [
    "import nltk\n",
    "nltk.download('punkt')"
   ]
  },
  {
   "cell_type": "code",
   "execution_count": 173,
   "metadata": {},
   "outputs": [],
   "source": [
    "from nltk.tokenize import word_tokenize\n",
    "from nltk.probability import FreqDist"
   ]
  },
  {
   "cell_type": "markdown",
   "metadata": {},
   "source": [
    "### Lets check Top tools in demand from summary using NLP Techniques"
   ]
  },
  {
   "cell_type": "code",
   "execution_count": 174,
   "metadata": {
    "scrolled": true
   },
   "outputs": [],
   "source": [
    "fdist = FreqDist()\n",
    "summary_word=word_tokenize(' '.join(df_temp['Summary'].to_numpy()))\n",
    "for word in summary_word:\n",
    "    fdist[word.lower()] += 1"
   ]
  },
  {
   "cell_type": "code",
   "execution_count": null,
   "metadata": {},
   "outputs": [],
   "source": []
  },
  {
   "cell_type": "code",
   "execution_count": 175,
   "metadata": {},
   "outputs": [],
   "source": [
    "# got these keywords by looking at some examples and using existing knowledge.\n",
    "tool_keywords1 = ['python', 'pytorch', 'sql', 'excel', 'mxnet', 'mlflow', 'einstein', 'theano', 'pyspark', 'solr', 'mahout', \n",
    " 'cassandra', 'aws', 'powerpoint', 'spark', 'pig', 'sas', 'java', 'nosql', 'docker', 'salesforce', 'scala', 'r',\n",
    " 'c', 'c++', 'net', 'tableau', 'pandas', 'scikitlearn', 'sklearn', 'matlab', 'scala', 'keras', 'tensorflow', 'clojure',\n",
    " 'caffe', 'scipy', 'numpy', 'matplotlib', 'vba', 'spss', 'linux', 'azure', 'cloud', 'gcp', 'mongodb', 'mysql', 'oracle', \n",
    " 'redshift', 'snowflake', 'kafka', 'javascript', 'qlik', 'jupyter', 'perl', 'bigquery', 'unix', 'react',\n",
    " 'scikit', 'powerbi', 's3', 'ec2', 'lambda', 'ssrs', 'kubernetes', 'hana', 'spacy', 'tf', 'django', 'sagemaker',\n",
    " 'seaborn', 'mllib', 'github', 'git', 'elasticsearch', 'splunk', 'airflow', 'looker', 'rapidminer', 'birt', 'pentaho', \n",
    " 'jquery', 'nodejs', 'd3', 'plotly', 'bokeh', 'xgboost', 'rstudio', 'shiny', 'dash', 'h20', 'h2o', 'hadoop', 'mapreduce', \n",
    " 'hive', 'cognos', 'angular', 'nltk', 'flask', 'node', 'firebase', 'bigtable', 'rust', 'php', 'cntk', 'lightgbm', \n",
    " 'kubeflow', 'rpython', 'unixlinux', 'postgressql', 'postgresql', 'postgres', 'hbase', 'dask', 'ruby', 'julia', 'tensor',\n",
    "# added r packages doesn't seem to impact the result\n",
    " 'dplyr','ggplot2','esquisse','bioconductor','shiny','lubridate','knitr','mlr','quanteda','dt','rcrawler','caret','rmarkdown',\n",
    " 'leaflet','janitor','ggvis','plotly','rcharts','rbokeh','broom','stringr','magrittr','slidify','rvest',\n",
    " 'rmysql','rsqlite','prophet','glmnet','text2vec','snowballc','quantmod','rstan','swirl','datasciencer']"
   ]
  },
  {
   "cell_type": "code",
   "execution_count": 176,
   "metadata": {},
   "outputs": [],
   "source": [
    "number=[]\n",
    "for word in tool_keywords1:\n",
    "    number.append(round(fdist.freq(word)*len(summary_word)))"
   ]
  },
  {
   "cell_type": "code",
   "execution_count": 177,
   "metadata": {
    "scrolled": true
   },
   "outputs": [],
   "source": [
    "tools=pd.concat([pd.Series(tool_keywords1),pd.Series(number)],1,keys=['ToolName','Frequency'])\n",
    "tools=tools[tools['Frequency']!=0].sort_values('Frequency',ascending=False)"
   ]
  },
  {
   "cell_type": "code",
   "execution_count": 178,
   "metadata": {
    "scrolled": true
   },
   "outputs": [
    {
     "data": {
      "image/svg+xml": [
       "<svg xmlns=\"http://www.w3.org/2000/svg\" xmlns:xlink=\"http://www.w3.org/1999/xlink\" class=\"main-svg\" width=\"800\" height=\"500\" style=\"\" viewBox=\"0 0 800 500\"><rect x=\"0\" y=\"0\" width=\"800\" height=\"500\" style=\"fill: rgb(255, 255, 255); fill-opacity: 1;\"/><defs id=\"defs-41f1f6\"><g class=\"clips\"><clipPath id=\"clip41f1f6xyplot\" class=\"plotclip\"><rect width=\"640\" height=\"333\"/></clipPath><clipPath class=\"axesclip\" id=\"clip41f1f6x\"><rect x=\"80\" y=\"0\" width=\"640\" height=\"500\"/></clipPath><clipPath class=\"axesclip\" id=\"clip41f1f6y\"><rect x=\"0\" y=\"60\" width=\"800\" height=\"333\"/></clipPath><clipPath class=\"axesclip\" id=\"clip41f1f6xy\"><rect x=\"80\" y=\"60\" width=\"640\" height=\"333\"/></clipPath></g><g class=\"gradients\"/></defs><g class=\"bglayer\"><rect class=\"bg\" x=\"80\" y=\"60\" width=\"640\" height=\"333\" style=\"fill: rgb(229, 236, 246); fill-opacity: 1; stroke-width: 0;\"/></g><g class=\"layer-below\"><g class=\"imagelayer\"/><g class=\"shapelayer\"/></g><g class=\"cartesianlayer\"><g class=\"subplot xy\"><g class=\"layer-subplot\"><g class=\"shapelayer\"/><g class=\"imagelayer\"/></g><g class=\"gridlayer\"><g class=\"x\"/><g class=\"y\"><path class=\"ygrid crisp\" transform=\"translate(0,341.98)\" d=\"M80,0h640\" style=\"stroke: rgb(255, 255, 255); stroke-opacity: 1; stroke-width: 1px;\"/><path class=\"ygrid crisp\" transform=\"translate(0,290.95)\" d=\"M80,0h640\" style=\"stroke: rgb(255, 255, 255); stroke-opacity: 1; stroke-width: 1px;\"/><path class=\"ygrid crisp\" transform=\"translate(0,239.93)\" d=\"M80,0h640\" style=\"stroke: rgb(255, 255, 255); stroke-opacity: 1; stroke-width: 1px;\"/><path class=\"ygrid crisp\" transform=\"translate(0,188.9)\" d=\"M80,0h640\" style=\"stroke: rgb(255, 255, 255); stroke-opacity: 1; stroke-width: 1px;\"/><path class=\"ygrid crisp\" transform=\"translate(0,137.88)\" d=\"M80,0h640\" style=\"stroke: rgb(255, 255, 255); stroke-opacity: 1; stroke-width: 1px;\"/><path class=\"ygrid crisp\" transform=\"translate(0,86.85)\" d=\"M80,0h640\" style=\"stroke: rgb(255, 255, 255); stroke-opacity: 1; stroke-width: 1px;\"/></g></g><g class=\"zerolinelayer\"><path class=\"yzl zl crisp\" transform=\"translate(0,393)\" d=\"M80,0h640\" style=\"stroke: rgb(255, 255, 255); stroke-opacity: 1; stroke-width: 2px;\"/></g><path class=\"xlines-below\"/><path class=\"ylines-below\"/><g class=\"overlines-below\"/><g class=\"xaxislayer-below\"/><g class=\"yaxislayer-below\"/><g class=\"overaxes-below\"/><g class=\"plot\" transform=\"translate(80,60)\" clip-path=\"url('#clip41f1f6xyplot')\"><g class=\"barlayer mlayer\"><g class=\"trace bars\" style=\"opacity: 0.7;\"><g class=\"points\"><g class=\"point\"><path d=\"M2.13,333V16.65H19.2V333Z\" style=\"vector-effect: non-scaling-stroke; opacity: 1; stroke-width: 1.5px; fill: rgb(127, 60, 141); fill-opacity: 1; stroke: rgb(8, 48, 107); stroke-opacity: 1;\"/><text class=\"bartext bartext-outside\" text-anchor=\"middle\" data-notex=\"1\" x=\"0\" y=\"0\" style=\"font-family: 'Open Sans', verdana, arial, sans-serif; font-size: 12px; fill: rgb(42, 63, 95); fill-opacity: 1; white-space: pre;\" transform=\"translate(10.665,10.649999999999999)\">31</text></g></g></g><g class=\"trace bars\" style=\"opacity: 0.7;\"><g class=\"points\"><g class=\"point\"><path d=\"M23.47,333V139.11H40.53V333Z\" style=\"vector-effect: non-scaling-stroke; opacity: 1; stroke-width: 1.5px; fill: rgb(17, 165, 121); fill-opacity: 1; stroke: rgb(8, 48, 107); stroke-opacity: 1;\"/><text class=\"bartext bartext-outside\" text-anchor=\"middle\" data-notex=\"1\" x=\"0\" y=\"0\" style=\"font-family: 'Open Sans', verdana, arial, sans-serif; font-size: 12px; fill: rgb(42, 63, 95); fill-opacity: 1; white-space: pre;\" transform=\"translate(31.8203125,133.11)\">19</text></g></g></g><g class=\"trace bars\" style=\"opacity: 0.7;\"><g class=\"points\"><g class=\"point\"><path d=\"M44.8,333V149.31H61.87V333Z\" style=\"vector-effect: non-scaling-stroke; opacity: 1; stroke-width: 1.5px; fill: rgb(57, 105, 172); fill-opacity: 1; stroke: rgb(8, 48, 107); stroke-opacity: 1;\"/><text class=\"bartext bartext-outside\" text-anchor=\"middle\" data-notex=\"1\" x=\"0\" y=\"0\" style=\"font-family: 'Open Sans', verdana, arial, sans-serif; font-size: 12px; fill: rgb(42, 63, 95); fill-opacity: 1; white-space: pre;\" transform=\"translate(53.155312499999994,143.31)\">18</text></g></g></g><g class=\"trace bars\" style=\"opacity: 0.7;\"><g class=\"points\"><g class=\"point\"><path d=\"M66.13,333V230.95H83.2V333Z\" style=\"vector-effect: non-scaling-stroke; opacity: 1; stroke-width: 1.5px; fill: rgb(242, 183, 1); fill-opacity: 1; stroke: rgb(8, 48, 107); stroke-opacity: 1;\"/><text class=\"bartext bartext-outside\" text-anchor=\"middle\" data-notex=\"1\" x=\"0\" y=\"0\" style=\"font-family: 'Open Sans', verdana, arial, sans-serif; font-size: 12px; fill: rgb(42, 63, 95); fill-opacity: 1; white-space: pre;\" transform=\"translate(74.48531249999999,224.95)\">10</text></g></g></g><g class=\"trace bars\" style=\"opacity: 0.7;\"><g class=\"points\"><g class=\"point\"><path d=\"M87.47,333V241.16H104.53V333Z\" style=\"vector-effect: non-scaling-stroke; opacity: 1; stroke-width: 1.5px; fill: rgb(231, 63, 116); fill-opacity: 1; stroke: rgb(8, 48, 107); stroke-opacity: 1;\"/><text class=\"bartext bartext-outside\" text-anchor=\"middle\" data-notex=\"1\" x=\"0\" y=\"0\" style=\"font-family: 'Open Sans', verdana, arial, sans-serif; font-size: 12px; fill: rgb(42, 63, 95); fill-opacity: 1; white-space: pre;\" transform=\"translate(95.8400625,235.601)scale(0.8530000000000001)\">9.0</text></g></g></g><g class=\"trace bars\" style=\"opacity: 0.7;\"><g class=\"points\"><g class=\"point\"><path d=\"M108.8,333V241.16H125.87V333Z\" style=\"vector-effect: non-scaling-stroke; opacity: 1; stroke-width: 1.5px; fill: rgb(128, 186, 90); fill-opacity: 1; stroke: rgb(8, 48, 107); stroke-opacity: 1;\"/><text class=\"bartext bartext-outside\" text-anchor=\"middle\" data-notex=\"1\" x=\"0\" y=\"0\" style=\"font-family: 'Open Sans', verdana, arial, sans-serif; font-size: 12px; fill: rgb(42, 63, 95); fill-opacity: 1; white-space: pre;\" transform=\"translate(117.17496875,235.5995)scale(0.8535000000000004)\">9.0</text></g></g></g><g class=\"trace bars\" style=\"opacity: 0.7;\"><g class=\"points\"><g class=\"point\"><path d=\"M130.13,333V281.98H147.2V333Z\" style=\"vector-effect: non-scaling-stroke; opacity: 1; stroke-width: 1.5px; fill: rgb(230, 131, 16); fill-opacity: 1; stroke: rgb(8, 48, 107); stroke-opacity: 1;\"/><text class=\"bartext bartext-outside\" text-anchor=\"middle\" data-notex=\"1\" x=\"0\" y=\"0\" style=\"font-family: 'Open Sans', verdana, arial, sans-serif; font-size: 12px; fill: rgb(42, 63, 95); fill-opacity: 1; white-space: pre;\" transform=\"translate(138.50496875,276.4195)scale(0.8534999999999997)\">5.0</text></g></g></g><g class=\"trace bars\" style=\"opacity: 0.7;\"><g class=\"points\"><g class=\"point\"><path d=\"M151.47,333V281.98H168.53V333Z\" style=\"vector-effect: non-scaling-stroke; opacity: 1; stroke-width: 1.5px; fill: rgb(0, 134, 149); fill-opacity: 1; stroke: rgb(8, 48, 107); stroke-opacity: 1;\"/><text class=\"bartext bartext-outside\" text-anchor=\"middle\" data-notex=\"1\" x=\"0\" y=\"0\" style=\"font-family: 'Open Sans', verdana, arial, sans-serif; font-size: 12px; fill: rgb(42, 63, 95); fill-opacity: 1; white-space: pre;\" transform=\"translate(159.8400625,276.421)scale(0.8530000000000001)\">5.0</text></g></g></g><g class=\"trace bars\" style=\"opacity: 0.7;\"><g class=\"points\"><g class=\"point\"><path d=\"M172.8,333V281.98H189.87V333Z\" style=\"vector-effect: non-scaling-stroke; opacity: 1; stroke-width: 1.5px; fill: rgb(207, 28, 144); fill-opacity: 1; stroke: rgb(8, 48, 107); stroke-opacity: 1;\"/><text class=\"bartext bartext-outside\" text-anchor=\"middle\" data-notex=\"1\" x=\"0\" y=\"0\" style=\"font-family: 'Open Sans', verdana, arial, sans-serif; font-size: 12px; fill: rgb(42, 63, 95); fill-opacity: 1; white-space: pre;\" transform=\"translate(181.17496875,276.4195)scale(0.8534999999999997)\">5.0</text></g></g></g><g class=\"trace bars\" style=\"opacity: 0.7;\"><g class=\"points\"><g class=\"point\"><path d=\"M194.13,333V292.18H211.2V333Z\" style=\"vector-effect: non-scaling-stroke; opacity: 1; stroke-width: 1.5px; fill: rgb(249, 123, 114); fill-opacity: 1; stroke: rgb(8, 48, 107); stroke-opacity: 1;\"/><text class=\"bartext bartext-outside\" text-anchor=\"middle\" data-notex=\"1\" x=\"0\" y=\"0\" style=\"font-family: 'Open Sans', verdana, arial, sans-serif; font-size: 12px; fill: rgb(42, 63, 95); fill-opacity: 1; white-space: pre;\" transform=\"translate(202.50496875,286.6195)scale(0.8534999999999997)\">4.0</text></g></g></g><g class=\"trace bars\" style=\"opacity: 0.7;\"><g class=\"points\"><g class=\"point\"><path d=\"M215.47,333V292.18H232.53V333Z\" style=\"vector-effect: non-scaling-stroke; opacity: 1; stroke-width: 1.5px; fill: rgb(165, 170, 153); fill-opacity: 1; stroke: rgb(8, 48, 107); stroke-opacity: 1;\"/><text class=\"bartext bartext-outside\" text-anchor=\"middle\" data-notex=\"1\" x=\"0\" y=\"0\" style=\"font-family: 'Open Sans', verdana, arial, sans-serif; font-size: 12px; fill: rgb(42, 63, 95); fill-opacity: 1; white-space: pre;\" transform=\"translate(223.8400625,286.621)scale(0.8530000000000001)\">4.0</text></g></g></g><g class=\"trace bars\" style=\"opacity: 0.7;\"><g class=\"points\"><g class=\"point\"><path d=\"M236.8,333V292.18H253.87V333Z\" style=\"vector-effect: non-scaling-stroke; opacity: 1; stroke-width: 1.5px; fill: rgb(127, 60, 141); fill-opacity: 1; stroke: rgb(8, 48, 107); stroke-opacity: 1;\"/><text class=\"bartext bartext-outside\" text-anchor=\"middle\" data-notex=\"1\" x=\"0\" y=\"0\" style=\"font-family: 'Open Sans', verdana, arial, sans-serif; font-size: 12px; fill: rgb(42, 63, 95); fill-opacity: 1; white-space: pre;\" transform=\"translate(245.17496875,286.6195)scale(0.8534999999999997)\">4.0</text></g></g></g><g class=\"trace bars\" style=\"opacity: 0.7;\"><g class=\"points\"><g class=\"point\"><path d=\"M258.13,333V292.18H275.2V333Z\" style=\"vector-effect: non-scaling-stroke; opacity: 1; stroke-width: 1.5px; fill: rgb(17, 165, 121); fill-opacity: 1; stroke: rgb(8, 48, 107); stroke-opacity: 1;\"/><text class=\"bartext bartext-outside\" text-anchor=\"middle\" data-notex=\"1\" x=\"0\" y=\"0\" style=\"font-family: 'Open Sans', verdana, arial, sans-serif; font-size: 12px; fill: rgb(42, 63, 95); fill-opacity: 1; white-space: pre;\" transform=\"translate(266.50496875,286.6195)scale(0.8534999999999997)\">4.0</text></g></g></g><g class=\"trace bars\" style=\"opacity: 0.7;\"><g class=\"points\"><g class=\"point\"><path d=\"M279.47,333V302.39H296.53V333Z\" style=\"vector-effect: non-scaling-stroke; opacity: 1; stroke-width: 1.5px; fill: rgb(57, 105, 172); fill-opacity: 1; stroke: rgb(8, 48, 107); stroke-opacity: 1;\"/><text class=\"bartext bartext-outside\" text-anchor=\"middle\" data-notex=\"1\" x=\"0\" y=\"0\" style=\"font-family: 'Open Sans', verdana, arial, sans-serif; font-size: 12px; fill: rgb(42, 63, 95); fill-opacity: 1; white-space: pre;\" transform=\"translate(287.8400625,296.831)scale(0.8529999999999973)\">3.0</text></g></g></g><g class=\"trace bars\" style=\"opacity: 0.7;\"><g class=\"points\"><g class=\"point\"><path d=\"M300.8,333V312.59H317.87V333Z\" style=\"vector-effect: non-scaling-stroke; opacity: 1; stroke-width: 1.5px; fill: rgb(242, 183, 1); fill-opacity: 1; stroke: rgb(8, 48, 107); stroke-opacity: 1;\"/><text class=\"bartext bartext-outside\" text-anchor=\"middle\" data-notex=\"1\" x=\"0\" y=\"0\" style=\"font-family: 'Open Sans', verdana, arial, sans-serif; font-size: 12px; fill: rgb(42, 63, 95); fill-opacity: 1; white-space: pre;\" transform=\"translate(309.17496875000006,307.0295)scale(0.8534999999999997)\">2.0</text></g></g></g><g class=\"trace bars\" style=\"opacity: 0.7;\"><g class=\"points\"><g class=\"point\"><path d=\"M322.13,333V312.59H339.2V333Z\" style=\"vector-effect: non-scaling-stroke; opacity: 1; stroke-width: 1.5px; fill: rgb(231, 63, 116); fill-opacity: 1; stroke: rgb(8, 48, 107); stroke-opacity: 1;\"/><text class=\"bartext bartext-outside\" text-anchor=\"middle\" data-notex=\"1\" x=\"0\" y=\"0\" style=\"font-family: 'Open Sans', verdana, arial, sans-serif; font-size: 12px; fill: rgb(42, 63, 95); fill-opacity: 1; white-space: pre;\" transform=\"translate(330.50496875,307.0295)scale(0.8534999999999997)\">2.0</text></g></g></g><g class=\"trace bars\" style=\"opacity: 0.7;\"><g class=\"points\"><g class=\"point\"><path d=\"M343.47,333V312.59H360.53V333Z\" style=\"vector-effect: non-scaling-stroke; opacity: 1; stroke-width: 1.5px; fill: rgb(128, 186, 90); fill-opacity: 1; stroke: rgb(8, 48, 107); stroke-opacity: 1;\"/><text class=\"bartext bartext-outside\" text-anchor=\"middle\" data-notex=\"1\" x=\"0\" y=\"0\" style=\"font-family: 'Open Sans', verdana, arial, sans-serif; font-size: 12px; fill: rgb(42, 63, 95); fill-opacity: 1; white-space: pre;\" transform=\"translate(351.8400625,307.031)scale(0.8529999999999973)\">2.0</text></g></g></g><g class=\"trace bars\" style=\"opacity: 0.7;\"><g class=\"points\"><g class=\"point\"><path d=\"M364.8,333V312.59H381.87V333Z\" style=\"vector-effect: non-scaling-stroke; opacity: 1; stroke-width: 1.5px; fill: rgb(230, 131, 16); fill-opacity: 1; stroke: rgb(8, 48, 107); stroke-opacity: 1;\"/><text class=\"bartext bartext-outside\" text-anchor=\"middle\" data-notex=\"1\" x=\"0\" y=\"0\" style=\"font-family: 'Open Sans', verdana, arial, sans-serif; font-size: 12px; fill: rgb(42, 63, 95); fill-opacity: 1; white-space: pre;\" transform=\"translate(373.17496875000006,307.0295)scale(0.8534999999999997)\">2.0</text></g></g></g><g class=\"trace bars\" style=\"opacity: 0.7;\"><g class=\"points\"><g class=\"point\"><path d=\"M386.13,333V312.59H403.2V333Z\" style=\"vector-effect: non-scaling-stroke; opacity: 1; stroke-width: 1.5px; fill: rgb(0, 134, 149); fill-opacity: 1; stroke: rgb(8, 48, 107); stroke-opacity: 1;\"/><text class=\"bartext bartext-outside\" text-anchor=\"middle\" data-notex=\"1\" x=\"0\" y=\"0\" style=\"font-family: 'Open Sans', verdana, arial, sans-serif; font-size: 12px; fill: rgb(42, 63, 95); fill-opacity: 1; white-space: pre;\" transform=\"translate(394.50496875,307.0295)scale(0.8534999999999997)\">2.0</text></g></g></g><g class=\"trace bars\" style=\"opacity: 0.7;\"><g class=\"points\"><g class=\"point\"><path d=\"M407.47,333V312.59H424.53V333Z\" style=\"vector-effect: non-scaling-stroke; opacity: 1; stroke-width: 1.5px; fill: rgb(207, 28, 144); fill-opacity: 1; stroke: rgb(8, 48, 107); stroke-opacity: 1;\"/><text class=\"bartext bartext-outside\" text-anchor=\"middle\" data-notex=\"1\" x=\"0\" y=\"0\" style=\"font-family: 'Open Sans', verdana, arial, sans-serif; font-size: 12px; fill: rgb(42, 63, 95); fill-opacity: 1; white-space: pre;\" transform=\"translate(415.8400625,307.031)scale(0.8529999999999973)\">2.0</text></g></g></g><g class=\"trace bars\" style=\"opacity: 0.7;\"><g class=\"points\"><g class=\"point\"><path d=\"M428.8,333V312.59H445.87V333Z\" style=\"vector-effect: non-scaling-stroke; opacity: 1; stroke-width: 1.5px; fill: rgb(249, 123, 114); fill-opacity: 1; stroke: rgb(8, 48, 107); stroke-opacity: 1;\"/><text class=\"bartext bartext-outside\" text-anchor=\"middle\" data-notex=\"1\" x=\"0\" y=\"0\" style=\"font-family: 'Open Sans', verdana, arial, sans-serif; font-size: 12px; fill: rgb(42, 63, 95); fill-opacity: 1; white-space: pre;\" transform=\"translate(437.17496875000006,307.0295)scale(0.8534999999999997)\">2.0</text></g></g></g><g class=\"trace bars\" style=\"opacity: 0.7;\"><g class=\"points\"><g class=\"point\"><path d=\"M450.13,333V322.8H467.2V333Z\" style=\"vector-effect: non-scaling-stroke; opacity: 1; stroke-width: 1.5px; fill: rgb(165, 170, 153); fill-opacity: 1; stroke: rgb(8, 48, 107); stroke-opacity: 1;\"/><text class=\"bartext bartext-outside\" text-anchor=\"middle\" data-notex=\"1\" x=\"0\" y=\"0\" style=\"font-family: 'Open Sans', verdana, arial, sans-serif; font-size: 12px; fill: rgb(42, 63, 95); fill-opacity: 1; white-space: pre;\" transform=\"translate(458.50496875,317.2395)scale(0.8534999999999997)\">1.0</text></g></g></g><g class=\"trace bars\" style=\"opacity: 0.7;\"><g class=\"points\"><g class=\"point\"><path d=\"M471.47,333V322.8H488.53V333Z\" style=\"vector-effect: non-scaling-stroke; opacity: 1; stroke-width: 1.5px; fill: rgb(127, 60, 141); fill-opacity: 1; stroke: rgb(8, 48, 107); stroke-opacity: 1;\"/><text class=\"bartext bartext-outside\" text-anchor=\"middle\" data-notex=\"1\" x=\"0\" y=\"0\" style=\"font-family: 'Open Sans', verdana, arial, sans-serif; font-size: 12px; fill: rgb(42, 63, 95); fill-opacity: 1; white-space: pre;\" transform=\"translate(479.8400625,317.24100000000004)scale(0.8529999999999973)\">1.0</text></g></g></g><g class=\"trace bars\" style=\"opacity: 0.7;\"><g class=\"points\"><g class=\"point\"><path d=\"M492.8,333V322.8H509.87V333Z\" style=\"vector-effect: non-scaling-stroke; opacity: 1; stroke-width: 1.5px; fill: rgb(17, 165, 121); fill-opacity: 1; stroke: rgb(8, 48, 107); stroke-opacity: 1;\"/><text class=\"bartext bartext-outside\" text-anchor=\"middle\" data-notex=\"1\" x=\"0\" y=\"0\" style=\"font-family: 'Open Sans', verdana, arial, sans-serif; font-size: 12px; fill: rgb(42, 63, 95); fill-opacity: 1; white-space: pre;\" transform=\"translate(501.17496875000006,317.2395)scale(0.8534999999999997)\">1.0</text></g></g></g><g class=\"trace bars\" style=\"opacity: 0.7;\"><g class=\"points\"><g class=\"point\"><path d=\"M514.13,333V322.8H531.2V333Z\" style=\"vector-effect: non-scaling-stroke; opacity: 1; stroke-width: 1.5px; fill: rgb(57, 105, 172); fill-opacity: 1; stroke: rgb(8, 48, 107); stroke-opacity: 1;\"/><text class=\"bartext bartext-inside\" text-anchor=\"middle\" data-notex=\"1\" x=\"0\" y=\"0\" style=\"font-family: 'Open Sans', verdana, arial, sans-serif; font-size: 12px; fill: rgb(255, 255, 255); fill-opacity: 1; white-space: pre;\" transform=\"translate(522.6125,329.16)scale(0.27999999999999925)\">1.0</text></g><g class=\"point\"><path d=\"M514.13,322.8V312.59H531.2V322.8Z\" style=\"vector-effect: non-scaling-stroke; opacity: 1; stroke-width: 1.5px; fill: rgb(57, 105, 172); fill-opacity: 1; stroke: rgb(8, 48, 107); stroke-opacity: 1;\"/><text class=\"bartext bartext-outside\" text-anchor=\"middle\" data-notex=\"1\" x=\"0\" y=\"0\" style=\"font-family: 'Open Sans', verdana, arial, sans-serif; font-size: 12px; fill: rgb(42, 63, 95); fill-opacity: 1; white-space: pre;\" transform=\"translate(522.50496875,307.0295)scale(0.8535000000000025)\">1.0</text></g></g></g><g class=\"trace bars\" style=\"opacity: 0.7;\"><g class=\"points\"><g class=\"point\"><path d=\"M535.47,333V322.8H552.53V333Z\" style=\"vector-effect: non-scaling-stroke; opacity: 1; stroke-width: 1.5px; fill: rgb(242, 183, 1); fill-opacity: 1; stroke: rgb(8, 48, 107); stroke-opacity: 1;\"/><text class=\"bartext bartext-outside\" text-anchor=\"middle\" data-notex=\"1\" x=\"0\" y=\"0\" style=\"font-family: 'Open Sans', verdana, arial, sans-serif; font-size: 12px; fill: rgb(42, 63, 95); fill-opacity: 1; white-space: pre;\" transform=\"translate(543.8400625,317.24100000000004)scale(0.8529999999999973)\">1.0</text></g></g></g><g class=\"trace bars\" style=\"opacity: 0.7;\"><g class=\"points\"><g class=\"point\"><path d=\"M556.8,333V322.8H573.87V333Z\" style=\"vector-effect: non-scaling-stroke; opacity: 1; stroke-width: 1.5px; fill: rgb(231, 63, 116); fill-opacity: 1; stroke: rgb(8, 48, 107); stroke-opacity: 1;\"/><text class=\"bartext bartext-outside\" text-anchor=\"middle\" data-notex=\"1\" x=\"0\" y=\"0\" style=\"font-family: 'Open Sans', verdana, arial, sans-serif; font-size: 12px; fill: rgb(42, 63, 95); fill-opacity: 1; white-space: pre;\" transform=\"translate(565.1749687500001,317.2395)scale(0.8535000000000025)\">1.0</text></g></g></g><g class=\"trace bars\" style=\"opacity: 0.7;\"><g class=\"points\"><g class=\"point\"><path d=\"M578.13,333V322.8H595.2V333Z\" style=\"vector-effect: non-scaling-stroke; opacity: 1; stroke-width: 1.5px; fill: rgb(128, 186, 90); fill-opacity: 1; stroke: rgb(8, 48, 107); stroke-opacity: 1;\"/><text class=\"bartext bartext-outside\" text-anchor=\"middle\" data-notex=\"1\" x=\"0\" y=\"0\" style=\"font-family: 'Open Sans', verdana, arial, sans-serif; font-size: 12px; fill: rgb(42, 63, 95); fill-opacity: 1; white-space: pre;\" transform=\"translate(586.50496875,317.2395)scale(0.8535000000000025)\">1.0</text></g></g></g><g class=\"trace bars\" style=\"opacity: 0.7;\"><g class=\"points\"><g class=\"point\"><path d=\"M599.47,333V322.8H616.53V333Z\" style=\"vector-effect: non-scaling-stroke; opacity: 1; stroke-width: 1.5px; fill: rgb(230, 131, 16); fill-opacity: 1; stroke: rgb(8, 48, 107); stroke-opacity: 1;\"/><text class=\"bartext bartext-outside\" text-anchor=\"middle\" data-notex=\"1\" x=\"0\" y=\"0\" style=\"font-family: 'Open Sans', verdana, arial, sans-serif; font-size: 12px; fill: rgb(42, 63, 95); fill-opacity: 1; white-space: pre;\" transform=\"translate(607.8400625,317.24100000000004)scale(0.8529999999999973)\">1.0</text></g></g></g><g class=\"trace bars\" style=\"opacity: 0.7;\"><g class=\"points\"><g class=\"point\"><path d=\"M620.8,333V322.8H637.87V333Z\" style=\"vector-effect: non-scaling-stroke; opacity: 1; stroke-width: 1.5px; fill: rgb(0, 134, 149); fill-opacity: 1; stroke: rgb(8, 48, 107); stroke-opacity: 1;\"/><text class=\"bartext bartext-outside\" text-anchor=\"middle\" data-notex=\"1\" x=\"0\" y=\"0\" style=\"font-family: 'Open Sans', verdana, arial, sans-serif; font-size: 12px; fill: rgb(42, 63, 95); fill-opacity: 1; white-space: pre;\" transform=\"translate(629.1749687500001,317.2395)scale(0.8535000000000025)\">1.0</text></g></g></g></g></g><g class=\"overplot\"/><path class=\"xlines-above crisp\" d=\"M0,0\" style=\"fill: none;\"/><path class=\"ylines-above crisp\" d=\"M0,0\" style=\"fill: none;\"/><g class=\"overlines-above\"/><g class=\"xaxislayer-above\"><g class=\"xtick\"><text text-anchor=\"start\" x=\"0\" y=\"406\" transform=\"translate(90.67,0) rotate(90,0,400)\" style=\"font-family: 'Open Sans', verdana, arial, sans-serif; font-size: 12px; fill: rgb(42, 63, 95); fill-opacity: 1; white-space: pre;\">python</text></g><g class=\"xtick\"><text text-anchor=\"start\" x=\"0\" y=\"406\" transform=\"translate(112,0) rotate(90,0,400)\" style=\"font-family: 'Open Sans', verdana, arial, sans-serif; font-size: 12px; fill: rgb(42, 63, 95); fill-opacity: 1; white-space: pre;\">r</text></g><g class=\"xtick\"><text text-anchor=\"start\" x=\"0\" y=\"406\" transform=\"translate(133.32999999999998,0) rotate(90,0,400)\" style=\"font-family: 'Open Sans', verdana, arial, sans-serif; font-size: 12px; fill: rgb(42, 63, 95); fill-opacity: 1; white-space: pre;\">sql</text></g><g class=\"xtick\"><text text-anchor=\"start\" x=\"0\" y=\"406\" transform=\"translate(154.67000000000002,0) rotate(90,0,400)\" style=\"font-family: 'Open Sans', verdana, arial, sans-serif; font-size: 12px; fill: rgb(42, 63, 95); fill-opacity: 1; white-space: pre;\">cloud</text></g><g class=\"xtick\"><text text-anchor=\"start\" x=\"0\" y=\"406\" transform=\"translate(176,0) rotate(90,0,400)\" style=\"font-family: 'Open Sans', verdana, arial, sans-serif; font-size: 12px; fill: rgb(42, 63, 95); fill-opacity: 1; white-space: pre;\">numpy</text></g><g class=\"xtick\"><text text-anchor=\"start\" x=\"0\" y=\"406\" transform=\"translate(197.32999999999998,0) rotate(90,0,400)\" style=\"font-family: 'Open Sans', verdana, arial, sans-serif; font-size: 12px; fill: rgb(42, 63, 95); fill-opacity: 1; white-space: pre;\">matlab</text></g><g class=\"xtick\"><text text-anchor=\"start\" x=\"0\" y=\"406\" transform=\"translate(218.67,0) rotate(90,0,400)\" style=\"font-family: 'Open Sans', verdana, arial, sans-serif; font-size: 12px; fill: rgb(42, 63, 95); fill-opacity: 1; white-space: pre;\">java</text></g><g class=\"xtick\"><text text-anchor=\"start\" x=\"0\" y=\"406\" transform=\"translate(240,0) rotate(90,0,400)\" style=\"font-family: 'Open Sans', verdana, arial, sans-serif; font-size: 12px; fill: rgb(42, 63, 95); fill-opacity: 1; white-space: pre;\">tableau</text></g><g class=\"xtick\"><text text-anchor=\"start\" x=\"0\" y=\"406\" transform=\"translate(261.33000000000004,0) rotate(90,0,400)\" style=\"font-family: 'Open Sans', verdana, arial, sans-serif; font-size: 12px; fill: rgb(42, 63, 95); fill-opacity: 1; white-space: pre;\">pandas</text></g><g class=\"xtick\"><text text-anchor=\"start\" x=\"0\" y=\"406\" transform=\"translate(282.66999999999996,0) rotate(90,0,400)\" style=\"font-family: 'Open Sans', verdana, arial, sans-serif; font-size: 12px; fill: rgb(42, 63, 95); fill-opacity: 1; white-space: pre;\">spark</text></g><g class=\"xtick\"><text text-anchor=\"start\" x=\"0\" y=\"406\" transform=\"translate(304,0) rotate(90,0,400)\" style=\"font-family: 'Open Sans', verdana, arial, sans-serif; font-size: 12px; fill: rgb(42, 63, 95); fill-opacity: 1; white-space: pre;\">pytorch</text></g><g class=\"xtick\"><text text-anchor=\"start\" x=\"0\" y=\"406\" transform=\"translate(325.33000000000004,0) rotate(90,0,400)\" style=\"font-family: 'Open Sans', verdana, arial, sans-serif; font-size: 12px; fill: rgb(42, 63, 95); fill-opacity: 1; white-space: pre;\">excel</text></g><g class=\"xtick\"><text text-anchor=\"start\" x=\"0\" y=\"406\" transform=\"translate(346.67,0) rotate(90,0,400)\" style=\"font-family: 'Open Sans', verdana, arial, sans-serif; font-size: 12px; fill: rgb(42, 63, 95); fill-opacity: 1; white-space: pre;\">hadoop</text></g><g class=\"xtick\"><text text-anchor=\"start\" x=\"0\" y=\"406\" transform=\"translate(368,0) rotate(90,0,400)\" style=\"font-family: 'Open Sans', verdana, arial, sans-serif; font-size: 12px; fill: rgb(42, 63, 95); fill-opacity: 1; white-space: pre;\">aws</text></g><g class=\"xtick\"><text text-anchor=\"start\" x=\"0\" y=\"406\" transform=\"translate(389.33,0) rotate(90,0,400)\" style=\"font-family: 'Open Sans', verdana, arial, sans-serif; font-size: 12px; fill: rgb(42, 63, 95); fill-opacity: 1; white-space: pre;\">jupyter</text></g><g class=\"xtick\"><text text-anchor=\"start\" x=\"0\" y=\"406\" transform=\"translate(410.67,0) rotate(90,0,400)\" style=\"font-family: 'Open Sans', verdana, arial, sans-serif; font-size: 12px; fill: rgb(42, 63, 95); fill-opacity: 1; white-space: pre;\">c</text></g><g class=\"xtick\"><text text-anchor=\"start\" x=\"0\" y=\"406\" transform=\"translate(432,0) rotate(90,0,400)\" style=\"font-family: 'Open Sans', verdana, arial, sans-serif; font-size: 12px; fill: rgb(42, 63, 95); fill-opacity: 1; white-space: pre;\">c++</text></g><g class=\"xtick\"><text text-anchor=\"start\" x=\"0\" y=\"406\" transform=\"translate(453.33,0) rotate(90,0,400)\" style=\"font-family: 'Open Sans', verdana, arial, sans-serif; font-size: 12px; fill: rgb(42, 63, 95); fill-opacity: 1; white-space: pre;\">tensorflow</text></g><g class=\"xtick\"><text text-anchor=\"start\" x=\"0\" y=\"406\" transform=\"translate(474.67,0) rotate(90,0,400)\" style=\"font-family: 'Open Sans', verdana, arial, sans-serif; font-size: 12px; fill: rgb(42, 63, 95); fill-opacity: 1; white-space: pre;\">scipy</text></g><g class=\"xtick\"><text text-anchor=\"start\" x=\"0\" y=\"406\" transform=\"translate(496,0) rotate(90,0,400)\" style=\"font-family: 'Open Sans', verdana, arial, sans-serif; font-size: 12px; fill: rgb(42, 63, 95); fill-opacity: 1; white-space: pre;\">pyspark</text></g><g class=\"xtick\"><text text-anchor=\"start\" x=\"0\" y=\"406\" transform=\"translate(517.3299999999999,0) rotate(90,0,400)\" style=\"font-family: 'Open Sans', verdana, arial, sans-serif; font-size: 12px; fill: rgb(42, 63, 95); fill-opacity: 1; white-space: pre;\">azure</text></g><g class=\"xtick\"><text text-anchor=\"start\" x=\"0\" y=\"406\" transform=\"translate(538.6700000000001,0) rotate(90,0,400)\" style=\"font-family: 'Open Sans', verdana, arial, sans-serif; font-size: 12px; fill: rgb(42, 63, 95); fill-opacity: 1; white-space: pre;\">sas</text></g><g class=\"xtick\"><text text-anchor=\"start\" x=\"0\" y=\"406\" transform=\"translate(560,0) rotate(90,0,400)\" style=\"font-family: 'Open Sans', verdana, arial, sans-serif; font-size: 12px; fill: rgb(42, 63, 95); fill-opacity: 1; white-space: pre;\">hbase</text></g><g class=\"xtick\"><text text-anchor=\"start\" x=\"0\" y=\"406\" transform=\"translate(581.3299999999999,0) rotate(90,0,400)\" style=\"font-family: 'Open Sans', verdana, arial, sans-serif; font-size: 12px; fill: rgb(42, 63, 95); fill-opacity: 1; white-space: pre;\">hive</text></g><g class=\"xtick\"><text text-anchor=\"start\" x=\"0\" y=\"406\" transform=\"translate(602.67,0) rotate(90,0,400)\" style=\"font-family: 'Open Sans', verdana, arial, sans-serif; font-size: 12px; fill: rgb(42, 63, 95); fill-opacity: 1; white-space: pre;\">shiny</text></g><g class=\"xtick\"><text text-anchor=\"start\" x=\"0\" y=\"406\" transform=\"translate(624,0) rotate(90,0,400)\" style=\"font-family: 'Open Sans', verdana, arial, sans-serif; font-size: 12px; fill: rgb(42, 63, 95); fill-opacity: 1; white-space: pre;\">spss</text></g><g class=\"xtick\"><text text-anchor=\"start\" x=\"0\" y=\"406\" transform=\"translate(645.33,0) rotate(90,0,400)\" style=\"font-family: 'Open Sans', verdana, arial, sans-serif; font-size: 12px; fill: rgb(42, 63, 95); fill-opacity: 1; white-space: pre;\">kafka</text></g><g class=\"xtick\"><text text-anchor=\"start\" x=\"0\" y=\"406\" transform=\"translate(666.67,0) rotate(90,0,400)\" style=\"font-family: 'Open Sans', verdana, arial, sans-serif; font-size: 12px; fill: rgb(42, 63, 95); fill-opacity: 1; white-space: pre;\">mongodb</text></g><g class=\"xtick\"><text text-anchor=\"start\" x=\"0\" y=\"406\" transform=\"translate(688,0) rotate(90,0,400)\" style=\"font-family: 'Open Sans', verdana, arial, sans-serif; font-size: 12px; fill: rgb(42, 63, 95); fill-opacity: 1; white-space: pre;\">salesforce</text></g><g class=\"xtick\"><text text-anchor=\"start\" x=\"0\" y=\"406\" transform=\"translate(709.33,0) rotate(90,0,400)\" style=\"font-family: 'Open Sans', verdana, arial, sans-serif; font-size: 12px; fill: rgb(42, 63, 95); fill-opacity: 1; white-space: pre;\">cassandra</text></g></g><g class=\"yaxislayer-above\"><g class=\"ytick\"><text text-anchor=\"end\" x=\"79\" y=\"4.199999999999999\" transform=\"translate(0,393)\" style=\"font-family: 'Open Sans', verdana, arial, sans-serif; font-size: 12px; fill: rgb(42, 63, 95); fill-opacity: 1; white-space: pre;\">0</text></g><g class=\"ytick\"><text text-anchor=\"end\" x=\"79\" y=\"4.199999999999999\" transform=\"translate(0,341.98)\" style=\"font-family: 'Open Sans', verdana, arial, sans-serif; font-size: 12px; fill: rgb(42, 63, 95); fill-opacity: 1; white-space: pre;\">5</text></g><g class=\"ytick\"><text text-anchor=\"end\" x=\"79\" y=\"4.199999999999999\" transform=\"translate(0,290.95)\" style=\"font-family: 'Open Sans', verdana, arial, sans-serif; font-size: 12px; fill: rgb(42, 63, 95); fill-opacity: 1; white-space: pre;\">10</text></g><g class=\"ytick\"><text text-anchor=\"end\" x=\"79\" y=\"4.199999999999999\" transform=\"translate(0,239.93)\" style=\"font-family: 'Open Sans', verdana, arial, sans-serif; font-size: 12px; fill: rgb(42, 63, 95); fill-opacity: 1; white-space: pre;\">15</text></g><g class=\"ytick\"><text text-anchor=\"end\" x=\"79\" y=\"4.199999999999999\" transform=\"translate(0,188.9)\" style=\"font-family: 'Open Sans', verdana, arial, sans-serif; font-size: 12px; fill: rgb(42, 63, 95); fill-opacity: 1; white-space: pre;\">20</text></g><g class=\"ytick\"><text text-anchor=\"end\" x=\"79\" y=\"4.199999999999999\" transform=\"translate(0,137.88)\" style=\"font-family: 'Open Sans', verdana, arial, sans-serif; font-size: 12px; fill: rgb(42, 63, 95); fill-opacity: 1; white-space: pre;\">25</text></g><g class=\"ytick\"><text text-anchor=\"end\" x=\"79\" y=\"4.199999999999999\" transform=\"translate(0,86.85)\" style=\"font-family: 'Open Sans', verdana, arial, sans-serif; font-size: 12px; fill: rgb(42, 63, 95); fill-opacity: 1; white-space: pre;\">30</text></g></g><g class=\"overaxes-above\"/></g></g><g class=\"polarlayer\"/><g class=\"ternarylayer\"/><g class=\"geolayer\"/><g class=\"funnelarealayer\"/><g class=\"pielayer\"/><g class=\"treemaplayer\"/><g class=\"sunburstlayer\"/><g class=\"glimages\"/><defs id=\"topdefs-41f1f6\"><g class=\"clips\"/></defs><g class=\"layer-above\"><g class=\"imagelayer\"/><g class=\"shapelayer\"/></g><g class=\"infolayer\"><g class=\"g-gtitle\"><text class=\"gtitle\" x=\"40\" y=\"30\" text-anchor=\"start\" dy=\"0em\" style=\"font-family: 'Open Sans', verdana, arial, sans-serif; font-size: 17px; fill: rgb(42, 63, 95); opacity: 1; font-weight: normal; white-space: pre;\">Tools For Data Science</text></g><g class=\"g-xtitle\"><text class=\"xtitle\" x=\"400\" y=\"487.721875\" text-anchor=\"middle\" style=\"font-family: 'Open Sans', verdana, arial, sans-serif; font-size: 14px; fill: rgb(42, 63, 95); opacity: 1; font-weight: normal; white-space: pre;\">Tool Name</text></g><g class=\"g-ytitle\"><text class=\"ytitle\" transform=\"rotate(-90,38.934375,226.5)\" x=\"38.934375\" y=\"226.5\" text-anchor=\"middle\" style=\"font-family: 'Open Sans', verdana, arial, sans-serif; font-size: 14px; fill: rgb(42, 63, 95); opacity: 1; font-weight: normal; white-space: pre;\">Count</text></g></g></svg>"
      ],
      "text/plain": [
       "<IPython.core.display.SVG object>"
      ]
     },
     "metadata": {},
     "output_type": "display_data"
    }
   ],
   "source": [
    "fig = px.bar(y=tools.Frequency,\n",
    "       x=tools.ToolName,\n",
    "       orientation='v',\n",
    "       color=tools.ToolName,\n",
    "       text=tools.Frequency,\n",
    "       color_discrete_sequence= px.colors.qualitative.Bold)\n",
    "\n",
    "fig.update_traces(texttemplate='%{text:.2s}', \n",
    "                  textposition='outside', \n",
    "                  marker_line_color='rgb(8,48,107)', \n",
    "                  marker_line_width=1.5, \n",
    "                  opacity=0.7)\n",
    "\n",
    "fig.update_layout(width=800, \n",
    "                  showlegend=False, \n",
    "                  xaxis_title=\"Tool Name\",\n",
    "                  yaxis_title=\"Count\",\n",
    "                  title=\"Tools For Data Science\")\n",
    "#fig.show()\n",
    "img_bytes = pio.to_image(fig, format=\"svg\")\n",
    "display(SVG(img_bytes))"
   ]
  },
  {
   "cell_type": "markdown",
   "metadata": {},
   "source": [
    "As expected the most popular language python in data science hold top position. R & sql are used in data analytics."
   ]
  },
  {
   "cell_type": "code",
   "execution_count": null,
   "metadata": {},
   "outputs": [],
   "source": [
    "fdist = FreqDist()\n",
    "summary_word=word_tokenize(' '.join(df_temp['Summary'].to_numpy()))\n",
    "for word in summary_word:\n",
    "    fdist[word.lower()] += 1"
   ]
  },
  {
   "cell_type": "code",
   "execution_count": null,
   "metadata": {},
   "outputs": [],
   "source": []
  },
  {
   "cell_type": "code",
   "execution_count": null,
   "metadata": {},
   "outputs": [],
   "source": [
    "number=[]\n",
    "for word in tool_keywords1:\n",
    "    number.append(round(fdist.freq(word)*len(summary_word)))"
   ]
  },
  {
   "cell_type": "code",
   "execution_count": null,
   "metadata": {},
   "outputs": [],
   "source": [
    "tools=pd.concat([pd.Series(tool_keywords1),pd.Series(number)],1,keys=['ToolName','Frequency'])\n",
    "tools=tools[tools['Frequency']!=0].sort_values('Frequency',ascending=False)"
   ]
  },
  {
   "cell_type": "code",
   "execution_count": null,
   "metadata": {},
   "outputs": [],
   "source": []
  },
  {
   "cell_type": "code",
   "execution_count": null,
   "metadata": {},
   "outputs": [],
   "source": []
  },
  {
   "cell_type": "code",
   "execution_count": null,
   "metadata": {},
   "outputs": [],
   "source": []
  },
  {
   "cell_type": "code",
   "execution_count": null,
   "metadata": {},
   "outputs": [],
   "source": []
  },
  {
   "cell_type": "code",
   "execution_count": null,
   "metadata": {},
   "outputs": [],
   "source": []
  },
  {
   "cell_type": "code",
   "execution_count": null,
   "metadata": {},
   "outputs": [],
   "source": []
  },
  {
   "cell_type": "code",
   "execution_count": null,
   "metadata": {},
   "outputs": [],
   "source": []
  },
  {
   "cell_type": "code",
   "execution_count": null,
   "metadata": {},
   "outputs": [],
   "source": []
  },
  {
   "cell_type": "code",
   "execution_count": 16,
   "metadata": {},
   "outputs": [
    {
     "name": "stdout",
     "output_type": "stream",
     "text": [
      "Requirement already satisfied: nltk in c:\\users\\user\\anaconda3\\lib\\site-packages (3.5)\n",
      "Requirement already satisfied: tqdm in c:\\users\\user\\anaconda3\\lib\\site-packages (from nltk) (4.50.2)\n",
      "Requirement already satisfied: joblib in c:\\users\\user\\anaconda3\\lib\\site-packages (from nltk) (0.17.0)\n",
      "Requirement already satisfied: regex in c:\\users\\user\\anaconda3\\lib\\site-packages (from nltk) (2020.10.15)\n",
      "Requirement already satisfied: click in c:\\users\\user\\anaconda3\\lib\\site-packages (from nltk) (7.1.2)\n",
      "Note: you may need to restart the kernel to use updated packages.\n"
     ]
    }
   ],
   "source": [
    "pip install nltk"
   ]
  },
  {
   "cell_type": "code",
   "execution_count": 17,
   "metadata": {},
   "outputs": [
    {
     "name": "stderr",
     "output_type": "stream",
     "text": [
      "[nltk_data] Downloading package punkt to\n",
      "[nltk_data]     C:\\Users\\User\\AppData\\Roaming\\nltk_data...\n",
      "[nltk_data]   Unzipping tokenizers\\punkt.zip.\n"
     ]
    },
    {
     "data": {
      "text/plain": [
       "True"
      ]
     },
     "execution_count": 17,
     "metadata": {},
     "output_type": "execute_result"
    }
   ],
   "source": [
    "nltk.download('punkt')"
   ]
  },
  {
   "cell_type": "code",
   "execution_count": null,
   "metadata": {},
   "outputs": [],
   "source": []
  }
 ],
 "metadata": {
  "kernelspec": {
   "display_name": "Python 3",
   "language": "python",
   "name": "python3"
  },
  "language_info": {
   "codemirror_mode": {
    "name": "ipython",
    "version": 3
   },
   "file_extension": ".py",
   "mimetype": "text/x-python",
   "name": "python",
   "nbconvert_exporter": "python",
   "pygments_lexer": "ipython3",
   "version": "3.8.5"
  }
 },
 "nbformat": 4,
 "nbformat_minor": 4
}
